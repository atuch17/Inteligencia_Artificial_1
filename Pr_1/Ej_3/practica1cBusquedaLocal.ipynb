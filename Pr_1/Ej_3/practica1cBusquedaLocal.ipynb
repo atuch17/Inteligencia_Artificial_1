{
 "cells": [
  {
   "cell_type": "markdown",
   "metadata": {},
   "source": [
    "##### Grupo 2 - ADRIÁN TURIEL CHARRO, HONG XIANG CHEN, PABLO CIDONCHA CÓZAR\n",
    "# Práctica 1C - Inteligencia Artificial\n",
    "## Belén Díaz Agudo -  Facultad de Informática UCM\n",
    "## Búsqueda local\n",
    "En esta primera parte usaremos ejercicios paso a paso para familiarizarnos con la resolución de problemas sencillos de optimización, como la maximización o minimización de una función, o el problema de la mochila o del viajante, problemas conocidos cuya resolución se ha abordado con técnicas algorítmicas y que vamos a resolver utilizando algoritmos de búsqueda local. En la segunda parte de la práctica se pide resolver el problema de la organización de jornadas informáticas dado en el enunciado."
   ]
  },
  {
   "cell_type": "code",
   "execution_count": 19,
   "metadata": {},
   "outputs": [
    {
     "name": "stdout",
     "output_type": "stream",
     "text": [
      "C:\\Users\\aturi\\Ejercicios Python\\Practica1\\aima-python\n"
     ]
    }
   ],
   "source": [
    "cd ../Practica1/aima-python"
   ]
  },
  {
   "cell_type": "markdown",
   "metadata": {},
   "source": [
    "## Parte 1. Algoritmo de escalada\n",
    "Hill Climbing es un algoritmo de búsqueda local heurística utilizada para problemas de optimización.\n",
    "Esta solución puede o no ser el óptimo global. El algoritmo es una variante del algoritmo de generación y prueba.\n",
    "<br>\n",
    "En general, el algoritmo funciona de la siguiente manera:\n",
    "- Evaluar el estado inicial.\n",
    "- Si es igual al estado del objetivo, terminamos.\n",
    "- Encuentra un estado vecino al estado actual\n",
    "- Evaluar este estado. Si está más cerca del estado objetivo que antes, reemplace el estado inicial con este estado y repita estos pasos.\n",
    "<br>\n",
    "Usaremos la implementación de AIMA que está en el módulo search.py\n",
    "\n",
    "    def hill_climbing(problem):\n",
    "        \"\"\"From the initial node, keep choosing the neighbor with highest value,\n",
    "        stopping when no neighbor is better. [Figure 4.2]\"\"\"\n",
    "        current = Node(problem.initial)\n",
    "        while True:\n",
    "            neighbors = current.expand(problem)\n",
    "            if not neighbors:\n",
    "                break\n",
    "            neighbor = argmax_random_tie(neighbors,\n",
    "                                     key=lambda node: problem.value(node.state))\n",
    "            if problem.value(neighbor.state) <= problem.value(current.state):\n",
    "                break\n",
    "            current = neighbor\n",
    "        return current.state\n"
   ]
  },
  {
   "cell_type": "markdown",
   "metadata": {},
   "source": [
    "### TSP (Travelling Salesman Problem): el problema del viajante\n",
    "Dado un conjunto de ciudades y la distancia entre cada par de ciudades, el problema es encontrar la ruta más corta posible que visite cada ciudad exactamente una vez y regrese al punto de partida. Es un problema NP hard. No existen una solución de coste polinomial. "
   ]
  },
  {
   "cell_type": "code",
   "execution_count": 20,
   "metadata": {},
   "outputs": [],
   "source": [
    "##Resolvereremos el problema del viajante TSP para encontrar una solución aproximada.\n",
    "from search import *\n",
    "\n",
    "class TSP_problem(Problem):\n",
    "\n",
    "    def two_opt(self, state):\n",
    "        \"\"\" Neighbour generating function for Traveling Salesman Problem \"\"\"\n",
    "        neighbour_state = state[:]\n",
    "        left = random.randint(0, len(neighbour_state) - 1)\n",
    "        right = random.randint(0, len(neighbour_state) - 1)\n",
    "        if left > right:\n",
    "            left, right = right, left\n",
    "        neighbour_state[left: right + 1] = reversed(neighbour_state[left: right + 1])\n",
    "        return neighbour_state\n",
    "\n",
    "    def actions(self, state):\n",
    "        \"\"\" action that can be excuted in given state \"\"\"\n",
    "        return [self.two_opt]\n",
    "\n",
    "    def result(self, state, action):\n",
    "        \"\"\"  result after applying the given action on the given state \"\"\"\n",
    "        return action(state)\n",
    "\n",
    "    def path_cost(self, c, state1, action, state2):\n",
    "        \"\"\" total distance for the Traveling Salesman to be covered if in state2  \"\"\"\n",
    "        cost = 0\n",
    "        for i in range(len(state2) - 1):\n",
    "            cost += distances[state2[i]][state2[i + 1]]\n",
    "        cost += distances[state2[0]][state2[-1]]\n",
    "        return cost\n",
    "\n",
    "    def value(self, state):\n",
    "        \"\"\" value of path cost given negative for the given state \"\"\"\n",
    "        return -1 * self.path_cost(None, None, None, state)"
   ]
  },
  {
   "cell_type": "code",
   "execution_count": 21,
   "metadata": {},
   "outputs": [],
   "source": [
    "## Resolveremos el TSP para las ciudades de la lista de ciudades de Rumanía.\n",
    "## ['Arad', 'Bucharest', 'Craiova', 'Drobeta', 'Eforie', 'Fagaras', 'Giurgiu', 'Hirsova', 'Iasi', 'Lugoj', 'Mehadia', 'Neamt', 'Oradea', 'Pitesti', 'Rimnicu', 'Sibiu', 'Timisoara', 'Urziceni', 'Vaslui', 'Zerind']"
   ]
  },
  {
   "cell_type": "code",
   "execution_count": 22,
   "metadata": {},
   "outputs": [],
   "source": [
    "# Usaremos la siguiente representacion del libro AIMA para el mapa de Rumanía.\n",
    "\n",
    "romania_map = UndirectedGraph(dict(\n",
    "    Arad=dict(Zerind=75, Sibiu=140, Timisoara=118),\n",
    "    Bucharest=dict(Urziceni=85, Pitesti=101, Giurgiu=90, Fagaras=211),\n",
    "    Craiova=dict(Drobeta=120, Rimnicu=146, Pitesti=138),\n",
    "    Drobeta=dict(Mehadia=75),\n",
    "    Eforie=dict(Hirsova=86),\n",
    "    Fagaras=dict(Sibiu=99),\n",
    "    Hirsova=dict(Urziceni=98),\n",
    "    Iasi=dict(Vaslui=92, Neamt=87),\n",
    "    Lugoj=dict(Timisoara=111, Mehadia=70),\n",
    "    Oradea=dict(Zerind=71, Sibiu=151),\n",
    "    Pitesti=dict(Rimnicu=97),\n",
    "    Rimnicu=dict(Sibiu=80),\n",
    "    Urziceni=dict(Vaslui=142)))\n",
    "\n",
    "romania_map.locations = dict(\n",
    "    Arad=(91, 492), Bucharest=(400, 327), Craiova=(253, 288),\n",
    "    Drobeta=(165, 299), Eforie=(562, 293), Fagaras=(305, 449),\n",
    "    Giurgiu=(375, 270), Hirsova=(534, 350), Iasi=(473, 506),\n",
    "    Lugoj=(165, 379), Mehadia=(168, 339), Neamt=(406, 537),\n",
    "    Oradea=(131, 571), Pitesti=(320, 368), Rimnicu=(233, 410),\n",
    "    Sibiu=(207, 457), Timisoara=(94, 410), Urziceni=(456, 350),\n",
    "    Vaslui=(509, 444), Zerind=(108, 531))"
   ]
  },
  {
   "cell_type": "markdown",
   "metadata": {},
   "source": [
    "Es bastante sencillo entender este `romania_map`. El primer nodo ** Arad ** tiene tres vecinos llamados ** Zerind **, ** Sibiu **, ** Timisoara **. Cada uno de estos nodos son 75, 140, 118 unidades aparte de ** Arad ** respectivamente. Y lo mismo ocurre con otros nodos.\n",
    "\n",
    "Y `romania_map.locations` contiene las posiciones de cada uno de los nodos. \n",
    "Como heurística se puede usar la distancia en línea recta o la distancia manhattan (que es diferente de la proporcionada en `romania_map`) entre dos ciudades."
   ]
  },
  {
   "cell_type": "code",
   "execution_count": 6,
   "metadata": {},
   "outputs": [
    {
     "name": "stdout",
     "output_type": "stream",
     "text": [
      "{'Arad': (91, 492), 'Bucharest': (400, 327), 'Craiova': (253, 288), 'Drobeta': (165, 299), 'Eforie': (562, 293), 'Fagaras': (305, 449), 'Giurgiu': (375, 270), 'Hirsova': (534, 350), 'Iasi': (473, 506), 'Lugoj': (165, 379), 'Mehadia': (168, 339), 'Neamt': (406, 537), 'Oradea': (131, 571), 'Pitesti': (320, 368), 'Rimnicu': (233, 410), 'Sibiu': (207, 457), 'Timisoara': (94, 410), 'Urziceni': (456, 350), 'Vaslui': (509, 444), 'Zerind': (108, 531)}\n"
     ]
    }
   ],
   "source": [
    "romania_locations = romania_map.locations\n",
    "print(romania_locations)"
   ]
  },
  {
   "cell_type": "code",
   "execution_count": 7,
   "metadata": {},
   "outputs": [],
   "source": [
    "# node colors, node positions and node label positions\n",
    "node_colors = {node: 'white' for node in romania_map.locations.keys()}\n",
    "node_positions = romania_map.locations\n",
    "node_label_pos = { k:[v[0],v[1]-10]  for k,v in romania_map.locations.items() }\n",
    "edge_weights = {(k, k2) : v2 for k, v in romania_map.graph_dict.items() for k2, v2 in v.items()}\n",
    "\n",
    "romania_graph_data = {  'graph_dict' : romania_map.graph_dict,\n",
    "                        'node_colors': node_colors,\n",
    "                        'node_positions': node_positions,\n",
    "                        'node_label_positions': node_label_pos,\n",
    "                         'edge_weights': edge_weights\n",
    "                     }"
   ]
  },
  {
   "cell_type": "code",
   "execution_count": 8,
   "metadata": {},
   "outputs": [],
   "source": [
    "from IPython.display import HTML\n",
    "from IPython.display import display\n",
    "from PIL import Image\n",
    "from matplotlib import lines\n",
    "import ipywidgets as widgets\n",
    "import matplotlib.pyplot as plt\n",
    "import networkx as nx\n",
    "import numpy as np"
   ]
  },
  {
   "cell_type": "code",
   "execution_count": 9,
   "metadata": {},
   "outputs": [],
   "source": [
    "def show_map(graph_data, node_colors=None):\n",
    "    G = nx.Graph(graph_data['graph_dict'])\n",
    "    node_colors = node_colors or graph_data['node_colors']\n",
    "    node_positions = graph_data['node_positions']\n",
    "    node_label_pos = graph_data['node_label_positions']\n",
    "    edge_weights = graph_data['edge_weights']\n",
    "\n",
    "    # set the size of the plot\n",
    "    plt.figure(figsize=(18, 13))\n",
    "    # draw the graph (both nodes and edges) with locations from romania_locations\n",
    "    nx.draw(G, pos={k: node_positions[k] for k in G.nodes()},\n",
    "            node_color=[node_colors[node] for node in G.nodes()], linewidths=0.3, edgecolors='k')\n",
    "\n",
    "    # draw labels for nodes\n",
    "    node_label_handles = nx.draw_networkx_labels(G, pos=node_label_pos, font_size=14)\n",
    "\n",
    "    # add a white bounding box behind the node labels\n",
    "    [label.set_bbox(dict(facecolor='white', edgecolor='none')) for label in node_label_handles.values()]\n",
    "\n",
    "    # add edge lables to the graph\n",
    "    nx.draw_networkx_edge_labels(G, pos=node_positions, edge_labels=edge_weights, font_size=14)\n",
    "\n",
    "    # add a legend\n",
    "    white_circle = lines.Line2D([], [], color=\"white\", marker='o', markersize=15, markerfacecolor=\"white\")\n",
    "    orange_circle = lines.Line2D([], [], color=\"orange\", marker='o', markersize=15, markerfacecolor=\"orange\")\n",
    "    red_circle = lines.Line2D([], [], color=\"red\", marker='o', markersize=15, markerfacecolor=\"red\")\n",
    "    gray_circle = lines.Line2D([], [], color=\"gray\", marker='o', markersize=15, markerfacecolor=\"gray\")\n",
    "    green_circle = lines.Line2D([], [], color=\"green\", marker='o', markersize=15, markerfacecolor=\"green\")\n",
    "    plt.legend((white_circle, orange_circle, red_circle, gray_circle, green_circle),\n",
    "               ('Un-explored', 'Frontier', 'Currently Exploring', 'Explored', 'Final Solution'),\n",
    "               numpoints=1, prop={'size': 16}, loc=(.8, .75))\n",
    "\n",
    "    # show the plot. No need to use in notebooks. nx.draw will show the graph itself.\n",
    "    plt.show()"
   ]
  },
  {
   "cell_type": "code",
   "execution_count": 10,
   "metadata": {},
   "outputs": [
    {
     "data": {
      "image/png": "[encoded data removed]",
      "text/plain": [
       "<Figure size 1296x936 with 1 Axes>"
      ]
     },
     "metadata": {},
     "output_type": "display_data"
    }
   ],
   "source": [
    "show_map(romania_graph_data)"
   ]
  },
  {
   "cell_type": "code",
   "execution_count": 11,
   "metadata": {},
   "outputs": [
    {
     "name": "stdout",
     "output_type": "stream",
     "text": [
      "['Arad', 'Bucharest', 'Craiova', 'Drobeta', 'Eforie', 'Fagaras', 'Giurgiu', 'Hirsova', 'Iasi', 'Lugoj', 'Mehadia', 'Neamt', 'Oradea', 'Pitesti', 'Rimnicu', 'Sibiu', 'Timisoara', 'Urziceni', 'Vaslui', 'Zerind']\n"
     ]
    }
   ],
   "source": [
    "## el siguiente código crea un diccionario y calcula y añade al diccionario la distancia manhattan entre las ciudades. \n",
    "import numpy as np\n",
    "\n",
    "distances = {}\n",
    "all_cities = []\n",
    "\n",
    "for city in romania_map.locations.keys():\n",
    "    distances[city] = {}\n",
    "    all_cities.append(city)\n",
    "    \n",
    "all_cities.sort()\n",
    "print(all_cities)\n",
    "\n",
    "for name_1, coordinates_1 in romania_map.locations.items():\n",
    "        for name_2, coordinates_2 in romania_map.locations.items():\n",
    "            distances[name_1][name_2] = np.linalg.norm(\n",
    "                [coordinates_1[0] - coordinates_2[0], coordinates_1[1] - coordinates_2[1]])\n",
    "            distances[name_2][name_1] = np.linalg.norm(\n",
    "                [coordinates_1[0] - coordinates_2[0], coordinates_1[1] - coordinates_2[1]])"
   ]
  },
  {
   "cell_type": "code",
   "execution_count": 12,
   "metadata": {},
   "outputs": [],
   "source": [
    "# Creamos una instancia del problema TSP con la lista de ciudades anterior que se na extraido del mapa.\n",
    "# En el mapa hay informacion de las distancias que se utilizan en la clase TSP_problem para calcular el coste y las heurísticas.\n",
    "tsp = TSP_problem(all_cities)"
   ]
  },
  {
   "cell_type": "code",
   "execution_count": 13,
   "metadata": {},
   "outputs": [],
   "source": [
    "## Redefinimos el hill climbing de AIMA\n",
    "def hill_climbing_max(problem):\n",
    "    \n",
    "    \"\"\"From the initial node, keep choosing the neighbor with highest value,\n",
    "    stopping when no neighbor is better. [Figure 4.2]\"\"\"\n",
    "    \n",
    "    def find_neighbors(state, number_of_neighbors=100):\n",
    "        \"\"\" finds neighbors using two_opt method \"\"\"\n",
    "        \n",
    "        neighbors = []\n",
    "        \n",
    "        for i in range(number_of_neighbors):\n",
    "            new_state = problem.two_opt(state)\n",
    "            neighbors.append(Node(new_state))\n",
    "            state = new_state\n",
    "            \n",
    "        return neighbors\n",
    "\n",
    "    # as this is a stochastic algorithm, we will set a cap on the number of iterations\n",
    "    iterations = 10000\n",
    "    \n",
    "    current = Node(problem.initial)\n",
    "    while iterations:\n",
    "        neighbors = find_neighbors(current.state)\n",
    "        if not neighbors:\n",
    "            break\n",
    "        neighbor = argmax_random_tie(neighbors,\n",
    "                                     key=lambda node: problem.value(node.state))        \n",
    "        if problem.value(neighbor.state) <= problem.value(current.state):\n",
    "            current.state = neighbor.state\n",
    "        iterations -= 1\n",
    "        \n",
    "    return current.state"
   ]
  },
  {
   "cell_type": "code",
   "execution_count": 14,
   "metadata": {},
   "outputs": [
    {
     "data": {
      "text/plain": [
       "['Arad',\n",
       " 'Bucharest',\n",
       " 'Craiova',\n",
       " 'Drobeta',\n",
       " 'Eforie',\n",
       " 'Fagaras',\n",
       " 'Giurgiu',\n",
       " 'Hirsova',\n",
       " 'Iasi',\n",
       " 'Lugoj',\n",
       " 'Mehadia',\n",
       " 'Neamt',\n",
       " 'Oradea',\n",
       " 'Pitesti',\n",
       " 'Rimnicu',\n",
       " 'Sibiu',\n",
       " 'Timisoara',\n",
       " 'Urziceni',\n",
       " 'Vaslui',\n",
       " 'Zerind']"
      ]
     },
     "execution_count": 14,
     "metadata": {},
     "output_type": "execute_result"
    }
   ],
   "source": [
    "# Y lo resolvemos con escalada. \n",
    "hill_climbing(tsp)"
   ]
  },
  {
   "cell_type": "markdown",
   "metadata": {},
   "source": [
    "### Ejercicio 1. Resuelve el problema TSP con el algoritmo de escalada por máxima pendiente en el mapa de ciudades de Rumanía y explica el resultado obtenido. \n",
    "\n",
    "#### a) Realiza un análisis razonado de las propiedades del algoritmo: eficiencia y optimalidad en base a la ejecución. \n",
    "\n",
    "Los algoritmos de escalada no son completos, el óptimo global puede no ser alcanzado ya que desde el nodo en el que estamos, si no hay una solución mejor, finaliza ahí la ejecución. Tampoco son algoritmos óptimos pues podemos quedarnos bloqueados en óptimos locales. Aun así, garantizamos encontrar una solución ya sea mejor o peor, pues limitamos el número de iteraciones (10.000).\n",
    "\n",
    "Según el funcionamiento del algoritmo, calculamos la distancia euclídea de dos ciudades, es decir una línea recta entre esos dos puntos del mapa, sin tener en cuenta si realmente existe o no esa carretera en el grafo. Por eso, dadas dos ciudades, hay que calcular el recorrido más corto por el grafo.\n",
    "\n",
    "\n",
    "#### b) ¿Ha encontrado el algoritmo el óptimo global? ¿Ha encontrado la misma solución en distintas ejecuciones?\n",
    "\n",
    "Sera muy complicado de encontrar el algoritmo del óptimo global, por la gran cantidad de ciudades que hay, en concreto 20, esto significa permutaciones de 20, que equivale a 10^18 posibles soluciones, entonces, una vez encontrado una solución con cierta optimalidad, es difícil de encontrar una solución más optima, ya que la posibilidad de encontrar una mejor aleatoriamente se reduce."
   ]
  },
  {
   "cell_type": "code",
   "execution_count": 15,
   "metadata": {},
   "outputs": [
    {
     "data": {
      "text/plain": [
       "['Fagaras',\n",
       " 'Mehadia',\n",
       " 'Vaslui',\n",
       " 'Sibiu',\n",
       " 'Iasi',\n",
       " 'Eforie',\n",
       " 'Arad',\n",
       " 'Oradea',\n",
       " 'Rimnicu',\n",
       " 'Urziceni',\n",
       " 'Timisoara',\n",
       " 'Giurgiu',\n",
       " 'Drobeta',\n",
       " 'Craiova',\n",
       " 'Neamt',\n",
       " 'Hirsova',\n",
       " 'Bucharest',\n",
       " 'Pitesti',\n",
       " 'Lugoj',\n",
       " 'Zerind']"
      ]
     },
     "execution_count": 15,
     "metadata": {},
     "output_type": "execute_result"
    }
   ],
   "source": [
    "sol1 = hill_climbing_max(tsp)\n",
    "sol1"
   ]
  },
  {
   "cell_type": "code",
   "execution_count": 16,
   "metadata": {},
   "outputs": [
    {
     "data": {
      "text/plain": [
       "['Timisoara',\n",
       " 'Craiova',\n",
       " 'Lugoj',\n",
       " 'Bucharest',\n",
       " 'Oradea',\n",
       " 'Vaslui',\n",
       " 'Hirsova',\n",
       " 'Giurgiu',\n",
       " 'Urziceni',\n",
       " 'Zerind',\n",
       " 'Pitesti',\n",
       " 'Rimnicu',\n",
       " 'Fagaras',\n",
       " 'Drobeta',\n",
       " 'Sibiu',\n",
       " 'Neamt',\n",
       " 'Eforie',\n",
       " 'Mehadia',\n",
       " 'Iasi',\n",
       " 'Arad']"
      ]
     },
     "execution_count": 16,
     "metadata": {},
     "output_type": "execute_result"
    }
   ],
   "source": [
    "sol2 = hill_climbing_max(tsp)\n",
    "sol2"
   ]
  },
  {
   "cell_type": "code",
   "execution_count": 19,
   "metadata": {},
   "outputs": [
    {
     "data": {
      "text/plain": [
       "['Vaslui',\n",
       " 'Bucharest',\n",
       " 'Eforie',\n",
       " 'Mehadia',\n",
       " 'Sibiu',\n",
       " 'Rimnicu',\n",
       " 'Hirsova',\n",
       " 'Urziceni',\n",
       " 'Zerind',\n",
       " 'Fagaras',\n",
       " 'Drobeta',\n",
       " 'Lugoj',\n",
       " 'Giurgiu',\n",
       " 'Timisoara',\n",
       " 'Pitesti',\n",
       " 'Arad',\n",
       " 'Neamt',\n",
       " 'Iasi',\n",
       " 'Craiova',\n",
       " 'Oradea']"
      ]
     },
     "execution_count": 19,
     "metadata": {},
     "output_type": "execute_result"
    }
   ],
   "source": [
    "sol3 = hill_climbing_max(tsp)\n",
    "sol3"
   ]
  },
  {
   "cell_type": "code",
   "execution_count": 18,
   "metadata": {},
   "outputs": [
    {
     "data": {
      "text/plain": [
       "['Pitesti',\n",
       " 'Craiova',\n",
       " 'Sibiu',\n",
       " 'Vaslui',\n",
       " 'Neamt',\n",
       " 'Arad',\n",
       " 'Eforie',\n",
       " 'Urziceni',\n",
       " 'Mehadia',\n",
       " 'Drobeta',\n",
       " 'Timisoara',\n",
       " 'Zerind',\n",
       " 'Iasi',\n",
       " 'Fagaras',\n",
       " 'Lugoj',\n",
       " 'Giurgiu',\n",
       " 'Oradea',\n",
       " 'Hirsova',\n",
       " 'Rimnicu',\n",
       " 'Bucharest']"
      ]
     },
     "execution_count": 18,
     "metadata": {},
     "output_type": "execute_result"
    }
   ],
   "source": [
    "sol4 = hill_climbing_max(tsp)\n",
    "sol4"
   ]
  },
  {
   "cell_type": "code",
   "execution_count": 22,
   "metadata": {},
   "outputs": [
    {
     "data": {
      "text/plain": [
       "['Urziceni',\n",
       " 'Zerind',\n",
       " 'Vaslui',\n",
       " 'Drobeta',\n",
       " 'Pitesti',\n",
       " 'Lugoj',\n",
       " 'Giurgiu',\n",
       " 'Bucharest',\n",
       " 'Fagaras',\n",
       " 'Timisoara',\n",
       " 'Iasi',\n",
       " 'Mehadia',\n",
       " 'Craiova',\n",
       " 'Hirsova',\n",
       " 'Eforie',\n",
       " 'Neamt',\n",
       " 'Oradea',\n",
       " 'Sibiu',\n",
       " 'Rimnicu',\n",
       " 'Arad']"
      ]
     },
     "execution_count": 22,
     "metadata": {},
     "output_type": "execute_result"
    }
   ],
   "source": [
    "sol5 = hill_climbing_max(tsp)\n",
    "sol5"
   ]
  },
  {
   "cell_type": "markdown",
   "metadata": {},
   "source": [
    "Tras numerosas ejecuciones, comprobamos que hay una gran diversidad de soluciones."
   ]
  },
  {
   "cell_type": "markdown",
   "metadata": {},
   "source": [
    "#### c) Sólo se pide hacer una comparativa teórica (breve) con cómo se comporta este algoritmo y relacionarlo con otros algoritmos vistos en clase. \n",
    "En escalada simple vamos avanzando a medida que vamos encontrando un sucesor mejor que el actual, y en escalada de máxima pendiente analizamos todos los hijos y nos quedamos con el mejor. Como solución a estos, con el algoritmo de haz local, realizamos los mismos pasos que en escalada, solo que lo hacemos para k nodos inicialmente, y si uno de esos se bloquea seguimos por los otros. Otra alternativa seria usar el algoritmo de enfriamiento simulado, el cual nos permite ir a estados peores en función de unas probabilidades con el fin de no quedarnos atascados en máximos locales.\n",
    "\n",
    "#### d) Opcionalmente se puede hacer la comparativa real con algún algoritmo de búsqueda exhaustiva. \n",
    "Entre los algoritmos de búsqueda exhaustiva esta; búsqueda en anchura y en profundidad. Los algoritmos de escaladas funcionan como primero en profundidad guiados por la heurística, pero sólo descienden si mejora y no hay vuelta atrás."
   ]
  },
  {
   "cell_type": "markdown",
   "metadata": {},
   "source": [
    "## Parte 2. Enfriamiento simulado ( simulated annealing) \n",
    "El algoritmo de enfriamiento simulado puede manejar las situaciones de óptimo local o mesetas típicas en algoritmos de escalada.\n",
    "<br>\n",
    "El enfriamiento simulado es bastante similar al de escalada pero en lugar de elegir el mejor movimiento en cada iteración, elige un movimiento aleatorio. Si este movimiento aleatorio nos acerca al óptimo global, será aceptado, pero si no lo hace, el algoritmo puede aceptar o rechazar el movimiento en función de una probabilidad dictada por la temperatura.  Cuando la `temperatura` es alta, es más probable que el algoritmo acepte un movimiento aleatorio incluso si es malo. A bajas temperaturas, solo se aceptan buenos movimientos, con alguna excepción ocasional.\n",
    "Esto permite la exploración del espacio de estado y evita que el algoritmo se atasque en el óptimo local.\n",
    "\n",
    "    Usaremos la implementación de AIMA del modulo search.py\n",
    "    \n",
    "    def simulated_annealing(problem, schedule=exp_schedule()):\n",
    "    \"\"\"[Figure 4.5] CAUTION: This differs from the pseudocode as it\n",
    "    returns a state instead of a Node.\"\"\"\n",
    "    current = Node(problem.initial)\n",
    "    for t in range(sys.maxsize):\n",
    "        T = schedule(t)\n",
    "        if T == 0:\n",
    "            return current.state\n",
    "        neighbors = current.expand(problem)\n",
    "        if not neighbors:\n",
    "            return current.state\n",
    "        next_choice = random.choice(neighbors)\n",
    "        delta_e = problem.value(next_choice.state) - problem.value(current.state)\n",
    "        if delta_e > 0 or probability(math.exp(delta_e / T)):\n",
    "            current = next_choice"
   ]
  },
  {
   "cell_type": "markdown",
   "metadata": {},
   "source": [
    "Como hemos visto en clase hay varios métodos de enfriamiento (scheduling routine) \n",
    "Se puede variar el método de enfriamiento. En la implementación actual estamos usando el método de enfriamiento exponencial (que se pasa como parámetro). \n",
    "\n",
    "    def exp_schedule(k=20, lam=0.005, limit=100):\n",
    "        \"\"\"One possible schedule function for simulated annealing\"\"\"\n",
    "        return lambda t: (k * math.exp(-lam * t) if t < limit else 0)"
   ]
  },
  {
   "cell_type": "markdown",
   "metadata": {},
   "source": [
    "Como ejemplo, vamos a definir un problema sencillo de encontrar el punto más alto en una rejilla. Este problema está definido en el módulo search.py como PeakFindingProblem. Lo reproducimos aquí y creamos una rejilla simple."
   ]
  },
  {
   "cell_type": "code",
   "execution_count": 23,
   "metadata": {},
   "outputs": [],
   "source": [
    "initial = (0, 0)\n",
    "grid = [[3, 7, 2, 8], [5, 2, 9, 1], [5, 3, 3, 1]]"
   ]
  },
  {
   "cell_type": "code",
   "execution_count": 24,
   "metadata": {},
   "outputs": [],
   "source": [
    "# Pre-defined actions for PeakFindingProblem\n",
    "directions4 = { 'W':(-1, 0), 'N':(0, 1), 'E':(1, 0), 'S':(0, -1) }\n",
    "directions8 = dict(directions4) \n",
    "directions8.update({'NW':(-1, 1), 'NE':(1, 1), 'SE':(1, -1), 'SW':(-1, -1) })\n",
    "\n",
    "class PeakFindingProblem(Problem):\n",
    "    \"\"\"Problem of finding the highest peak in a limited grid\"\"\"\n",
    "\n",
    "    def __init__(self, initial, grid, defined_actions=directions4):\n",
    "        \"\"\"The grid is a 2 dimensional array/list whose state is specified by tuple of indices\"\"\"\n",
    "        Problem.__init__(self, initial)\n",
    "        self.grid = grid\n",
    "        self.defined_actions = defined_actions\n",
    "        self.n = len(grid)\n",
    "        assert self.n > 0\n",
    "        self.m = len(grid[0])\n",
    "        assert self.m > 0\n",
    "\n",
    "    def actions(self, state):\n",
    "        \"\"\"Returns the list of actions which are allowed to be taken from the given state\"\"\"\n",
    "        allowed_actions = []\n",
    "        for action in self.defined_actions:\n",
    "            next_state = vector_add(state, self.defined_actions[action])\n",
    "            if next_state[0] >= 0 and next_state[1] >= 0 and next_state[0] <= self.n - 1 and next_state[1] <= self.m - 1:\n",
    "                allowed_actions.append(action)\n",
    "\n",
    "        return allowed_actions\n",
    "\n",
    "    def result(self, state, action):\n",
    "        \"\"\"Moves in the direction specified by action\"\"\"\n",
    "        return vector_add(state, self.defined_actions[action])\n",
    "\n",
    "    def value(self, state):\n",
    "        \"\"\"Value of a state is the value it is the index to\"\"\"\n",
    "        x, y = state\n",
    "        assert 0 <= x < self.n\n",
    "        assert 0 <= y < self.m\n",
    "        return self.grid[x][y]\n"
   ]
  },
  {
   "cell_type": "code",
   "execution_count": 25,
   "metadata": {},
   "outputs": [],
   "source": [
    "problem = PeakFindingProblem(initial, grid, directions4)"
   ]
  },
  {
   "cell_type": "code",
   "execution_count": 26,
   "metadata": {},
   "outputs": [
    {
     "data": {
      "text/plain": [
       "9"
      ]
     },
     "execution_count": 26,
     "metadata": {},
     "output_type": "execute_result"
    }
   ],
   "source": [
    "# Lo resolvemos con enfriamiento simulado\n",
    "\n",
    "solutions = {problem.value(simulated_annealing(problem)) for i in range(100)}\n",
    "max(solutions)"
   ]
  },
  {
   "cell_type": "code",
   "execution_count": 27,
   "metadata": {},
   "outputs": [],
   "source": [
    "def hill_climbing(problem):\n",
    "    \"\"\"From the initial node, keep choosing the neighbor with highest value,\n",
    "    stopping when no neighbor is better. [Figure 4.2]\"\"\"\n",
    "    current = Node(problem.initial)\n",
    "    while True:\n",
    "        neighbors = current.expand(problem)\n",
    "        if not neighbors:\n",
    "            break\n",
    "        neighbor = argmax_random_tie(neighbors,\n",
    "                                     key=lambda node: problem.value(node.state))\n",
    "        if problem.value(neighbor.state) <= problem.value(current.state):\n",
    "            break\n",
    "        current = neighbor\n",
    "    return current.state"
   ]
  },
  {
   "cell_type": "code",
   "execution_count": 28,
   "metadata": {},
   "outputs": [
    {
     "data": {
      "text/plain": [
       "7"
      ]
     },
     "execution_count": 28,
     "metadata": {},
     "output_type": "execute_result"
    }
   ],
   "source": [
    "solution = problem.value(hill_climbing(problem))\n",
    "solution"
   ]
  },
  {
   "cell_type": "markdown",
   "metadata": {},
   "source": [
    "### Ejercicio 2.  Resuelve el problema anterior de encontrar el punto máximo en una rejilla. Comenta y razona los resultados obtenidos en distintas rejjillas con los algoritmos de enfriamiento simulado y escalada por máxima pendiente. \n",
    " \n",
    " \n",
    "Ejemplo de rejilla para pruebas\n",
    "\n",
    "grid = [[0.00, 0.00, 0.00, 0.00, 0.00, 0.00, 0.00, 0.00, 0.00],\n",
    "        [0.00, 0.00, 0.00, 0.00, 0.00, 0.00, 0.00, 0.00, 0.00],\n",
    "        [0.00, 0.00, 0.00, 0.40, 0.40, 0.00, 0.00, 0.00, 0.00],\n",
    "        [0.00, 0.00, 0.00, 0.00, 0.00, 0.00, 0.00, 0.70, 1.40],\n",
    "        [2.20, 1.80, 0.70, 0.00, 0.00, 0.00, 0.00, 0.00, 0.00],\n",
    "        [2.20, 1.80, 4.70, 6.50, 4.30, 1.80, 0.70, 0.00, 0.00],\n",
    "        [0.00, 0.00, 0.00, 0.00, 0.00, 0.00, 11.2, 0.70, 1.40],\n",
    "        [2.20, 1.80, 0.70, 0.00, 0.00, 9.00, 0.00, 0.00, 0.00],\n",
    "        [2.20, 1.80, 4.70, 6.50, 4.30, 1.80, 0.70, 0.00, 0.00],\n",
    "        [0.00, 0.00, 0.00, 0.00, 0.00, 0.00, 0.00, 0.70, 1.40],\n",
    "        [2.20, 1.80, 0.70, 0.00, 0.00, 0.00, 0.00, 0.00, 0.00],\n",
    "        [2.20, 1.80, 4.70, 8.50, 4.30, 1.80, 0.70, 0.00, 0.00]]\n"
   ]
  },
  {
   "cell_type": "markdown",
   "metadata": {},
   "source": [
    "El objetivo del enfriamiento simulado es no estancarse en ninguna meseta ni óptimo local.\n",
    "Por eso elije el siguiente movimiento de manera aleatoria, pudiendo ser mejor o peor que el actual, y este será aceptado o no, en función de unas probabilidades previamente definidas.\n",
    "\n",
    "En el caso del ejemplo nos devuelve 11.2 ya que es el caso el punto más alto de la rejilla. El resultado va a ser el mismo independientemente de que el tercer parámetro sea directions4 ó directions8, gracias a la aleatoriedad del movimiento realizado. \n",
    "\n",
    "Por otro lado, la escalada de máxima pendiente va comparando el elemento actual con sus elementos vecinos, si el vecino es mejor se queda con ese y vuelve a hacer la comparación, si el actual es el mejor devuelve ese, si el tercer parámetro es directions4 sus elementos vecinos son los elementos de arriba, abajo, izquierda y derecha, en cambio si el tercer parámetro es directions8, además de esos también se tendrán en cuenta sus diagonales. \n",
    "\n",
    "En este caso independientemente de este último parámetro el resultado obtenido va a ser 0.0 ya que el primer elemento es 0.0 y está rodeado por lo mismo. EL principal problema del hill climbing es que se puede quedar estancado muy pronto y no devolverte una buena solución, como ocurre en este ejemplo, que deja muchos casos por explorar y se estanca demasiado pronto.\n"
   ]
  },
  {
   "cell_type": "markdown",
   "metadata": {},
   "source": [
    "## Parte 3. Algoritmos genéticos\n"
   ]
  },
  {
   "cell_type": "markdown",
   "metadata": {},
   "source": [
    "Se define una clase ProblemaGenetico que incluye los elementos necesarios para la representación de un problema de optimización que se va a resolver con un algoritmo genético. Los elementos son los que hemos visto en clase:\n",
    "\n",
    " - genes: lista de genes usados en el genotipo de los estados.\n",
    " - longitud_individuos: longitud de los cromosomas\n",
    " - decodifica: función de obtiene el fenotipo a partir del genotipo.\n",
    " - fitness: función de valoración.\n",
    " - muta: función de mutación de un cromosoma \n",
    " - cruza: función de cruce de un par de cromosomas"
   ]
  },
  {
   "cell_type": "code",
   "execution_count": 29,
   "metadata": {},
   "outputs": [],
   "source": [
    "import random"
   ]
  },
  {
   "cell_type": "code",
   "execution_count": 23,
   "metadata": {},
   "outputs": [],
   "source": [
    "class ProblemaGenetico(object):\n",
    "        def __init__(self, genes,fun_dec,fun_muta , fun_cruza, fun_fitness,longitud_individuos):\n",
    "            self.genes = genes\n",
    "            self.fun_dec = fun_dec\n",
    "            self.fun_cruza = fun_cruza\n",
    "            self.fun_muta = fun_muta\n",
    "            self.fun_fitness = fun_fitness\n",
    "            self.longitud_individuos = longitud_individuos\n",
    "            \"\"\"Constructor de la clase\"\"\"\n",
    "                \n",
    "        def decodifica(self, genotipo):\n",
    "            \"\"\"Devuelve el fenotipo a partir del genotipo\"\"\"\n",
    "            fenotipo = self.fun_dec(genotipo)\n",
    "            return fenotipo\n",
    "        def muta(self, cromosoma,prob):\n",
    "            \"\"\"Devuelve el cromosoma mutado\"\"\"   \n",
    "            mutante = self.fun_muta(cromosoma,prob)\n",
    "            return mutante\n",
    "        def cruza(self, cromosoma1, cromosoma2):         \n",
    "            \"\"\"Devuelve el cruce de un par de cromosomas\"\"\"\n",
    "            cruce = self.fun_cruza(cromosoma1,cromosoma2)\n",
    "            return cruce \n",
    "        def fitness(self, cromosoma):    \n",
    "            \"\"\"Función de valoración\"\"\"\n",
    "            valoracion = self.fun_fitness(cromosoma)\n",
    "            return valoracion"
   ]
  },
  {
   "cell_type": "markdown",
   "metadata": {},
   "source": [
    "En primer lugar vamos a definir una instancia de la clase anterior correspondiente al problema de optimizar (maximizar o minimizar) la función cuadrado x^2 en el conjunto de los números naturales menores que 2^{10}.\n",
    "Se usa este ejemplo (del que sabemos la solución) para ver todos los elementos y poder observar el comportamiento. \n"
   ]
  },
  {
   "cell_type": "code",
   "execution_count": 27,
   "metadata": {},
   "outputs": [],
   "source": [
    "# Será necesaria la siguiente función que interpreta una lista de 0's y 1's como un número natural:  \n",
    "# La siguiente función que interpreta una lista de 0's y 1's como\n",
    "# un número natural:  \n",
    "\n",
    "def binario_a_decimal(x):\n",
    "    return sum(b*(2**i) for (i,b) in enumerate(x)) "
   ]
  },
  {
   "cell_type": "code",
   "execution_count": 28,
   "metadata": {},
   "outputs": [
    {
     "data": {
      "text/plain": [
       "[(0, 1), (1, 0), (2, 0)]"
      ]
     },
     "execution_count": 28,
     "metadata": {},
     "output_type": "execute_result"
    }
   ],
   "source": [
    "list(enumerate([1, 0, 0]))"
   ]
  },
  {
   "cell_type": "code",
   "execution_count": 29,
   "metadata": {},
   "outputs": [],
   "source": [
    "# En primer luegar usaremos la clase anterior para representar el problema de optimizar (maximizar o minimizar)\n",
    "# la función cuadrado en el conjunto de los números naturales menores que\n",
    "# 2^{10}.\n",
    "\n",
    "# Tenemos que definir funciones de cruce, mutación y fitness para este problema.\n",
    "\n",
    "def fun_cruzar(cromosoma1, cromosoma2):\n",
    "    \"\"\"Cruza los cromosomas por la mitad\"\"\"\n",
    "    l1 = len(cromosoma1)\n",
    "    l2 = len(cromosoma2)\n",
    "    cruce1 = cromosoma1[0:l1//2]+cromosoma2[l1//2:l2]\n",
    "    cruce2 = cromosoma2[0:l2//2]+cromosoma1[l2//2:l1]\n",
    "    return [cruce1,cruce2]\n",
    "\n",
    "def fun_mutar(cromosoma,prob):\n",
    "    \"\"\"Elige un elemento al azar del cromosoma y lo modifica con una probabilidad igual a prob\"\"\"\n",
    "    l = len(cromosoma)\n",
    "    p = random.randint(0,l-1)\n",
    "    if prob > random.uniform(0,1):\n",
    "        cromosoma[p] =  (cromosoma[p]+1)%2\n",
    "    return cromosoma\n",
    "\n",
    "def fun_fitness_cuad(cromosoma):\n",
    "    \"\"\"Función de valoración que eleva al cuadrado el número recibido en binario\"\"\"\n",
    "    n = binario_a_decimal(cromosoma)**2\n",
    "    return n\n",
    "\n",
    "cuadrados = ProblemaGenetico([0,1],binario_a_decimal,fun_mutar, fun_cruzar, fun_fitness_cuad,10)"
   ]
  },
  {
   "cell_type": "code",
   "execution_count": 34,
   "metadata": {},
   "outputs": [
    {
     "data": {
      "text/plain": [
       "1329"
      ]
     },
     "execution_count": 34,
     "metadata": {},
     "output_type": "execute_result"
    }
   ],
   "source": [
    "cuadrados.decodifica([1,0,0,0,1,1,0,0,1,0,1])\n",
    "# Salida esperada: 1329"
   ]
  },
  {
   "cell_type": "code",
   "execution_count": 35,
   "metadata": {},
   "outputs": [
    {
     "data": {
      "text/plain": [
       "1766241"
      ]
     },
     "execution_count": 35,
     "metadata": {},
     "output_type": "execute_result"
    }
   ],
   "source": [
    "cuadrados.fitness([1,0,0,0,1,1,0,0,1,0,1])\n",
    "# Salida esperada: 1766241"
   ]
  },
  {
   "cell_type": "code",
   "execution_count": 36,
   "metadata": {},
   "outputs": [
    {
     "data": {
      "text/plain": [
       "[1, 0, 0, 0, 1, 1, 1, 0, 1, 0, 1]"
      ]
     },
     "execution_count": 36,
     "metadata": {},
     "output_type": "execute_result"
    }
   ],
   "source": [
    "cuadrados.muta([1,0,0,0,1,1,0,0,1,0,1],0.1)\n",
    "# Posible salida: [1, 0, 0, 0, 1, 1, 0, 0, 1, 0, 1]"
   ]
  },
  {
   "cell_type": "code",
   "execution_count": 37,
   "metadata": {},
   "outputs": [
    {
     "data": {
      "text/plain": [
       "[1, 0, 0, 0, 1, 1, 0, 0, 1, 0, 1]"
      ]
     },
     "execution_count": 37,
     "metadata": {},
     "output_type": "execute_result"
    }
   ],
   "source": [
    "cuadrados.muta([1,0,0,0,1,1,0,0,1,0,1],0.1)\n",
    "# Posible salida: [0, 0, 0, 0, 1, 1, 0, 0, 1, 0, 1]"
   ]
  },
  {
   "cell_type": "code",
   "execution_count": 38,
   "metadata": {},
   "outputs": [
    {
     "data": {
      "text/plain": [
       "[[1, 0, 0, 0, 1, 0, 0, 1, 1, 1], [0, 1, 1, 0, 1, 1, 0, 0, 1, 0, 1]]"
      ]
     },
     "execution_count": 38,
     "metadata": {},
     "output_type": "execute_result"
    }
   ],
   "source": [
    "cuadrados.cruza([1,0,0,0,1,1,0,0,1,0,1],[0,1,1,0,1,0,0,1,1,1])\n",
    "# Posible salida: [[1, 0, 0, 0, 1, 0, 0, 1, 1, 1], [0, 1, 1, 0, 1, 1, 0, 0, 1, 0, 1]]"
   ]
  },
  {
   "cell_type": "markdown",
   "metadata": {},
   "source": [
    "### Ejercicio 3\n",
    "\n",
    "   - Definir una función poblacion_inicial(problema_genetico,tamaño), para definir una población inicial de un tamaño dado, para una instancia dada de la clase anterior ProblemaGenetico\n",
    "\n",
    "sugerencia: usar random.choice\n",
    "\n",
    "   - Definir una función de cruce que recibe una instancia de Problema_Genetico y una población de padres (supondremos que hay un número par de padres), obtiene la población resultante de cruzarlos de dos en dos (en el orden en que aparecen)\n",
    "\n",
    "cruza_padres(problema_genetico,padres)\n",
    "\n",
    "   - Definir la función de mutación que recibe una instancia de Problema_Genetico, una población y una probabilidad de mutación, obtiene la población resultante de aplicar operaciones de mutación a cada individuo llamando a la función muta definida para el problema genético.\n",
    "muta_individuos(problema_genetico, poblacion, prob)"
   ]
  },
  {
   "cell_type": "code",
   "execution_count": 39,
   "metadata": {},
   "outputs": [],
   "source": [
    "def poblacion_inicial(problema_genetico, size):\n",
    "    k = []\n",
    "    for i in range(size):\n",
    "        l = []\n",
    "        for j in range(problema_genetico.longitud_individuos):\n",
    "            l.append(random.choice(problema_genetico.genes))\n",
    "        k.append(l)\n",
    "    return k"
   ]
  },
  {
   "cell_type": "code",
   "execution_count": 40,
   "metadata": {},
   "outputs": [
    {
     "data": {
      "text/plain": [
       "[[0, 1, 0, 0, 1, 0, 0, 1, 1, 0],\n",
       " [0, 0, 0, 0, 1, 0, 0, 1, 0, 0],\n",
       " [0, 0, 0, 0, 1, 0, 1, 1, 1, 0],\n",
       " [0, 1, 0, 0, 1, 0, 1, 1, 1, 1],\n",
       " [0, 1, 1, 1, 1, 1, 0, 1, 1, 0],\n",
       " [1, 0, 1, 0, 0, 0, 1, 1, 0, 0],\n",
       " [1, 0, 1, 0, 1, 0, 1, 1, 0, 0],\n",
       " [1, 1, 1, 1, 1, 0, 1, 0, 1, 1],\n",
       " [1, 1, 0, 1, 0, 1, 0, 0, 0, 1],\n",
       " [1, 1, 1, 0, 0, 0, 1, 1, 1, 0]]"
      ]
     },
     "execution_count": 40,
     "metadata": {},
     "output_type": "execute_result"
    }
   ],
   "source": [
    "poblacion_inicial(cuadrados,10)"
   ]
  },
  {
   "cell_type": "code",
   "execution_count": 46,
   "metadata": {},
   "outputs": [],
   "source": [
    "def cruza_padres(problema_genetico, padres):\n",
    "    l = []\n",
    "    for i in range(0, len(padres), 2):\n",
    "        aux = fun_cruzar(padres[i], padres[i+1])\n",
    "        l.append(aux[0])\n",
    "        l.append(aux[1])\n",
    "    return l"
   ]
  },
  {
   "cell_type": "code",
   "execution_count": 42,
   "metadata": {},
   "outputs": [
    {
     "data": {
      "text/plain": [
       "[[1, 1, 0, 1, 0, 0, 1, 0, 1, 1],\n",
       " [0, 1, 0, 1, 0, 1, 0, 0, 0, 1],\n",
       " [0, 0, 1, 0, 0, 1, 1, 1, 1, 0],\n",
       " [0, 0, 1, 1, 1, 0, 1, 1, 1, 0],\n",
       " [0, 1, 1, 0, 0, 0, 1, 1, 0, 1],\n",
       " [1, 0, 1, 1, 1, 0, 0, 0, 0, 0]]"
      ]
     },
     "execution_count": 42,
     "metadata": {},
     "output_type": "execute_result"
    }
   ],
   "source": [
    "p1 = [[1, 1, 0, 1, 0, 1, 0, 0, 0, 1],\n",
    "      [0, 1, 0, 1, 0, 0, 1, 0, 1, 1],\n",
    "      [0, 0, 1, 0, 0, 0, 1, 1, 1, 0],\n",
    "      [0, 0, 1, 1, 1, 1, 1, 1, 1, 0],\n",
    "      [0, 1, 1, 0, 0, 0, 0, 0, 0, 0],\n",
    "      [1, 0, 1, 1, 1, 0, 1, 1, 0, 1]]\n",
    "\n",
    "cruza_padres(cuadrados,p1)\n",
    "# Posible salida\n",
    "# [[1, 1, 0, 1, 0, 0, 1, 0, 1, 1],\n",
    "#  [0, 1, 0, 1, 0, 1, 0, 0, 0, 1],\n",
    "#  [0, 0, 1, 1, 1, 1, 1, 1, 1, 0],\n",
    "#  [0, 0, 1, 0, 0, 0, 1, 1, 1, 0],\n",
    "#  [0, 1, 1, 1, 1, 0, 1, 1, 0, 1],\n",
    "#  [1, 0, 1, 0, 0, 0, 0, 0, 0, 0]]"
   ]
  },
  {
   "cell_type": "code",
   "execution_count": 47,
   "metadata": {},
   "outputs": [],
   "source": [
    "def muta_individuos(problema_genetico, poblacion, prob):\n",
    "    l = []\n",
    "    for x in poblacion:\n",
    "        l.append(problema_genetico.muta(x,prob))\n",
    "    return l"
   ]
  },
  {
   "cell_type": "code",
   "execution_count": 44,
   "metadata": {
    "scrolled": true
   },
   "outputs": [
    {
     "data": {
      "text/plain": [
       "[[1, 1, 0, 1, 0, 1, 0, 0, 0, 1],\n",
       " [0, 1, 0, 1, 0, 0, 1, 0, 1, 1],\n",
       " [0, 0, 1, 0, 0, 0, 1, 1, 1, 0],\n",
       " [0, 0, 1, 1, 1, 1, 1, 1, 1, 0],\n",
       " [0, 1, 1, 0, 0, 0, 0, 0, 0, 0],\n",
       " [1, 0, 1, 1, 1, 0, 1, 1, 0, 1]]"
      ]
     },
     "execution_count": 44,
     "metadata": {},
     "output_type": "execute_result"
    }
   ],
   "source": [
    "muta_individuos(cuadrados,p1,0.5)\n",
    "# Posible salida:\n",
    "#  [[1, 1, 0, 1, 0, 1, 0, 0, 0, 1],\n",
    "#   [0, 1, 0, 1, 0, 0, 1, 0, 0, 1],\n",
    "#   [0, 0, 1, 0, 0, 0, 1, 0, 1, 0],\n",
    "#   [0, 0, 1, 1, 1, 1, 1, 1, 1, 0],\n",
    "#   [0, 1, 0, 0, 0, 0, 0, 0, 0, 0],\n",
    "#   [1, 0, 1, 1, 1, 0, 1, 1, 0, 1]]"
   ]
  },
  {
   "cell_type": "code",
   "execution_count": 45,
   "metadata": {},
   "outputs": [],
   "source": [
    "p1 = [[1, 1, 0, 1, 0, 1, 0, 0, 0, 1],\n",
    "      [0, 1, 0, 1, 0, 0, 1, 0, 1, 1],\n",
    "      [0, 0, 1, 0, 0, 0, 1, 1, 1, 0],\n",
    "      [0, 0, 1, 1, 1, 1, 1, 1, 1, 0],\n",
    "      [0, 1, 1, 0, 0, 0, 0, 0, 0, 0],\n",
    "      [1, 0, 1, 1, 1, 0, 1, 1, 0, 1]]"
   ]
  },
  {
   "cell_type": "code",
   "execution_count": 46,
   "metadata": {},
   "outputs": [
    {
     "data": {
      "text/plain": [
       "[[1, 1, 0, 1, 0, 1, 0, 0, 0, 1],\n",
       " [0, 1, 0, 1, 0, 0, 1, 0, 1, 1],\n",
       " [0, 0, 1, 0, 0, 0, 1, 1, 1, 0],\n",
       " [0, 0, 1, 1, 1, 1, 1, 1, 1, 0],\n",
       " [0, 1, 1, 0, 0, 0, 0, 0, 0, 0],\n",
       " [1, 0, 1, 1, 1, 0, 1, 1, 0, 0]]"
      ]
     },
     "execution_count": 46,
     "metadata": {},
     "output_type": "execute_result"
    }
   ],
   "source": [
    "muta_individuos(cuadrados,p1,0.5)"
   ]
  },
  {
   "cell_type": "markdown",
   "metadata": {},
   "source": [
    "### Ejercicio 4\n",
    "\n",
    "Se pide definir una función de selección mediante torneo de n individuos de una población.  \n",
    "La función recibe como entrada:\n",
    " - una instancia de la clase ProblemaGenetico\n",
    " - una población\n",
    " - el número n de individuos que vamos a seleccionar\n",
    " - el número k de participantes en el torneo\n",
    " - un valor opt que puede ser o la función max o la función min (dependiendo de si el problema es de maximización o de minimización, resp.).\n",
    "\n",
    "seleccion\\_por\\_torneo(problema_genetico,poblacion,n,k,opt) \n",
    "\n",
    "INDICACIÓN: Usar random.sample para seleccionar k elementos de una secuencia. \n",
    "Por ejemplo, random.sample(population=[2,5,7,8,9], k=3) devuelve [7,5,8]. "
   ]
  },
  {
   "cell_type": "code",
   "execution_count": 44,
   "metadata": {},
   "outputs": [],
   "source": [
    "def seleccion_por_torneo(problema_genetico, poblacion, n, k, opt):\n",
    "    \"\"\"Selección por torneo de n individuos de una población. Siendo k el nº de participantes\n",
    "        y opt la función max o min.\"\"\"\n",
    "    seleccionados = []\n",
    "    for i in range(n):\n",
    "        participantes = random.sample(poblacion,k)\n",
    "        seleccionado = opt(participantes, key=problema_genetico.fitness)\n",
    "        opt(poblacion, key=problema_genetico.fitness)\n",
    "        seleccionados.append(seleccionado)\n",
    "        # poblacion.remove(seleccionado)\n",
    "    return seleccionados  "
   ]
  },
  {
   "cell_type": "code",
   "execution_count": 48,
   "metadata": {},
   "outputs": [
    {
     "data": {
      "text/plain": [
       "[[0, 0, 1, 1, 1, 1, 1, 1, 1, 1],\n",
       " [0, 0, 1, 1, 1, 1, 1, 1, 1, 1],\n",
       " [0, 0, 1, 1, 1, 1, 1, 1, 1, 1]]"
      ]
     },
     "execution_count": 48,
     "metadata": {},
     "output_type": "execute_result"
    }
   ],
   "source": [
    "#Ejemplo\n",
    "seleccion_por_torneo(cuadrados, poblacion_inicial(cuadrados,8),3,6,max)\n",
    "# Posible salida: [[1, 1, 1, 1, 1, 0, 0, 0, 1, 1], [1, 0, 0, 1, 1, 1, 0, 1, 0, 1], [1, 1, 1, 1, 0, 1, 1, 1, 0, 1]]"
   ]
  },
  {
   "cell_type": "code",
   "execution_count": 49,
   "metadata": {},
   "outputs": [
    {
     "data": {
      "text/plain": [
       "[[1, 1, 0, 1, 1, 0, 0, 0, 0, 0],\n",
       " [0, 1, 1, 0, 0, 1, 0, 0, 0, 0],\n",
       " [1, 1, 0, 1, 1, 0, 0, 0, 0, 0]]"
      ]
     },
     "execution_count": 49,
     "metadata": {},
     "output_type": "execute_result"
    }
   ],
   "source": [
    "seleccion_por_torneo(cuadrados, poblacion_inicial(cuadrados,8),3,6,min)\n",
    "# [[0, 0, 1, 1, 0, 1, 1, 0, 0, 0], [1, 0, 1, 0, 1, 1, 1, 0, 0, 0], [1, 1, 0, 1, 0, 0, 1, 0, 1, 0]]"
   ]
  },
  {
   "cell_type": "code",
   "execution_count": 50,
   "metadata": {},
   "outputs": [],
   "source": [
    "# La siguiente función implementa una posibilidad para el algoritmo genético completo: \n",
    "# inicializa t = 0 \n",
    "# Generar y evaluar la Población P(t)\n",
    "# Mientras no hemos llegado al número de generaciones fijado:  t < nGen\n",
    "#    P1 = Selección por torneo de (1-size)·p individuos de P(t)\n",
    "#    P2 = Selección por torneo de (size·p) individuos de P(t)\n",
    "#    Aplicar cruce en la población P2\n",
    "#    P4 = Union de P1 y P3\n",
    "#    P(t+1) := Aplicar mutación P4 \n",
    "#    Evalua la población P(t+1) \n",
    "#    t:= t+1\n",
    "        \n",
    "# Sus argumentos son:\n",
    "# problema_genetico: una instancia de la clase ProblemaGenetico con la representación adecuada del problema de optimización \n",
    "# que se quiere resolver.\n",
    "# k: número de participantes en los torneos de selección.\n",
    "# opt: max ó min, dependiendo si el problema es de maximización o de minimización. \n",
    "# nGen: número de generaciones (que se usa como condición de terminación)\n",
    "# size: número de individuos en cada generación\n",
    "# prop_cruce: proporción del total de la población que serán padres. \n",
    "# prob_mutación: probabilidad de realizar una mutación de un gen.\n",
    "\n",
    "def algoritmo_genetico(problema_genetico,k,opt,ngen,size,prop_cruces,prob_mutar):\n",
    "    poblacion= poblacion_inicial(problema_genetico,size)\n",
    "    n_padres=round(size*prop_cruces)\n",
    "    n_padres= int (n_padres if n_padres%2==0 else n_padres-1)\n",
    "    n_directos = size-n_padres\n",
    "    for _ in range(ngen):\n",
    "        poblacion= nueva_generacion(problema_genetico,k,opt,poblacion,n_padres, n_directos,prob_mutar)\n",
    "\n",
    "    mejor_cr= opt(poblacion, key=problema_genetico.fitness)\n",
    "    mejor=problema_genetico.decodifica(mejor_cr)\n",
    "    return (mejor,problema_genetico.fitness(mejor_cr)) \n"
   ]
  },
  {
   "cell_type": "markdown",
   "metadata": {},
   "source": [
    "Necesitarás definir la función auxiliar nueva_generacion(problema_genetico,poblacion,n_padres,n_directos,prob_mutar) que dada una población calcula la siguiente generación."
   ]
  },
  {
   "cell_type": "code",
   "execution_count": 42,
   "metadata": {},
   "outputs": [],
   "source": [
    "#Definir la función nueva_generacion\n",
    "def nueva_generacion(problema_genetico, k,opt, poblacion, n_padres, n_directos, prob_mutar):\n",
    "    padres2 = seleccion_por_torneo(problema_genetico, poblacion, n_directos, k,opt) \n",
    "    padres1 = seleccion_por_torneo(problema_genetico, poblacion, n_padres , k, opt)\n",
    "    cruces =  cruza_padres(problema_genetico,padres1)\n",
    "    generacion = padres2+cruces\n",
    "    resultado_mutaciones = muta_individuos(problema_genetico, generacion, prob_mutar)\n",
    "    return resultado_mutaciones"
   ]
  },
  {
   "cell_type": "markdown",
   "metadata": {},
   "source": [
    "### Ejercicio 5.  Ejecutar el algoritmo genético anterior, para resolver el problema anterior (tanto en minimización como en maximización).  \n",
    "\n",
    "Hacer una valoración de resultados y comentarios sobre el comportamiento del algoritmmo. \n",
    "En la resolución del problema hay que tener en cuenta que el algoritmo genético devuelve un par con el mejor fenotipo encontrado y su valoración."
   ]
  },
  {
   "cell_type": "code",
   "execution_count": 52,
   "metadata": {},
   "outputs": [
    {
     "data": {
      "text/plain": [
       "(213, 45369)"
      ]
     },
     "execution_count": 52,
     "metadata": {},
     "output_type": "execute_result"
    }
   ],
   "source": [
    "algoritmo_genetico(cuadrados,3,min,20,10,0,0)\n",
    "# Salida esperada: (0, 0)"
   ]
  },
  {
   "cell_type": "code",
   "execution_count": 53,
   "metadata": {},
   "outputs": [
    {
     "data": {
      "text/plain": [
       "(1022, 1044484)"
      ]
     },
     "execution_count": 53,
     "metadata": {},
     "output_type": "execute_result"
    }
   ],
   "source": [
    "algoritmo_genetico(cuadrados,3,max,20,10,0.7,0.1)\n",
    "# Salida esperada: (1023, 1046529)"
   ]
  },
  {
   "cell_type": "code",
   "execution_count": 54,
   "metadata": {},
   "outputs": [
    {
     "name": "stdout",
     "output_type": "stream",
     "text": [
      "(x, x^2) -> Probabilidad de que salga\n",
      "---------------------------------------\n",
      "(0, 0) -> 50.2 %\n",
      "(1, 1) -> 8.0 %\n",
      "(32, 1024) -> 6.9 %\n",
      "(2, 4) -> 6.8 %\n",
      "(4, 16) -> 4.4 %\n",
      "(64, 4096) -> 3.9 %\n",
      "(8, 64) -> 3.9 %\n",
      "(16, 256) -> 1.4 %\n",
      "(33, 1089) -> 0.9 %\n",
      "(65, 4225) -> 0.8 %\n",
      "(128, 16384) -> 0.8 %\n",
      "(6, 36) -> 0.7 %\n",
      "(3, 9) -> 0.7 %\n",
      "(17, 289) -> 0.6 %\n",
      "(5, 25) -> 0.5 %\n",
      "(66, 4356) -> 0.5 %\n",
      "(12, 144) -> 0.5 %\n",
      "(9, 81) -> 0.5 %\n",
      "(256, 65536) -> 0.4 %\n",
      "(10, 100) -> 0.4 %\n",
      "(96, 9216) -> 0.4 %\n",
      "(20, 400) -> 0.3 %\n",
      "(40, 1600) -> 0.3 %\n",
      "(68, 4624) -> 0.3 %\n",
      "(130, 16900) -> 0.3 %\n",
      "(136, 18496) -> 0.3 %\n",
      "(129, 16641) -> 0.3 %\n",
      "(34, 1156) -> 0.3 %\n",
      "(36, 1296) -> 0.3 %\n",
      "(98, 9604) -> 0.3 %\n",
      "(35, 1225) -> 0.2 %\n",
      "(132, 17424) -> 0.2 %\n",
      "(144, 20736) -> 0.2 %\n",
      "(48, 2304) -> 0.2 %\n",
      "(72, 5184) -> 0.2 %\n",
      "(38, 1444) -> 0.2 %\n",
      "(264, 69696) -> 0.1 %\n",
      "(260, 67600) -> 0.1 %\n",
      "(80, 6400) -> 0.1 %\n",
      "(161, 25921) -> 0.1 %\n",
      "(192, 36864) -> 0.1 %\n",
      "(69, 4761) -> 0.1 %\n",
      "(7, 49) -> 0.1 %\n",
      "(28, 784) -> 0.1 %\n",
      "(41, 1681) -> 0.1 %\n",
      "(320, 102400) -> 0.1 %\n",
      "(49, 2401) -> 0.1 %\n",
      "(288, 82944) -> 0.1 %\n",
      "(25, 625) -> 0.1 %\n",
      "(71, 5041) -> 0.1 %\n",
      "(200, 40000) -> 0.1 %\n",
      "(258, 66564) -> 0.1 %\n",
      "(257, 66049) -> 0.1 %\n",
      "(37, 1369) -> 0.1 %\n",
      "(24, 576) -> 0.1 %\n",
      "(52, 2704) -> 0.1 %\n",
      "(134, 17956) -> 0.1 %\n",
      "(18, 324) -> 0.1 %\n",
      "(97, 9409) -> 0.1 %\n",
      "(19, 361) -> 0.1 %\n",
      "(268, 71824) -> 0.1 %\n",
      "(101, 10201) -> 0.1 %\n",
      "(13, 169) -> 0.1 %\n",
      "(26, 676) -> 0.1 %\n",
      "(50, 2500) -> 0.1 %\n"
     ]
    }
   ],
   "source": [
    "import operator\n",
    "\n",
    "print(\"(x, x^2) -> Probabilidad de que salga\")\n",
    "print(\"---------------------------------------\")\n",
    "\n",
    "dictMin = dict()\n",
    "for _ in range(1000):\n",
    "    result = algoritmo_genetico(cuadrados, 3, min, 20, 10, 0.7, 0.1)\n",
    "    if result in dictMin:\n",
    "        dictMin[result] += 1\n",
    "    else:\n",
    "        dictMin[result] = 1\n",
    "\n",
    "sortMin = sorted(dictMin.items(), key = operator.itemgetter(1), reverse = True)\n",
    "for result in sortMin:\n",
    "    print(result[0],'->', round(result[1]/10, 2),'%')"
   ]
  },
  {
   "cell_type": "code",
   "execution_count": 55,
   "metadata": {},
   "outputs": [
    {
     "name": "stdout",
     "output_type": "stream",
     "text": [
      "(x, x^2) -> Probabilidad de que salga\n",
      "---------------------------------------\n",
      "(1023, 1046529) -> 51.2 %\n",
      "(1021, 1042441) -> 7.1 %\n",
      "(1022, 1044484) -> 7.1 %\n",
      "(1019, 1038361) -> 5.4 %\n",
      "(991, 982081) -> 4.9 %\n",
      "(1015, 1030225) -> 4.3 %\n",
      "(959, 919681) -> 3.7 %\n",
      "(895, 801025) -> 1.8 %\n",
      "(1007, 1014049) -> 1.5 %\n",
      "(1017, 1034289) -> 1.0 %\n",
      "(958, 917764) -> 1.0 %\n",
      "(989, 978121) -> 0.9 %\n",
      "(1020, 1040400) -> 0.9 %\n",
      "(1018, 1036324) -> 0.8 %\n",
      "(983, 966289) -> 0.8 %\n",
      "(990, 980100) -> 0.7 %\n",
      "(1014, 1028196) -> 0.7 %\n",
      "(987, 974169) -> 0.6 %\n",
      "(957, 915849) -> 0.4 %\n",
      "(1005, 1010025) -> 0.4 %\n",
      "(1013, 1026169) -> 0.4 %\n",
      "(894, 799236) -> 0.3 %\n",
      "(1006, 1012036) -> 0.3 %\n",
      "(955, 912025) -> 0.3 %\n",
      "(943, 889249) -> 0.3 %\n",
      "(893, 797449) -> 0.2 %\n",
      "(927, 859329) -> 0.2 %\n",
      "(1011, 1022121) -> 0.2 %\n",
      "(919, 844561) -> 0.2 %\n",
      "(1012, 1024144) -> 0.2 %\n",
      "(1016, 1032256) -> 0.2 %\n",
      "(767, 588289) -> 0.2 %\n",
      "(889, 790321) -> 0.1 %\n",
      "(823, 677329) -> 0.1 %\n",
      "(981, 962361) -> 0.1 %\n",
      "(1004, 1008016) -> 0.1 %\n",
      "(859, 737881) -> 0.1 %\n",
      "(946, 894916) -> 0.1 %\n",
      "(762, 580644) -> 0.1 %\n",
      "(949, 900601) -> 0.1 %\n",
      "(860, 739600) -> 0.1 %\n",
      "(979, 958441) -> 0.1 %\n",
      "(1003, 1006009) -> 0.1 %\n",
      "(999, 998001) -> 0.1 %\n",
      "(759, 576081) -> 0.1 %\n",
      "(954, 910116) -> 0.1 %\n",
      "(953, 908209) -> 0.1 %\n",
      "(831, 690561) -> 0.1 %\n",
      "(891, 793881) -> 0.1 %\n",
      "(985, 970225) -> 0.1 %\n"
     ]
    }
   ],
   "source": [
    "print(\"(x, x^2) -> Probabilidad de que salga\")\n",
    "print(\"---------------------------------------\")\n",
    "\n",
    "dictMax = dict()\n",
    "for _ in range(1000):\n",
    "    result = algoritmo_genetico(cuadrados, 3, max, 20, 10, 0.7, 0.1)\n",
    "    if result in dictMax:\n",
    "        dictMax[result] += 1\n",
    "    else:\n",
    "        dictMax[result] = 1\n",
    "\n",
    "sortMax = sorted(dictMax.items(), key = operator.itemgetter(1), reverse = True)\n",
    "for result in sortMax:\n",
    "     print(result[0],'->', round(result[1]/10, 2),'%')"
   ]
  },
  {
   "cell_type": "markdown",
   "metadata": {},
   "source": [
    "Para sacar conclusiones sobre el algoritmo, hemos creado este programa que lo que hace es simular que el algoritmo_genetico se ejecuta 1000 veces, cuenta el número de veces que sale cada resultado y nos proporciona un porcentaje que determina la probabilidad de que salga ese caso en concreto.\n",
    "\n",
    "Podemos observar que cuando llamamos al min el 52.1% de las veces nos va a devolver el par (0,0) ya que es el mínimo elemento de todos. También se aprecia que al llamar al max el 52.1% de las veces el resultado obtenido es (1023,1046529), que es el número más grande de todos los que salen.\n",
    "\n",
    "El algoritmo_genetico lo que hace es devolvernos un par con su mejor fenotipo y su valoración, en este caso el resultado es mejor cuanto mayor sea el par que devuelve (para max), y al contrario (para min), ya que estamos sacando el cuadrado de un número.\n"
   ]
  },
  {
   "cell_type": "markdown",
   "metadata": {},
   "source": [
    "##  El problema de la mochila "
   ]
  },
  {
   "cell_type": "markdown",
   "metadata": {},
   "source": [
    "Se plantea el típico problema de la mochila en el que dados n objetos de pesos conocidos pi y valor vi (i=1,...,n) hay que elegir cuáles se meten en una mochila que soporta un peso P máximo. La selección debe hacerse de forma que se máximice el valor de los objetos introducidos sin superar el peso máximo."
   ]
  },
  {
   "cell_type": "markdown",
   "metadata": {},
   "source": [
    "### Ejercicio 6\n",
    "Se pide definir la representación del problema de la mochila usando genes [0,1] y longitud de los individuos n.\n",
    "\n",
    "Los valores 1 ó 0 representan, respectivamente, si el objeto se introduce o no en la mochila Tomados de izquerda a derecha, a partir del primero que no cabe, se consideran  todos fuera de la mochila,independientemente del gen en su posición. De esta manera, todos los individuos representan candidatos válidos.\n",
    "\n",
    "El numero de objetos n determina la longitud de los individuos de la población.\n",
    "En primer lugar es necesario definir una función de decodificación de la mochila que recibe como entrada:\n",
    "* un cromosoma (en este caso, una lista de 0s y 1s, de longitud igual a n_objetos) \n",
    "* n: número total de objetos de la mochila\n",
    "* pesos: una lista con los pesos de los objetos\n",
    "* capacidad: peso máximo de la mochila.\n",
    "La función decodifica recibe (cromosoma, n, pesos, capacidad) y devuelve una lista de 0s y 1s que indique qué objetos están en la mochila y cuáles no (el objeto i está en la mochila si y sólo si en la posición i-ésima de la lista hay un 1). Esta lista se obtendrá a partir del cromosoma, pero teniendo en cuenta que a partir del primer objeto que no quepa, éste y los siguientes se consideran fuera de la mochila, independientemente del valor que haya en su correspondiente posición de cromosoma. "
   ]
  },
  {
   "cell_type": "code",
   "execution_count": 56,
   "metadata": {},
   "outputs": [],
   "source": [
    "def decodifica_mochila(cromosoma, n, pesos, capacidad):\n",
    "    peso_en_mochila = 0\n",
    "    l = []\n",
    "    for i in range(n):\n",
    "        if cromosoma[i] == 1 and peso_en_mochila + pesos[i] <= capacidad:\n",
    "            l.append(1)\n",
    "            peso_en_mochila += pesos[i]\n",
    "        elif cromosoma[i]== 0 or peso_en_mochila + pesos[i] > capacidad:\n",
    "            l.append(0)\n",
    "    return l "
   ]
  },
  {
   "cell_type": "code",
   "execution_count": 57,
   "metadata": {},
   "outputs": [
    {
     "data": {
      "text/plain": [
       "[1, 1, 0, 0, 0]"
      ]
     },
     "execution_count": 57,
     "metadata": {},
     "output_type": "execute_result"
    }
   ],
   "source": [
    "decodifica_mochila([1,1,1,1,1], 5, [2,3,4,5,1], 5)"
   ]
  },
  {
   "cell_type": "markdown",
   "metadata": {},
   "source": [
    "Para definir la función de evaluación (fitness) necesitamos calcular el valor total de los objetos que están dentro de la mochila que representa el cromosoma según la codificación utilizada en la función anterior. \n",
    "\n",
    "Se pide la función fitness (cromosoma, n_objetos, pesos, capacidad, valores) donde los parámetros son los mismos que en la función anterior, y valores es la lista de los valores de cada objeto\n",
    "\n",
    "fitness(cromosoma, n_objetos, pesos, capacidad, valores)\n",
    "\n",
    "Ejemplo de uso:\n",
    "   fitness([1,1,1,1], 4, [2,3,4,5], 4, [7,1,4,5])\n",
    "   7"
   ]
  },
  {
   "cell_type": "code",
   "execution_count": 58,
   "metadata": {},
   "outputs": [],
   "source": [
    "def fitness_mochila(cromosoma, n_objetos, pesos, capacidad, valores):\n",
    "    metidos = decodifica_mochila(cromosoma, n_objetos, pesos, capacidad)\n",
    "\n",
    "    valor = 0\n",
    "    i = 0\n",
    "    #print (metidos)\n",
    "    while(i < n_objetos):\n",
    "        if metidos[i] == 1 :\n",
    "            valor += valores[i]\n",
    "        i+=1\n",
    "\n",
    "    return valor"
   ]
  },
  {
   "cell_type": "code",
   "execution_count": 59,
   "metadata": {},
   "outputs": [
    {
     "data": {
      "text/plain": [
       "7"
      ]
     },
     "execution_count": 59,
     "metadata": {},
     "output_type": "execute_result"
    }
   ],
   "source": [
    "fitness_mochila([1,1,1,1], 4, [2,3,4,5], 4, [7,1,4,5])"
   ]
  },
  {
   "cell_type": "markdown",
   "metadata": {},
   "source": [
    "Damos tres instancias concretas del problema de la mochila. Damos también sus soluciones optimas, para que se puedan comparar con los resultados obtenidos por el algoritmo genético:"
   ]
  },
  {
   "cell_type": "code",
   "execution_count": 60,
   "metadata": {},
   "outputs": [],
   "source": [
    "# Problema de la mochila 1:\n",
    "# 10 objetos, peso máximo 165\n",
    "pesos1 = [23,31,29,44,53,38,63,85,89,82]\n",
    "valores1 = [92,57,49,68,60,43,67,84,87,72]\n",
    "\n",
    "# Solución óptima= [1,1,1,1,0,1,0,0,0,0], con valor 309"
   ]
  },
  {
   "cell_type": "code",
   "execution_count": 61,
   "metadata": {},
   "outputs": [],
   "source": [
    "# Problema de la mochila 2:\n",
    "# 15 objetos, peso máximo 750\n",
    "\n",
    "pesos2 = [70,73,77,80,82,87,90,94,98,106,110,113,115,118,120]\n",
    "valores2 = [135,139,149,150,156,163,173,184,192,201,210,214,221,229,240]\n",
    "\n",
    "# Solución óptima= [1,0,1,0,1,0,1,1,1,0,0,0,0,1,1] con valor 1458"
   ]
  },
  {
   "cell_type": "code",
   "execution_count": 62,
   "metadata": {},
   "outputs": [],
   "source": [
    "# Problema de la mochila 3:\n",
    "# 24 objetos, peso máximo 6404180\n",
    "pesos3 = [382745,799601,909247,729069,467902, 44328,\n",
    "       34610,698150,823460,903959,853665,551830,610856,\n",
    "       670702,488960,951111,323046,446298,931161, 31385,496951,264724,224916,169684]\n",
    "valores3 = [825594,1677009,1676628,1523970, 943972,  97426,\n",
    "       69666,1296457,1679693,1902996,\n",
    "       1844992,1049289,1252836,1319836, 953277,2067538, 675367,\n",
    "       853655,1826027, 65731, 901489, 577243, 466257, 369261]\n",
    "\n",
    "# Solución óptima= [1,1,0,1,1,1,0,0,0,1,1,0,1,0,0,1,0,0,0,0,0,1,1,1] con valoración 13549094"
   ]
  },
  {
   "cell_type": "markdown",
   "metadata": {},
   "source": [
    "### Ejercicio 7\n",
    "\n",
    "Definir variables m1g, m2g y m3g, referenciando a instancias de Problema_Genetico que correspondan, respectivamente, a los problemas de la mochila anteriores. Resuelve los problemas y comentar los resultados obtenidos en cuanto a eficiencia y calidad de los resultados obtenidos."
   ]
  },
  {
   "cell_type": "markdown",
   "metadata": {},
   "source": [
    "Algunas de las salidas posibles variando los parámetros."
   ]
  },
  {
   "cell_type": "code",
   "execution_count": 63,
   "metadata": {},
   "outputs": [],
   "source": [
    "# >>> algoritmo_genetico(m1g,3,max,100,50,0.8,0.05)\n",
    "# ([1, 1, 1, 1, 0, 1, 0, 0, 0, 0], 309)\n",
    "\n",
    "# >>> algoritmo_genetico(m2g,3,max,100,50,0.8,0.05)\n",
    "# ([1, 1, 1, 0, 0, 0, 0, 1, 1, 0, 1, 1, 1, 0, 0], 1444)\n",
    "# >>> algoritmo_genetico(m2g,3,max,200,100,0.8,0.05)\n",
    "# ([0, 0, 1, 0, 1, 1, 1, 1, 1, 1, 0, 0, 1, 0, 0], 1439)\n",
    "# >>> algoritmo_genetico(m2g,3,max,200,100,0.8,0.05)\n",
    "# ([1, 0, 1, 0, 1, 0, 1, 1, 1, 0, 0, 0, 0, 1, 1], 1458)\n",
    "\n",
    "# >>> algoritmo_genetico(m3g,5,max,400,200,0.75,0.1)\n",
    "# ([1, 1, 0, 1, 0, 1, 1, 0, 1, 1, 1, 0, 1, 0, 0, 1, 0, 0, 0, 0, 0, 1, 0, 0], 13518963)\n",
    "# >>> algoritmo_genetico(m3g,4,max,600,200,0.75,0.1)\n",
    "# ([1, 1, 0, 1, 1, 1, 1, 0, 0, 1, 1, 0, 1, 0, 0, 1, 1, 0, 0, 1, 0, 1, 0, 0], 13524340)\n",
    "# >>> algoritmo_genetico(m3g,4,max,1000,200,0.75,0.1)\n",
    "# ([1, 1, 0, 1, 0, 0, 0, 0, 1, 1, 1, 0, 1, 0, 0, 1, 1, 0, 0, 0, 0, 0, 0, 0], 13449995)\n",
    "# >>> algoritmo_genetico(m3g,3,max,1000,100,0.75,0.1)\n",
    "# ([1, 1, 0, 0, 0, 1, 1, 0, 1, 1, 1, 0, 1, 1, 0, 1, 1, 0, 0, 0, 0, 0, 0, 0], 13412953)\n",
    "# >>> algoritmo_genetico(m3g,3,max,2000,100,0.75,0.1)\n",
    "# ([0, 1, 0, 1, 0, 1, 0, 0, 1, 1, 1, 0, 1, 1, 0, 1, 0, 0, 0, 0, 0, 0, 0, 0], 13366296)\n",
    "# >>> algoritmo_genetico(m3g,6,max,2000,100,0.75,0.1)\n",
    "# ([1, 1, 0, 1, 1, 1, 0, 0, 0, 1, 1, 0, 1, 0, 0, 1, 0, 0, 0, 0, 0, 1, 1, 1], 13549094)"
   ]
  },
  {
   "cell_type": "code",
   "execution_count": 64,
   "metadata": {},
   "outputs": [],
   "source": [
    "\n",
    "def fitness_mochila_1(cromosoma):\n",
    "    v = fitness_mochila(cromosoma, 10, pesos1, 165, valores1)\n",
    "    return v\n",
    "def decodifica_mochila_1(cromosoma):\n",
    "    v = decodifica_mochila(cromosoma, 10, pesos1, 165)\n",
    "    return v\n",
    "m1g = ProblemaGenetico([0,1], decodifica_mochila_1, fun_mutar, fun_cruzar, fitness_mochila_1,10)\n",
    "\n",
    "def fitness_mochila_2(cromosoma):\n",
    "    v = fitness_mochila(cromosoma, 15, pesos2, 750, valores2)\n",
    "    return v\n",
    "def decodifica_mochila_2(cromosoma):\n",
    "    v = decodifica_mochila(cromosoma, 14, pesos2, 750)\n",
    "    return v\n",
    "m2g = ProblemaGenetico([0,1], decodifica_mochila_2, fun_mutar, fun_cruzar, fitness_mochila_2,15)\n",
    "\n",
    "def fitness_mochila_3(cromosoma):\n",
    "    v = fitness_mochila(cromosoma, 24, pesos3,6404180 , valores3)\n",
    "    return v\n",
    "def decodifica_mochila_3(cromosoma):\n",
    "    v = decodifica_mochila(cromosoma, 24, pesos3, 6404180)\n",
    "    return v\n",
    "m3g = ProblemaGenetico([0,1], decodifica_mochila_3, fun_mutar, fun_cruzar, fitness_mochila_3,24)\n"
   ]
  },
  {
   "cell_type": "code",
   "execution_count": 65,
   "metadata": {},
   "outputs": [
    {
     "data": {
      "text/plain": [
       "([1, 1, 1, 1, 0, 1, 0, 0, 0, 0], 309)"
      ]
     },
     "execution_count": 65,
     "metadata": {},
     "output_type": "execute_result"
    }
   ],
   "source": [
    "#%%timeit\n",
    "algoritmo_genetico(m1g,3,max,100,50,0.8,0.05)"
   ]
  },
  {
   "cell_type": "code",
   "execution_count": 66,
   "metadata": {},
   "outputs": [
    {
     "data": {
      "text/plain": [
       "([1, 1, 0, 0, 1, 0, 1, 0, 1, 1, 1, 0, 0, 0], 1446)"
      ]
     },
     "execution_count": 66,
     "metadata": {},
     "output_type": "execute_result"
    }
   ],
   "source": [
    "#%%timeit\n",
    "algoritmo_genetico(m2g,3,max,100,50,0.8,0.05)"
   ]
  },
  {
   "cell_type": "code",
   "execution_count": 67,
   "metadata": {},
   "outputs": [
    {
     "data": {
      "text/plain": [
       "([1, 0, 1, 0, 0, 1, 1, 1, 1, 0, 0, 0, 1, 1], 1446)"
      ]
     },
     "execution_count": 67,
     "metadata": {},
     "output_type": "execute_result"
    }
   ],
   "source": [
    "algoritmo_genetico(m2g,3,max,200,100,0.8,0.05)"
   ]
  },
  {
   "cell_type": "code",
   "execution_count": 68,
   "metadata": {},
   "outputs": [
    {
     "data": {
      "text/plain": [
       "([1, 1, 1, 0, 0, 0, 1, 1, 0, 0, 1, 0, 1, 0], 1451)"
      ]
     },
     "execution_count": 68,
     "metadata": {},
     "output_type": "execute_result"
    }
   ],
   "source": [
    "algoritmo_genetico(m2g,3,max,200,100,0.8,0.05)"
   ]
  },
  {
   "cell_type": "code",
   "execution_count": 69,
   "metadata": {},
   "outputs": [],
   "source": [
    "#algoritmo_genetico(m3g,5,max,400,200,0.75,0.1)"
   ]
  },
  {
   "cell_type": "code",
   "execution_count": 70,
   "metadata": {},
   "outputs": [],
   "source": [
    "#algoritmo_genetico(m3g,4,max,600,200,0.75,0.1)"
   ]
  },
  {
   "cell_type": "code",
   "execution_count": 71,
   "metadata": {},
   "outputs": [],
   "source": [
    "#algoritmo_genetico(m3g,4,max,1000,200,0.75,0.1)"
   ]
  },
  {
   "cell_type": "code",
   "execution_count": 72,
   "metadata": {},
   "outputs": [],
   "source": [
    "#algoritmo_genetico(m3g,3,max,1000,100,0.75,0.1)"
   ]
  },
  {
   "cell_type": "code",
   "execution_count": 73,
   "metadata": {},
   "outputs": [],
   "source": [
    "#algoritmo_genetico(m3g,3,max,2000,100,0.75,0.1)"
   ]
  },
  {
   "cell_type": "code",
   "execution_count": 74,
   "metadata": {},
   "outputs": [],
   "source": [
    "#algoritmo_genetico(m3g,5,max,400,200,0.75,0.1)"
   ]
  },
  {
   "cell_type": "code",
   "execution_count": 75,
   "metadata": {},
   "outputs": [
    {
     "name": "stdout",
     "output_type": "stream",
     "text": [
      "((1, 1, 1, 1, 0, 1, 0, 0, 0, 0), 309) :  93  %\n",
      "((1, 1, 0, 1, 0, 0, 1, 0, 0, 0), 284) :  7  %\n"
     ]
    }
   ],
   "source": [
    "maxDict1 = dict()\n",
    "for _ in range(100):\n",
    "    result_t = algoritmo_genetico(m1g,3,max,100,50,0.8,0.05)\n",
    "    result = ( tuple(result_t[0]), result_t[1] )\n",
    "    if result in maxDict1:\n",
    "        maxDict1[result] += 1\n",
    "    else:\n",
    "        maxDict1[result] = 1\n",
    "\n",
    "maxSorted1 = sorted(maxDict1.items(), key = operator.itemgetter(1), reverse = True)\n",
    "for result in maxSorted1:\n",
    "    print(result[0], ': ', round( result[1], 2), ' %' )"
   ]
  },
  {
   "cell_type": "code",
   "execution_count": 76,
   "metadata": {},
   "outputs": [
    {
     "name": "stdout",
     "output_type": "stream",
     "text": [
      "((1, 0, 1, 0, 1, 1, 0, 1, 0, 0, 1, 1, 1, 0), 1432) :  4  %\n",
      "((1, 0, 1, 1, 0, 0, 1, 1, 0, 0, 1, 1, 1, 0), 1436) :  2  %\n",
      "((1, 0, 0, 1, 1, 0, 1, 1, 1, 0, 0, 0, 1, 0), 1451) :  2  %\n",
      "((0, 1, 0, 1, 1, 0, 1, 1, 1, 0, 0, 1, 0, 0), 1448) :  2  %\n",
      "((0, 1, 1, 0, 1, 0, 1, 1, 1, 0, 0, 0, 1, 0), 1454) :  2  %\n",
      "((1, 1, 0, 1, 1, 0, 0, 1, 0, 0, 0, 1, 0, 1), 1447) :  2  %\n",
      "((1, 0, 1, 1, 0, 0, 1, 1, 0, 1, 0, 1, 0, 0), 1446) :  2  %\n",
      "((1, 0, 1, 0, 1, 0, 1, 1, 1, 0, 0, 1, 0, 0), 1443) :  2  %\n",
      "((1, 1, 0, 0, 1, 0, 1, 1, 1, 0, 0, 1, 0, 0), 1433) :  2  %\n",
      "((0, 1, 1, 1, 0, 0, 1, 0, 1, 1, 1, 0, 1, 0), 1435) :  2  %\n",
      "((1, 1, 1, 0, 0, 0, 1, 0, 1, 1, 0, 0, 1, 0), 1450) :  2  %\n",
      "((0, 1, 0, 0, 1, 1, 1, 1, 1, 0, 1, 0, 1, 0), 1438) :  2  %\n",
      "((0, 0, 1, 1, 1, 1, 1, 1, 0, 0, 0, 0, 0, 1), 1444) :  2  %\n",
      "((1, 0, 1, 0, 1, 0, 1, 1, 0, 1, 0, 1, 0, 1), 1441) :  1  %\n",
      "((0, 1, 1, 1, 0, 0, 1, 1, 1, 0, 0, 0, 0, 1), 1456) :  1  %\n",
      "((1, 0, 1, 0, 1, 1, 1, 0, 0, 0, 1, 0, 1, 1), 1436) :  1  %\n",
      "((1, 0, 1, 0, 1, 1, 1, 0, 0, 1, 1, 0, 0, 0), 1427) :  1  %\n",
      "((1, 1, 0, 0, 1, 0, 1, 1, 0, 1, 0, 1, 0, 0), 1442) :  1  %\n",
      "((1, 1, 1, 0, 0, 0, 1, 1, 0, 1, 0, 0, 1, 0), 1442) :  1  %\n",
      "((1, 1, 0, 1, 0, 0, 1, 1, 0, 0, 1, 1, 0, 0), 1445) :  1  %\n",
      "((1, 0, 1, 1, 0, 1, 0, 0, 1, 0, 1, 1, 1, 0), 1434) :  1  %\n",
      "((1, 0, 0, 1, 1, 1, 0, 0, 1, 1, 1, 0, 1, 0), 1428) :  1  %\n",
      "((0, 0, 0, 0, 0, 0, 1, 1, 1, 1, 0, 0, 1, 1), 1440) :  1  %\n",
      "((1, 0, 1, 0, 1, 0, 1, 1, 0, 1, 1, 0, 0, 0), 1448) :  1  %\n",
      "((1, 1, 0, 1, 1, 0, 0, 0, 1, 0, 1, 0, 1, 0), 1443) :  1  %\n",
      "((0, 1, 1, 0, 1, 0, 1, 1, 1, 0, 1, 0, 0, 0), 1443) :  1  %\n",
      "((1, 0, 0, 0, 1, 1, 1, 1, 1, 0, 1, 0, 0, 1), 1442) :  1  %\n",
      "((0, 1, 1, 1, 0, 1, 0, 1, 0, 1, 0, 0, 1, 1), 1436) :  1  %\n",
      "((0, 1, 1, 1, 0, 0, 1, 1, 0, 1, 1, 0, 0, 0), 1446) :  1  %\n",
      "((1, 0, 1, 1, 0, 1, 0, 1, 0, 1, 0, 1, 0, 0), 1436) :  1  %\n",
      "((1, 0, 0, 1, 1, 0, 1, 1, 1, 0, 1, 0, 0, 0), 1440) :  1  %\n",
      "((1, 1, 1, 0, 0, 1, 0, 0, 1, 0, 1, 0, 1, 0), 1449) :  1  %\n",
      "((1, 0, 1, 0, 0, 1, 1, 1, 0, 1, 1, 0, 1, 0), 1436) :  1  %\n",
      "((0, 1, 0, 1, 1, 0, 1, 1, 1, 0, 1, 0, 0, 0), 1444) :  1  %\n",
      "((0, 1, 1, 0, 1, 1, 0, 1, 0, 1, 1, 0, 0, 0), 1442) :  1  %\n",
      "((1, 0, 1, 0, 1, 0, 1, 1, 1, 0, 0, 0, 1, 0), 1450) :  1  %\n",
      "((0, 1, 1, 0, 0, 1, 1, 1, 1, 0, 0, 1, 0, 1), 1443) :  1  %\n",
      "((0, 1, 1, 1, 0, 0, 1, 1, 0, 1, 0, 1, 1, 0), 1431) :  1  %\n",
      "((1, 1, 0, 1, 0, 0, 1, 0, 1, 1, 0, 1, 0, 0), 1444) :  1  %\n",
      "((1, 1, 1, 1, 0, 0, 1, 0, 0, 0, 0, 0, 1, 1), 1436) :  1  %\n",
      "((1, 0, 0, 1, 1, 1, 1, 0, 0, 0, 1, 1, 0, 1), 1430) :  1  %\n",
      "((1, 1, 1, 0, 1, 0, 0, 1, 0, 0, 1, 0, 0, 1), 1442) :  1  %\n",
      "((1, 1, 0, 0, 1, 0, 1, 1, 0, 1, 0, 0, 1, 0), 1449) :  1  %\n",
      "((1, 1, 0, 0, 1, 1, 1, 0, 0, 0, 0, 1, 1, 0), 1441) :  1  %\n",
      "((1, 0, 0, 1, 1, 1, 1, 0, 0, 1, 0, 0, 1, 0), 1439) :  1  %\n",
      "((1, 1, 0, 0, 1, 1, 0, 0, 1, 1, 1, 0, 0, 0), 1436) :  1  %\n",
      "((1, 0, 1, 1, 1, 0, 1, 0, 0, 0, 0, 1, 0, 1), 1446) :  1  %\n",
      "((1, 0, 1, 0, 1, 1, 0, 0, 1, 1, 1, 0, 0, 0), 1446) :  1  %\n",
      "((1, 1, 0, 0, 1, 0, 1, 0, 1, 1, 0, 1, 0, 1), 1439) :  1  %\n",
      "((0, 1, 1, 1, 0, 0, 1, 1, 1, 0, 1, 0, 0, 0), 1437) :  1  %\n",
      "((1, 0, 1, 1, 1, 0, 0, 1, 0, 1, 0, 0, 1, 0), 1436) :  1  %\n",
      "((1, 0, 1, 0, 1, 1, 0, 0, 1, 1, 0, 1, 1, 0), 1431) :  1  %\n",
      "((1, 1, 0, 0, 0, 1, 1, 1, 0, 1, 1, 0, 0, 0), 1445) :  1  %\n",
      "((1, 1, 0, 1, 0, 1, 0, 1, 0, 0, 1, 1, 0, 0), 1435) :  1  %\n",
      "((1, 1, 1, 0, 0, 0, 1, 1, 0, 1, 0, 0, 0, 1), 1450) :  1  %\n",
      "((0, 0, 1, 1, 1, 0, 1, 1, 1, 0, 0, 1, 1, 0), 1439) :  1  %\n",
      "((0, 1, 0, 1, 0, 1, 1, 1, 1, 0, 1, 0, 0, 1), 1440) :  1  %\n",
      "((1, 0, 1, 1, 0, 1, 0, 1, 0, 1, 0, 0, 1, 0), 1443) :  1  %\n",
      "((1, 1, 0, 1, 0, 0, 0, 1, 1, 1, 0, 1, 1, 0), 1436) :  1  %\n",
      "((1, 1, 0, 1, 1, 0, 1, 0, 0, 0, 0, 1, 0, 1), 1436) :  1  %\n",
      "((1, 1, 0, 0, 0, 1, 1, 1, 1, 0, 1, 0, 0, 0), 1436) :  1  %\n",
      "((1, 0, 0, 1, 0, 1, 1, 1, 1, 0, 0, 1, 0, 1), 1440) :  1  %\n",
      "((0, 0, 1, 1, 1, 1, 0, 1, 1, 0, 1, 0, 0, 0), 1444) :  1  %\n",
      "((1, 1, 0, 0, 1, 1, 1, 0, 0, 0, 1, 0, 0, 1), 1445) :  1  %\n",
      "((0, 1, 0, 1, 1, 1, 0, 1, 0, 1, 1, 0, 0, 1), 1432) :  1  %\n",
      "((0, 1, 1, 0, 1, 1, 1, 0, 0, 1, 0, 0, 1, 0), 1442) :  1  %\n",
      "((1, 1, 1, 0, 0, 0, 0, 1, 1, 0, 1, 1, 1, 0), 1444) :  1  %\n",
      "((1, 1, 0, 1, 0, 1, 1, 0, 0, 0, 1, 0, 0, 1), 1439) :  1  %\n",
      "((1, 1, 1, 0, 0, 1, 1, 0, 0, 0, 0, 0, 1, 1), 1449) :  1  %\n",
      "((1, 0, 0, 0, 1, 1, 1, 1, 1, 0, 1, 0, 1, 0), 1434) :  1  %\n",
      "((1, 1, 0, 1, 0, 1, 0, 0, 1, 0, 1, 1, 0, 1), 1432) :  1  %\n",
      "((0, 1, 0, 1, 0, 1, 1, 1, 1, 0, 0, 1, 1, 0), 1436) :  1  %\n",
      "((1, 0, 1, 0, 1, 0, 1, 0, 1, 1, 1, 0, 1, 0), 1437) :  1  %\n",
      "((1, 1, 0, 0, 1, 1, 0, 1, 1, 0, 0, 0, 0, 1), 1438) :  1  %\n",
      "((1, 0, 1, 1, 0, 1, 1, 0, 0, 0, 1, 0, 1, 0), 1441) :  1  %\n",
      "((1, 0, 1, 0, 0, 1, 1, 1, 1, 0, 0, 0, 1, 1), 1446) :  1  %\n",
      "((0, 0, 0, 0, 0, 1, 0, 1, 0, 1, 1, 0, 1, 1), 1448) :  1  %\n",
      "((0, 1, 1, 1, 0, 1, 1, 0, 0, 0, 1, 0, 1, 1), 1434) :  1  %\n",
      "((1, 0, 1, 0, 0, 1, 1, 1, 1, 0, 1, 0, 0, 0), 1446) :  1  %\n",
      "((1, 1, 1, 0, 0, 1, 0, 0, 1, 0, 1, 1, 0, 0), 1442) :  1  %\n",
      "((1, 1, 0, 1, 0, 1, 0, 1, 0, 0, 1, 0, 1, 0), 1442) :  1  %\n",
      "((0, 1, 1, 0, 0, 1, 1, 1, 1, 0, 1, 0, 0, 0), 1450) :  1  %\n",
      "((1, 1, 0, 1, 0, 0, 1, 0, 1, 1, 0, 0, 1, 1), 1440) :  1  %\n",
      "((1, 1, 1, 1, 0, 0, 0, 0, 1, 0, 0, 1, 0, 1), 1448) :  1  %\n",
      "((1, 1, 0, 0, 0, 1, 1, 1, 1, 0, 0, 0, 0, 1), 1455) :  1  %\n"
     ]
    }
   ],
   "source": [
    "maxDict1 = dict()\n",
    "for _ in range(100):\n",
    "    result_t = algoritmo_genetico(m2g,3,max,100,50,0.8,0.05)\n",
    "    result = ( tuple(result_t[0]), result_t[1] )\n",
    "    if result in maxDict1:\n",
    "        maxDict1[result] += 1\n",
    "    else:\n",
    "        maxDict1[result] = 1\n",
    "\n",
    "maxSorted1 = sorted(maxDict1.items(), key = operator.itemgetter(1), reverse = True)\n",
    "for result in maxSorted1:\n",
    "    print(result[0], ': ', round( result[1], 2), ' %' )"
   ]
  },
  {
   "cell_type": "markdown",
   "metadata": {},
   "source": [
    "Si sólo variamos la capacidad de la mochila, cuanto mayor sea su tamaño, más tiempo lleva su ejecución.\n",
    "\n",
    "Después de ejecutar varios ejemplos, podemos observar que las mochilas pequeñas nos devuelven un menor número de resultados con valores más distantes entre sí, al contrario de las mochilas más grandes que nos devuelven muchos más resultados pero con valores que difieren menos del fitness óptimo. Por ejemplo para m1g el resultado óptimo es 309, hemos ejecutado este algoritmo 100 veces y el 99% de éstas nos ha salido ese resultado, el otro 1% restante nos ha salido 276 (dista 33 del fitness óptimo). Por otro lado para m2g el resultado óptimo es 1444, en este caso al ejecutarlo 100 veces nos han salido valores mucho más repartidos que en el ejemplo anterior, todos ellos comprendidos entre 1425 y 1458, el valor óptimo aquí es 1444 (valor que nos sale pocas veces), en cambio en el peor de los casos sólo difiere 19 en el peor de los casos.\n",
    "\n",
    "El algoritmo funciona correctamente mostrándonos una solución muy óptima cuando el tamaño de la mochila es bajo, si vamos aumentando ese tamaño se puede observar que el resultado se va alejando del óptimo poco a poco. Se puede observar muy bien en los ejemplos dados, el tamaño de m1g y m3g varían bastante entre sí por lo que se aprecia que el resultado de m1g es mucho más óptimo que el de m3g.\n",
    "\n",
    "En conclusión, podemos decir que en cuanto a calidad siempre funciona bastante bien, y en cuanto a eficiencia, al ser más pequeña la mochila va a tardar bastante menos que una mochila grande, a parte de darnos un buen resultado."
   ]
  },
  {
   "cell_type": "markdown",
   "metadata": {},
   "source": [
    "### Ejercicio 8\n",
    "Resolver mediante una configuración de un algoritmo genético el problema del cuadrado mágico que consiste en colocar en un cuadrado n × n los números naturales de 1 a n^2, \n",
    "de tal manera que las filas, las columnas y las diagonales principales sumen los mismo. \n",
    "Ejemplo: una solucion para n= 3\n",
    "    \n",
    "    4 3 8\n",
    "    9 5 1\n",
    "    2 7 6\n",
    "    \n",
    "- Dimension del cuadrado: N\n",
    "- Suma común: SUMA=(N·(N^2 + 1))/2\n",
    "    \n",
    "    Comenta el resultado y el rendimiento del algoritmo para distintos parámetros.\n",
    "    \n",
    "\n",
    "    \n",
    "    "
   ]
  },
  {
   "cell_type": "code",
   "execution_count": 77,
   "metadata": {},
   "outputs": [],
   "source": [
    "# Sus argumentos son:\n",
    "# problema_genetico: una instancia de la clase ProblemaGenetico con la representación adecuada del problema de optimización \n",
    "# que se quiere resolver.\n",
    "# k: número de participantes en los torneos de selección.\n",
    "# nGen: número de generaciones (que se usa como condición de terminación)\n",
    "# size: número de individuos en cada generación\n",
    "# prop_cruce: proporción del total de la población que serán padres. \n",
    "# prob_mutación: probabilidad de realizar una mutación de un gen.\n",
    "# poblacion: poblacion_inicial(problema_genetico,size)\n",
    "\n",
    "def algoritmo_genetico_ej8(problema_genetico,k,ngen,size,prop_cruces,prob_mutar):\n",
    "    poblacion= poblacion_inicial_ej8(problema_genetico,size)\n",
    "    n_padres = round(size*prop_cruces)\n",
    "    n_padres = int(n_padres if n_padres%2==0 else n_padres-1)\n",
    "    n_directos = size-n_padres\n",
    "    for _ in range(ngen):\n",
    "        # Tal cómo hemos planteado el problema, nuestro algoritmo es de minimización (min)\n",
    "        poblacion = nueva_generacion(problema_genetico,k,min,poblacion,n_padres,n_directos,prob_mutar)\n",
    "\n",
    "    mejor_cr = min(poblacion, key=problema_genetico.fitness)\n",
    "    return (mejor_cr,problema_genetico.fitness(mejor_cr))"
   ]
  },
  {
   "cell_type": "code",
   "execution_count": 78,
   "metadata": {},
   "outputs": [],
   "source": [
    "def poblacion_inicial_ej8(problema_genetico, size):\n",
    "    l = []\n",
    "    for _ in range(size):\n",
    "        l.append(random.sample(problema_genetico.genes, problema_genetico.longitud_individuos))\n",
    "    return l"
   ]
  },
  {
   "cell_type": "code",
   "execution_count": 79,
   "metadata": {},
   "outputs": [],
   "source": [
    "# Intercambia 2 números del cromosoma al azar\n",
    "def mutar_ej8(cromosoma, prob):\n",
    "    tam = len(cromosoma)\n",
    "    x1 = random.randint(0,tam-1)\n",
    "    x2 = random.randint(0,tam-1)\n",
    "    \n",
    "    if prob > random.uniform(0,1):\n",
    "        aux = cromosoma[x1]\n",
    "        cromosoma[x1] = cromosoma[x2]\n",
    "        cromosoma[x2] = aux\n",
    "    return cromosoma"
   ]
  },
  {
   "cell_type": "code",
   "execution_count": 80,
   "metadata": {},
   "outputs": [],
   "source": [
    "def aux_cruzar_ej8(cromosoma1, cromosoma2, x1, x2):\n",
    "    tam = len(cromosoma1)\n",
    "    res = [0 for i in range(tam)]\n",
    "    \n",
    "    fijo = cromosoma2[x1:x2]\n",
    "    aux1 = cromosoma2[0:x1]\n",
    "    aux2 = cromosoma2[x2:tam]\n",
    "    aux3 = aux2 + aux1 + fijo\n",
    "    \n",
    "    #print(aux1, fijo, aux2)\n",
    "    \n",
    "    for i in range(x1,x2):\n",
    "        res[i] = cromosoma1[i]\n",
    "    \n",
    "    it = x2\n",
    "    it2 = 0\n",
    "    while(it<tam and it2<len(aux3)):\n",
    "        elem = aux3[it2]\n",
    "        if elem not in res:\n",
    "            res[it] = elem\n",
    "            it+=1\n",
    "        it2+=1\n",
    "    \n",
    "    it = 0\n",
    "    it2 = 0\n",
    "    while(it<x1 and it2<len(aux3)):\n",
    "        elem = aux3[it2]\n",
    "        if elem not in res:\n",
    "            res[it] = elem\n",
    "            it+=1\n",
    "        it2+=1\n",
    "    return res\n",
    "\n",
    "# Cruce de orden\n",
    "def cruzar_ej8(cromosoma1, cromosoma2):\n",
    "    tam = len(cromosoma1)\n",
    "    x1 = random.randint(0,tam-1)\n",
    "    x2 = random.randint(0,tam-1)\n",
    "    if x2<x1:\n",
    "        xaux = x1\n",
    "        x1 = x2\n",
    "        x2 = x1\n",
    "        \n",
    "    l = []\n",
    "    l.append(aux_cruzar_ej8(cromosoma1, cromosoma2, x1, x2+1))\n",
    "    l.append(aux_cruzar_ej8(cromosoma2, cromosoma1, x1, x2+1))\n",
    "    return l"
   ]
  },
  {
   "cell_type": "code",
   "execution_count": 81,
   "metadata": {},
   "outputs": [],
   "source": [
    "# Obtenemos el fitness, cuanto más se acerque al 0 mejor será la respuesta, siendo el 0 la solución correcta\n",
    "def fitness_ej8(cromosoma):\n",
    "    n = int(len(cromosoma)**(1/2))\n",
    "    suma = (n*(n**2 +1))/2\n",
    "    fitness = 0\n",
    "    \n",
    "    # Sumas horizontales\n",
    "    sumaActual = 0\n",
    "    for i in range(1, len(cromosoma)+1):\n",
    "        sumaActual += cromosoma[i-1]\n",
    "        if i%3==0:\n",
    "            fitness += abs(suma-sumaActual)\n",
    "            sumaActual = 0\n",
    "            \n",
    "    # Sumas verticales\n",
    "    sumaActual = 0\n",
    "    for i in range(n):\n",
    "        for j in range(0,len(cromosoma),n):\n",
    "            sumaActual += cromosoma[i+j]\n",
    "        fitness += abs(suma-sumaActual)\n",
    "        sumaActual = 0    \n",
    "        \n",
    "    # Sumas diagonales\n",
    "    sumaActual = 0\n",
    "    elems = 0\n",
    "    it = 0\n",
    "    while(it<len(cromosoma) and elems<n):\n",
    "        sumaActual += cromosoma[it]\n",
    "        elems+=1\n",
    "        it+=n+1\n",
    "    fitness += abs(suma-sumaActual)\n",
    "    \n",
    "    sumaActual = 0\n",
    "    elems = 0\n",
    "    it = n-1\n",
    "    while(it<len(cromosoma) and elems<n):\n",
    "        sumaActual += cromosoma[it]\n",
    "        elems+=1\n",
    "        it+=n-1\n",
    "    fitness += abs(suma-sumaActual)\n",
    "            \n",
    "    return fitness"
   ]
  },
  {
   "cell_type": "code",
   "execution_count": 82,
   "metadata": {},
   "outputs": [
    {
     "data": {
      "text/plain": [
       "'poblacion_inicial_ej8(cuadradoMagico, 10)\\nmutar_ej8([1,2,3,4,5,6,7,8,9],1)\\ncruzar_ej8([1,2,3,4,5,6], [4,2,1,5,6,3])\\nfitness_ej8([4,3,8,9,5,1,2,7,6])'"
      ]
     },
     "execution_count": 82,
     "metadata": {},
     "output_type": "execute_result"
    }
   ],
   "source": [
    "# Ejemplos para compeobar que funcionan cada uno de los métodos por separado\n",
    "'''poblacion_inicial_ej8(cuadradoMagico, 10)\n",
    "mutar_ej8([1,2,3,4,5,6,7,8,9],1)\n",
    "cruzar_ej8([1,2,3,4,5,6], [4,2,1,5,6,3])\n",
    "fitness_ej8([4,3,8,9,5,1,2,7,6])'''"
   ]
  },
  {
   "cell_type": "code",
   "execution_count": 83,
   "metadata": {},
   "outputs": [],
   "source": [
    "# Ejecución del algoritmo, cambiar la n por el tamaño que se desee\n",
    "n = 3\n",
    "numeros = list(range(1, n**2 +1))\n",
    "cuadradoMagico = ProblemaGenetico(numeros, 'null', mutar_ej8, cruzar_ej8, fitness_ej8, n**2)\n",
    "#algoritmo_genetico_ej8(problema_genetico,k,ngen,size,prop_cruces,prob_mutar)\n",
    "#algoritmo_genetico_ej8(cuadradoMagico,9,20,10,0.8,0.05)"
   ]
  },
  {
   "cell_type": "code",
   "execution_count": 84,
   "metadata": {},
   "outputs": [
    {
     "name": "stdout",
     "output_type": "stream",
     "text": [
      "((5, 3, 6, 1, 7, 8, 9, 4, 2), 12.0) :  1  %\n",
      "((3, 5, 8, 7, 4, 1, 2, 6, 9), 14.0) :  1  %\n",
      "((8, 1, 5, 2, 5, 6, 3, 9, 4), 10.0) :  1  %\n",
      "((2, 6, 5, 9, 5, 1, 4, 3, 7), 8.0) :  1  %\n",
      "((2, 3, 7, 9, 5, 4, 1, 6, 8), 16.0) :  1  %\n",
      "((8, 7, 1, 2, 4, 9, 3, 5, 6), 16.0) :  1  %\n",
      "((3, 4, 8, 7, 2, 5, 6, 9, 1), 14.0) :  1  %\n",
      "((3, 1, 6, 8, 7, 5, 2, 9, 4), 15.0) :  1  %\n",
      "((8, 5, 1, 4, 2, 9, 3, 7, 6), 14.0) :  1  %\n",
      "((2, 7, 6, 9, 5, 1, 3, 4, 8), 3.0) :  1  %\n",
      "((9, 2, 5, 1, 4, 8, 6, 7, 3), 9.0) :  1  %\n",
      "((2, 9, 1, 8, 4, 6, 5, 3, 7), 15.0) :  1  %\n",
      "((1, 5, 7, 9, 6, 1, 4, 2, 8), 10.0) :  1  %\n",
      "((5, 8, 3, 1, 4, 9, 7, 1, 6), 11.0) :  1  %\n",
      "((3, 8, 2, 7, 6, 4, 5, 1, 9), 9.0) :  1  %\n",
      "((3, 6, 5, 6, 5, 2, 3, 4, 7), 10.0) :  1  %\n",
      "((7, 8, 2, 1, 6, 9, 7, 5, 4), 10.0) :  1  %\n",
      "((7, 4, 9, 5, 3, 1, 2, 8, 6), 16.0) :  1  %\n",
      "((2, 9, 4, 7, 5, 3, 6, 1, 8), 0.0) :  1  %\n",
      "((2, 8, 6, 7, 3, 4, 5, 1, 9), 12.0) :  1  %\n",
      "((7, 3, 5, 6, 8, 3, 4, 9, 1), 19.0) :  1  %\n",
      "((5, 7, 2, 6, 8, 3, 4, 1, 9), 14.0) :  1  %\n",
      "((7, 5, 4, 1, 6, 8, 9, 3, 2), 10.0) :  1  %\n",
      "((1, 6, 8, 5, 7, 4, 9, 3, 2), 18.0) :  1  %\n",
      "((7, 2, 3, 1, 8, 9, 4, 6, 5), 17.0) :  1  %\n",
      "((5, 2, 8, 7, 6, 1, 3, 9, 4), 8.0) :  1  %\n",
      "((3, 8, 6, 9, 2, 1, 4, 5, 7), 14.0) :  1  %\n",
      "((7, 6, 2, 1, 7, 9, 5, 3, 4), 12.0) :  1  %\n",
      "((3, 7, 3, 6, 8, 1, 5, 2, 9), 14.0) :  1  %\n",
      "((4, 9, 2, 7, 1, 8, 3, 6, 5), 18.0) :  1  %\n",
      "((5, 1, 8, 7, 6, 4, 3, 9, 2), 10.0) :  1  %\n",
      "((2, 5, 9, 8, 6, 1, 7, 3, 4), 16.0) :  1  %\n",
      "((5, 9, 1, 2, 3, 8, 7, 4, 6), 11.0) :  1  %\n",
      "((7, 1, 8, 6, 5, 4, 2, 9, 3), 2.0) :  1  %\n",
      "((6, 5, 2, 3, 8, 6, 5, 4, 7), 14.0) :  1  %\n",
      "((4, 9, 3, 7, 2, 6, 5, 1, 8), 14.0) :  1  %\n",
      "((6, 8, 2, 1, 3, 4, 8, 1, 7), 17.0) :  1  %\n",
      "((5, 2, 8, 9, 1, 4, 3, 7, 6), 18.0) :  1  %\n",
      "((5, 8, 4, 7, 6, 2, 3, 1, 9), 11.0) :  1  %\n",
      "((3, 4, 9, 8, 7, 1, 3, 5, 6), 11.0) :  1  %\n",
      "((6, 5, 3, 1, 6, 8, 7, 2, 4), 8.0) :  1  %\n",
      "((1, 9, 4, 6, 5, 2, 7, 3, 8), 12.0) :  1  %\n",
      "((4, 8, 3, 1, 5, 9, 7, 6, 3), 11.0) :  1  %\n",
      "((4, 2, 8, 9, 5, 1, 3, 6, 7), 8.0) :  1  %\n",
      "((8, 1, 6, 2, 6, 4, 5, 7, 3), 10.0) :  1  %\n",
      "((9, 1, 6, 4, 7, 8, 2, 5, 3), 18.0) :  1  %\n",
      "((1, 9, 7, 8, 4, 2, 6, 5, 3), 19.0) :  1  %\n",
      "((8, 3, 5, 2, 4, 9, 6, 7, 1), 6.0) :  1  %\n",
      "((2, 6, 8, 9, 3, 1, 4, 5, 7), 9.0) :  1  %\n",
      "((1, 7, 6, 8, 6, 2, 3, 7, 9), 17.0) :  1  %\n",
      "((7, 3, 6, 8, 2, 4, 1, 9, 5), 11.0) :  1  %\n",
      "((9, 3, 2, 1, 8, 7, 5, 6, 4), 12.0) :  1  %\n",
      "((9, 5, 1, 2, 6, 8, 4, 3, 7), 15.0) :  1  %\n",
      "((7, 2, 5, 3, 6, 7, 4, 3, 2), 14.0) :  1  %\n",
      "((4, 2, 9, 8, 6, 5, 3, 7, 1), 15.0) :  1  %\n",
      "((6, 5, 2, 1, 7, 9, 8, 3, 4), 8.0) :  1  %\n",
      "((8, 1, 5, 3, 9, 4, 2, 7, 6), 15.0) :  1  %\n",
      "((9, 3, 4, 2, 7, 6, 5, 8, 1), 13.0) :  1  %\n",
      "((3, 8, 4, 1, 6, 9, 7, 2, 5), 13.0) :  1  %\n",
      "((5, 1, 7, 8, 3, 4, 2, 9, 6), 12.0) :  1  %\n",
      "((7, 3, 8, 6, 4, 1, 2, 7, 5), 12.0) :  1  %\n",
      "((7, 3, 4, 9, 1, 5, 2, 8, 6), 17.0) :  1  %\n",
      "((2, 9, 5, 7, 3, 4, 6, 1, 8), 9.0) :  1  %\n",
      "((2, 8, 5, 9, 1, 6, 3, 7, 4), 18.0) :  1  %\n",
      "((9, 1, 3, 6, 2, 7, 5, 8, 4), 19.0) :  1  %\n",
      "((3, 6, 5, 7, 7, 6, 5, 2, 8), 15.0) :  1  %\n",
      "((8, 2, 5, 3, 4, 7, 6, 9, 2), 7.0) :  1  %\n",
      "((8, 1, 7, 4, 2, 6, 3, 9, 2), 14.0) :  1  %\n",
      "((5, 7, 6, 9, 4, 3, 1, 8, 6), 12.0) :  1  %\n",
      "((2, 4, 8, 9, 6, 1, 3, 5, 7), 6.0) :  1  %\n",
      "((5, 6, 7, 9, 3, 2, 1, 4, 8), 15.0) :  1  %\n",
      "((3, 9, 5, 8, 4, 4, 8, 2, 5), 13.0) :  1  %\n",
      "((1, 7, 6, 5, 5, 3, 8, 1, 9), 16.0) :  1  %\n",
      "((6, 1, 7, 9, 5, 1, 2, 8, 4), 9.0) :  1  %\n",
      "((7, 6, 2, 1, 5, 9, 8, 3, 4), 3.0) :  1  %\n",
      "((2, 5, 7, 9, 4, 1, 3, 6, 8), 8.0) :  1  %\n",
      "((8, 2, 4, 3, 8, 2, 3, 5, 1), 20.0) :  1  %\n",
      "((8, 1, 5, 2, 7, 6, 4, 9, 3), 10.0) :  1  %\n",
      "((5, 2, 6, 3, 4, 8, 7, 9, 1), 11.0) :  1  %\n",
      "((5, 7, 1, 2, 6, 5, 8, 3, 9), 15.0) :  1  %\n",
      "((2, 3, 8, 9, 7, 1, 4, 5, 6), 8.0) :  1  %\n",
      "((8, 3, 6, 1, 2, 9, 7, 4, 5), 18.0) :  1  %\n",
      "((5, 2, 8, 6, 4, 1, 3, 9, 5), 9.0) :  1  %\n",
      "((5, 2, 8, 3, 6, 5, 3, 7, 4), 10.0) :  1  %\n",
      "((2, 7, 1, 3, 8, 5, 9, 4, 6), 22.0) :  1  %\n",
      "((1, 6, 7, 9, 3, 4, 2, 5, 8), 16.0) :  1  %\n",
      "((8, 1, 6, 2, 9, 4, 3, 7, 5), 14.0) :  1  %\n",
      "((6, 4, 2, 1, 5, 8, 7, 9, 3), 16.0) :  1  %\n",
      "((7, 6, 2, 3, 4, 9, 8, 1, 5), 12.0) :  1  %\n",
      "((6, 7, 2, 3, 8, 4, 5, 1, 9), 10.0) :  1  %\n",
      "((7, 1, 5, 3, 4, 8, 5, 7, 2), 9.0) :  1  %\n",
      "((5, 4, 8, 7, 2, 1, 3, 9, 6), 14.0) :  1  %\n",
      "((8, 4, 2, 3, 5, 9, 7, 6, 1), 12.0) :  1  %\n",
      "((5, 2, 8, 9, 6, 1, 4, 7, 3), 12.0) :  1  %\n",
      "((5, 7, 4, 1, 3, 8, 9, 2, 6), 14.0) :  1  %\n",
      "((8, 6, 2, 4, 3, 7, 9, 1, 5), 16.0) :  1  %\n",
      "((5, 6, 3, 1, 5, 8, 7, 3, 1), 16.0) :  1  %\n",
      "((8, 1, 6, 3, 2, 9, 4, 7, 5), 15.0) :  1  %\n",
      "((5, 9, 3, 1, 2, 7, 8, 4, 6), 16.0) :  1  %\n",
      "((9, 1, 4, 2, 8, 7, 3, 5, 6), 16.0) :  1  %\n"
     ]
    }
   ],
   "source": [
    "# Ejemplo de un mal fitness, ejecución rápida (parámetros k, ngen y size bajos)\n",
    "minDict = dict()\n",
    "for _ in range(100):\n",
    "    result_t = algoritmo_genetico_ej8(cuadradoMagico,9,20,10,0.8,0.05)\n",
    "    result = (tuple(result_t[0]), result_t[1])\n",
    "    if result in minDict:\n",
    "        minDict[result] += 1\n",
    "    else:\n",
    "        minDict[result] = 1\n",
    "\n",
    "dictSort = sorted(minDict.items(), key = operator.itemgetter(1), reverse = True)\n",
    "for result in dictSort:\n",
    "    print(result[0], ': ', round( result[1], 2), ' %' )"
   ]
  },
  {
   "cell_type": "code",
   "execution_count": 85,
   "metadata": {},
   "outputs": [
    {
     "name": "stdout",
     "output_type": "stream",
     "text": [
      "((2, 6, 7, 9, 5, 1, 3, 4, 8), 2.0) :  5  %\n",
      "((8, 3, 4, 1, 5, 9, 6, 7, 2), 0.0) :  5  %\n",
      "((8, 1, 7, 4, 5, 6, 3, 9, 2), 2.0) :  4  %\n",
      "((2, 7, 6, 9, 5, 1, 4, 3, 8), 0.0) :  3  %\n",
      "((9, 1, 5, 2, 6, 7, 4, 8, 3), 3.0) :  3  %\n",
      "((5, 9, 1, 3, 4, 8, 7, 2, 6), 3.0) :  3  %\n",
      "((4, 9, 2, 3, 5, 7, 8, 1, 6), 0.0) :  3  %\n",
      "((6, 7, 2, 1, 5, 9, 8, 3, 4), 0.0) :  3  %\n",
      "((4, 3, 8, 9, 5, 1, 2, 7, 6), 0.0) :  2  %\n",
      "((8, 1, 6, 3, 5, 7, 4, 9, 2), 0.0) :  2  %\n",
      "((1, 8, 6, 9, 4, 2, 5, 3, 7), 3.0) :  2  %\n",
      "((9, 2, 4, 1, 6, 8, 5, 7, 3), 3.0) :  2  %\n",
      "((7, 6, 2, 1, 5, 9, 8, 4, 3), 2.0) :  2  %\n",
      "((7, 6, 3, 1, 5, 9, 8, 4, 3), 3.0) :  2  %\n",
      "((3, 7, 5, 8, 6, 1, 4, 2, 9), 3.0) :  2  %\n",
      "((2, 9, 3, 6, 5, 4, 7, 1, 8), 2.0) :  2  %\n",
      "((3, 9, 2, 4, 5, 6, 8, 1, 7), 2.0) :  2  %\n",
      "((7, 1, 8, 6, 5, 4, 2, 9, 3), 2.0) :  1  %\n",
      "((9, 3, 4, 1, 6, 8, 5, 7, 3), 5.0) :  1  %\n",
      "((6, 1, 8, 7, 5, 3, 2, 9, 4), 0.0) :  1  %\n",
      "((9, 2, 3, 1, 7, 8, 5, 6, 4), 7.0) :  1  %\n",
      "((4, 2, 9, 7, 5, 3, 1, 8, 6), 6.0) :  1  %\n",
      "((8, 4, 3, 1, 5, 9, 7, 6, 2), 2.0) :  1  %\n",
      "((2, 4, 6, 9, 6, 1, 3, 5, 7), 6.0) :  1  %\n",
      "((8, 2, 6, 3, 5, 7, 4, 8, 2), 2.0) :  1  %\n",
      "((4, 9, 2, 1, 5, 7, 8, 1, 6), 4.0) :  1  %\n",
      "((6, 7, 1, 1, 6, 9, 8, 4, 5), 8.0) :  1  %\n",
      "((1, 9, 5, 7, 6, 2, 4, 3, 8), 6.0) :  1  %\n",
      "((5, 9, 1, 2, 4, 9, 8, 2, 5), 3.0) :  1  %\n",
      "((2, 9, 3, 7, 5, 3, 7, 1, 8), 4.0) :  1  %\n",
      "((3, 4, 8, 9, 5, 1, 3, 6, 7), 3.0) :  1  %\n",
      "((8, 5, 2, 1, 6, 8, 6, 4, 5), 5.0) :  1  %\n",
      "((2, 8, 5, 7, 4, 1, 6, 3, 9), 6.0) :  1  %\n",
      "((2, 9, 4, 7, 5, 3, 6, 1, 8), 0.0) :  1  %\n",
      "((2, 6, 7, 8, 5, 1, 3, 4, 8), 4.0) :  1  %\n",
      "((7, 6, 3, 3, 3, 9, 7, 7, 3), 10.0) :  1  %\n",
      "((8, 6, 1, 2, 3, 9, 5, 6, 4), 8.0) :  1  %\n",
      "((8, 1, 6, 2, 6, 8, 3, 9, 1), 6.0) :  1  %\n",
      "((2, 8, 3, 6, 5, 4, 7, 1, 9), 7.0) :  1  %\n",
      "((2, 6, 7, 9, 5, 1, 3, 4, 7), 3.0) :  1  %\n",
      "((3, 9, 2, 5, 5, 5, 7, 1, 8), 4.0) :  1  %\n",
      "((3, 4, 8, 9, 5, 1, 2, 6, 7), 2.0) :  1  %\n",
      "((7, 1, 8, 5, 6, 5, 3, 9, 2), 6.0) :  1  %\n",
      "((5, 8, 2, 3, 4, 8, 7, 2, 6), 4.0) :  1  %\n",
      "((4, 9, 1, 5, 3, 7, 6, 2, 8), 9.0) :  1  %\n",
      "((8, 7, 2, 1, 3, 9, 6, 5, 4), 8.0) :  1  %\n",
      "((3, 7, 6, 9, 5, 1, 4, 3, 8), 3.0) :  1  %\n",
      "((5, 8, 2, 1, 4, 7, 9, 3, 6), 6.0) :  1  %\n",
      "((3, 5, 7, 9, 4, 1, 2, 6, 8), 6.0) :  1  %\n",
      "((9, 1, 8, 4, 5, 6, 2, 9, 1), 6.0) :  1  %\n",
      "((5, 1, 9, 6, 7, 2, 4, 8, 3), 7.0) :  1  %\n",
      "((7, 2, 6, 3, 4, 8, 5, 9, 1), 3.0) :  1  %\n",
      "((1, 9, 5, 8, 4, 3, 6, 2, 7), 3.0) :  1  %\n",
      "((3, 6, 5, 7, 6, 1, 4, 2, 9), 7.0) :  1  %\n",
      "((3, 6, 7, 9, 5, 1, 3, 4, 8), 3.0) :  1  %\n",
      "((6, 3, 9, 8, 5, 2, 1, 7, 4), 6.0) :  1  %\n",
      "((7, 3, 5, 2, 4, 9, 6, 8, 1), 3.0) :  1  %\n",
      "((9, 3, 6, 1, 4, 7, 5, 8, 2), 6.0) :  1  %\n",
      "((6, 6, 2, 1, 5, 9, 7, 3, 4), 5.0) :  1  %\n",
      "((4, 1, 7, 9, 6, 3, 2, 8, 5), 6.0) :  1  %\n",
      "((4, 9, 1, 6, 3, 6, 5, 2, 8), 8.0) :  1  %\n",
      "((5, 3, 7, 9, 4, 2, 1, 8, 6), 3.0) :  1  %\n",
      "((6, 2, 7, 8, 4, 3, 2, 9, 5), 4.0) :  1  %\n",
      "((1, 9, 4, 7, 4, 4, 7, 1, 9), 7.0) :  1  %\n",
      "((4, 8, 4, 7, 6, 2, 5, 1, 9), 6.0) :  1  %\n",
      "((7, 6, 3, 1, 4, 9, 7, 5, 3), 4.0) :  1  %\n",
      "((6, 5, 4, 1, 7, 9, 8, 3, 2), 8.0) :  1  %\n",
      "((7, 6, 2, 1, 5, 9, 7, 4, 3), 3.0) :  1  %\n",
      "((7, 6, 3, 1, 5, 9, 7, 4, 3), 2.0) :  1  %\n",
      "((5, 9, 1, 2, 4, 9, 8, 1, 6), 4.0) :  1  %\n"
     ]
    }
   ],
   "source": [
    "# Ejemplo de un buen fitness, ejecución lenta (parámetros k, ngen y size altos)\n",
    "minDict = dict()\n",
    "for _ in range(100):\n",
    "    result_t = algoritmo_genetico_ej8(cuadradoMagico,60,60,60,0.8,0.05)\n",
    "    result = (tuple(result_t[0]), result_t[1])\n",
    "    if result in minDict:\n",
    "        minDict[result] += 1\n",
    "    else:\n",
    "        minDict[result] = 1\n",
    "\n",
    "dictSort = sorted(minDict.items(), key = operator.itemgetter(1), reverse = True)\n",
    "for result in dictSort:\n",
    "    print(result[0], ': ', round( result[1], 2), ' %' )"
   ]
  },
  {
   "cell_type": "code",
   "execution_count": 86,
   "metadata": {},
   "outputs": [],
   "source": [
    "# Ahora vamos a ejecutar los mismos 2 algoritmos de antes pero para n = 5, en lugar de para n = 3\n",
    "n = 5\n",
    "numeros = list(range(1, n**2 +1))\n",
    "cuadradoMagico = ProblemaGenetico(numeros, 'null', mutar_ej8, cruzar_ej8, fitness_ej8, n**2)"
   ]
  },
  {
   "cell_type": "code",
   "execution_count": 87,
   "metadata": {},
   "outputs": [
    {
     "name": "stdout",
     "output_type": "stream",
     "text": [
      "((16, 9, 14, 23, 6, 19, 10, 5, 18, 12, 8, 21, 21, 22, 23, 16, 9, 1, 13, 18, 6, 15, 25, 2, 7), 213.0) :  1  %\n",
      "((12, 15, 23, 8, 20, 10, 17, 1, 19, 4, 2, 14, 3, 6, 13, 22, 11, 21, 24, 18, 16, 5, 9, 25, 10), 238.0) :  1  %\n",
      "((20, 8, 21, 4, 15, 24, 22, 16, 25, 13, 25, 20, 11, 22, 1, 3, 5, 21, 14, 23, 9, 10, 1, 7, 4), 223.0) :  1  %\n",
      "((11, 21, 8, 16, 15, 20, 22, 5, 19, 2, 23, 13, 10, 25, 12, 1, 14, 18, 6, 4, 7, 3, 24, 9, 17), 249.0) :  1  %\n",
      "((15, 16, 14, 9, 12, 24, 18, 20, 6, 22, 7, 10, 5, 1, 8, 10, 17, 4, 23, 25, 19, 11, 24, 21, 2), 219.0) :  1  %\n",
      "((7, 12, 10, 16, 15, 13, 21, 25, 3, 18, 20, 5, 17, 9, 22, 19, 23, 11, 14, 8, 6, 4, 1, 24, 2), 204.0) :  1  %\n",
      "((4, 5, 19, 23, 16, 8, 14, 24, 10, 25, 17, 2, 7, 13, 3, 18, 22, 11, 21, 1, 12, 20, 6, 9, 15), 242.0) :  1  %\n",
      "((18, 6, 20, 2, 13, 15, 16, 5, 19, 11, 1, 8, 7, 24, 22, 12, 4, 21, 9, 14, 23, 25, 10, 17, 3), 231.0) :  1  %\n",
      "((25, 14, 22, 8, 23, 16, 15, 21, 24, 18, 10, 17, 2, 3, 4, 5, 6, 1, 13, 9, 12, 20, 7, 19, 11), 233.0) :  1  %\n",
      "((22, 19, 4, 25, 17, 8, 24, 16, 6, 18, 21, 3, 12, 2, 9, 10, 13, 15, 1, 14, 20, 11, 25, 23, 5), 224.0) :  1  %\n",
      "((24, 23, 13, 9, 13, 20, 7, 17, 15, 18, 19, 10, 11, 24, 12, 23, 6, 9, 11, 7, 22, 17, 20, 11, 16), 221.0) :  1  %\n",
      "((23, 20, 12, 2, 13, 21, 15, 5, 24, 22, 1, 6, 17, 19, 16, 8, 18, 7, 3, 10, 14, 11, 25, 9, 4), 239.0) :  1  %\n",
      "((19, 23, 20, 22, 10, 13, 1, 24, 8, 14, 17, 12, 18, 2, 7, 6, 9, 11, 16, 21, 15, 25, 4, 5, 10), 241.0) :  1  %\n",
      "((13, 19, 22, 5, 21, 6, 18, 10, 17, 8, 25, 11, 16, 7, 12, 9, 2, 1, 20, 23, 14, 15, 4, 24, 3), 232.0) :  1  %\n",
      "((25, 21, 22, 23, 10, 24, 5, 2, 7, 1, 8, 11, 5, 12, 18, 1, 23, 24, 8, 4, 17, 2, 9, 11, 21), 268.0) :  1  %\n",
      "((11, 4, 20, 9, 7, 12, 21, 8, 13, 25, 22, 15, 17, 23, 6, 24, 16, 18, 2, 14, 1, 10, 5, 19, 3), 240.0) :  1  %\n",
      "((16, 23, 10, 15, 8, 1, 4, 9, 6, 18, 24, 21, 19, 25, 3, 11, 14, 7, 12, 13, 17, 15, 22, 5, 20), 232.0) :  1  %\n",
      "((21, 20, 15, 6, 1, 7, 4, 2, 23, 22, 17, 5, 19, 10, 3, 16, 18, 13, 14, 25, 9, 24, 8, 12, 11), 237.0) :  1  %\n",
      "((12, 6, 17, 20, 2, 21, 5, 9, 16, 7, 18, 14, 13, 4, 11, 10, 23, 24, 1, 19, 3, 15, 8, 22, 25), 249.0) :  1  %\n",
      "((2, 15, 1, 3, 8, 4, 13, 12, 6, 21, 17, 18, 25, 24, 19, 20, 7, 14, 9, 10, 22, 5, 16, 23, 11), 234.0) :  1  %\n",
      "((19, 25, 6, 15, 13, 24, 14, 16, 22, 11, 3, 17, 20, 10, 9, 18, 5, 2, 8, 23, 1, 12, 21, 7, 4), 219.0) :  1  %\n",
      "((16, 20, 21, 23, 22, 10, 17, 17, 5, 19, 14, 3, 6, 24, 25, 23, 13, 16, 22, 7, 18, 25, 8, 11, 9), 210.0) :  1  %\n",
      "((12, 25, 3, 4, 13, 18, 1, 24, 21, 2, 15, 6, 11, 19, 18, 13, 22, 5, 14, 9, 8, 20, 17, 7, 23), 242.0) :  1  %\n",
      "((3, 7, 14, 13, 12, 24, 21, 7, 5, 23, 10, 1, 21, 2, 20, 19, 13, 16, 25, 11, 12, 25, 23, 15, 6), 224.0) :  1  %\n",
      "((24, 13, 1, 16, 9, 8, 3, 4, 20, 15, 10, 23, 18, 21, 11, 8, 12, 22, 5, 19, 7, 14, 25, 17, 6), 237.0) :  1  %\n",
      "((7, 15, 4, 24, 12, 2, 20, 8, 6, 10, 18, 1, 9, 5, 22, 17, 19, 21, 23, 25, 11, 16, 14, 13, 3), 247.0) :  1  %\n",
      "((8, 12, 17, 14, 9, 18, 13, 20, 22, 1, 10, 23, 15, 24, 25, 21, 5, 16, 4, 2, 11, 7, 3, 6, 19), 251.0) :  1  %\n",
      "((5, 18, 8, 6, 15, 21, 25, 1, 22, 19, 13, 23, 15, 23, 16, 24, 3, 22, 6, 20, 14, 5, 19, 8, 9), 213.0) :  1  %\n",
      "((8, 25, 15, 5, 21, 12, 23, 16, 22, 1, 19, 2, 14, 24, 13, 20, 9, 7, 3, 18, 4, 6, 10, 17, 11), 229.0) :  1  %\n",
      "((6, 9, 5, 2, 22, 7, 19, 14, 3, 10, 21, 20, 17, 25, 12, 11, 16, 13, 24, 1, 18, 15, 20, 4, 8), 265.0) :  1  %\n",
      "((11, 13, 25, 1, 24, 2, 23, 5, 16, 20, 17, 10, 6, 14, 8, 21, 9, 3, 20, 15, 18, 19, 22, 12, 4), 220.0) :  1  %\n",
      "((13, 23, 24, 11, 6, 25, 18, 5, 19, 8, 1, 10, 16, 21, 20, 9, 12, 7, 4, 22, 15, 2, 17, 14, 3), 228.0) :  1  %\n",
      "((25, 21, 5, 13, 18, 9, 19, 22, 17, 1, 3, 8, 12, 20, 23, 16, 7, 14, 10, 2, 11, 15, 24, 6, 4), 240.0) :  1  %\n",
      "((24, 7, 17, 11, 23, 4, 21, 6, 2, 10, 22, 5, 16, 19, 1, 9, 14, 15, 3, 13, 8, 20, 12, 25, 18), 242.0) :  1  %\n",
      "((21, 12, 25, 19, 14, 10, 22, 8, 6, 24, 18, 11, 15, 20, 7, 2, 6, 1, 3, 23, 13, 17, 16, 10, 5), 228.0) :  1  %\n",
      "((16, 13, 24, 20, 9, 22, 5, 12, 18, 1, 11, 15, 25, 7, 14, 10, 8, 2, 3, 17, 6, 19, 4, 23, 21), 238.0) :  1  %\n",
      "((16, 8, 1, 12, 7, 18, 25, 14, 15, 5, 6, 9, 19, 4, 24, 17, 21, 10, 2, 13, 8, 22, 20, 23, 3), 249.0) :  1  %\n",
      "((10, 3, 12, 2, 8, 16, 4, 22, 24, 11, 7, 23, 9, 1, 6, 20, 18, 15, 17, 19, 5, 25, 13, 14, 21), 249.0) :  1  %\n",
      "((15, 25, 23, 18, 21, 16, 14, 20, 7, 9, 8, 13, 6, 7, 10, 13, 15, 18, 25, 21, 17, 3, 4, 9, 1), 207.0) :  1  %\n",
      "((11, 3, 2, 6, 12, 4, 7, 15, 1, 17, 23, 9, 18, 24, 5, 21, 25, 19, 16, 10, 13, 14, 8, 20, 22), 250.0) :  1  %\n",
      "((11, 14, 20, 13, 2, 18, 15, 10, 16, 4, 23, 7, 3, 9, 17, 6, 24, 8, 12, 22, 21, 5, 25, 18, 19), 222.0) :  1  %\n",
      "((14, 11, 21, 17, 9, 19, 16, 3, 15, 20, 25, 13, 8, 2, 22, 1, 23, 12, 24, 7, 13, 4, 18, 5, 10), 225.0) :  1  %\n",
      "((11, 10, 7, 18, 16, 8, 5, 15, 1, 24, 13, 22, 13, 4, 2, 9, 20, 19, 23, 6, 25, 21, 17, 14, 12), 238.0) :  1  %\n",
      "((19, 22, 2, 24, 14, 13, 7, 12, 17, 23, 18, 11, 16, 2, 11, 7, 8, 6, 21, 3, 5, 13, 25, 22, 2), 248.0) :  1  %\n",
      "((23, 7, 20, 24, 19, 18, 17, 9, 10, 15, 8, 22, 16, 13, 25, 12, 21, 1, 6, 3, 5, 4, 14, 24, 2), 216.0) :  1  %\n",
      "((22, 19, 21, 25, 18, 16, 13, 15, 2, 5, 23, 24, 19, 10, 14, 1, 6, 8, 9, 20, 12, 11, 7, 17, 3), 221.0) :  1  %\n",
      "((14, 5, 20, 8, 11, 22, 12, 3, 9, 24, 15, 10, 7, 13, 23, 2, 25, 17, 16, 18, 19, 6, 21, 15, 1), 239.0) :  1  %\n",
      "((14, 1, 6, 13, 4, 9, 8, 11, 7, 23, 22, 15, 5, 18, 19, 3, 21, 25, 16, 2, 20, 10, 17, 12, 24), 251.0) :  1  %\n",
      "((21, 8, 25, 5, 10, 6, 3, 12, 22, 20, 16, 14, 15, 11, 9, 2, 19, 4, 23, 18, 17, 24, 7, 13, 1), 240.0) :  1  %\n",
      "((14, 16, 4, 22, 18, 23, 2, 11, 19, 7, 13, 25, 24, 20, 10, 12, 3, 15, 1, 8, 6, 17, 9, 5, 21), 234.0) :  1  %\n",
      "((7, 23, 21, 6, 19, 25, 14, 3, 18, 24, 8, 2, 12, 22, 5, 13, 11, 15, 10, 1, 9, 20, 17, 4, 16), 237.0) :  1  %\n",
      "((25, 5, 24, 18, 11, 13, 2, 4, 3, 20, 9, 21, 16, 19, 14, 1, 15, 7, 8, 6, 22, 10, 23, 17, 12), 239.0) :  1  %\n",
      "((8, 23, 1, 3, 19, 21, 7, 22, 10, 11, 14, 4, 25, 17, 16, 20, 13, 6, 24, 2, 5, 18, 12, 15, 9), 235.0) :  1  %\n",
      "((16, 17, 19, 21, 23, 14, 13, 12, 2, 20, 18, 22, 5, 7, 13, 10, 11, 25, 24, 3, 1, 8, 4, 15, 9), 241.0) :  1  %\n",
      "((25, 11, 23, 2, 21, 6, 20, 18, 17, 10, 16, 14, 8, 3, 9, 4, 1, 22, 13, 16, 12, 19, 5, 24, 7), 236.0) :  1  %\n",
      "((12, 18, 5, 8, 22, 19, 15, 10, 2, 14, 4, 13, 25, 11, 23, 21, 17, 20, 7, 1, 10, 16, 6, 24, 3), 242.0) :  1  %\n",
      "((5, 18, 22, 12, 25, 15, 9, 19, 21, 4, 20, 8, 7, 17, 24, 6, 23, 3, 16, 2, 11, 10, 14, 1, 13), 261.0) :  1  %\n",
      "((24, 12, 14, 23, 22, 6, 9, 21, 3, 4, 18, 17, 7, 19, 8, 5, 16, 20, 15, 11, 13, 25, 1, 2, 10), 239.0) :  1  %\n",
      "((21, 18, 20, 23, 1, 6, 7, 3, 25, 13, 24, 10, 19, 5, 18, 4, 11, 8, 9, 15, 14, 22, 17, 2, 16), 229.0) :  1  %\n",
      "((12, 25, 24, 22, 17, 14, 10, 13, 1, 21, 9, 19, 7, 16, 1, 17, 24, 4, 25, 20, 14, 22, 5, 10, 13), 236.0) :  1  %\n",
      "((15, 19, 3, 16, 1, 22, 18, 8, 9, 25, 6, 17, 22, 10, 25, 11, 12, 19, 15, 4, 23, 18, 14, 24, 7), 222.0) :  1  %\n",
      "((21, 20, 22, 17, 14, 23, 8, 10, 6, 25, 4, 2, 18, 12, 5, 19, 24, 15, 11, 22, 1, 13, 7, 16, 9), 214.0) :  1  %\n",
      "((13, 5, 7, 25, 16, 22, 19, 3, 14, 24, 8, 20, 10, 9, 1, 11, 4, 15, 6, 2, 17, 18, 21, 12, 23), 246.0) :  1  %\n",
      "((23, 10, 22, 13, 24, 7, 5, 8, 6, 21, 16, 18, 14, 25, 3, 11, 19, 9, 20, 17, 4, 15, 12, 2, 1), 208.0) :  1  %\n",
      "((7, 16, 21, 1, 9, 22, 13, 12, 19, 14, 17, 25, 24, 6, 15, 18, 5, 11, 4, 23, 3, 10, 8, 20, 2), 251.0) :  1  %\n",
      "((8, 21, 15, 11, 19, 22, 7, 6, 2, 14, 13, 24, 25, 16, 23, 12, 4, 5, 18, 10, 13, 3, 24, 20, 1), 216.0) :  1  %\n",
      "((23, 8, 13, 2, 9, 11, 10, 24, 20, 14, 12, 17, 4, 18, 7, 1, 16, 21, 25, 15, 19, 22, 3, 5, 6), 235.0) :  1  %\n",
      "((12, 16, 5, 13, 25, 8, 6, 20, 19, 14, 7, 15, 14, 4, 15, 19, 5, 16, 20, 21, 23, 22, 18, 13, 9), 231.0) :  1  %\n",
      "((24, 17, 9, 10, 10, 25, 20, 22, 21, 18, 1, 3, 16, 14, 22, 17, 11, 5, 6, 1, 13, 25, 15, 20, 10), 230.0) :  1  %\n",
      "((8, 9, 10, 17, 7, 21, 14, 19, 5, 22, 15, 25, 18, 19, 10, 13, 14, 17, 22, 23, 7, 12, 25, 9, 4), 216.0) :  1  %\n",
      "((23, 25, 12, 10, 13, 1, 5, 12, 17, 14, 19, 15, 16, 20, 25, 24, 21, 7, 13, 17, 2, 18, 23, 3, 9), 213.0) :  1  %\n",
      "((3, 1, 5, 12, 8, 7, 4, 17, 9, 6, 24, 20, 16, 25, 14, 23, 21, 15, 22, 13, 11, 10, 18, 2, 19), 243.0) :  1  %\n",
      "((17, 14, 24, 1, 2, 7, 16, 9, 21, 20, 15, 22, 3, 18, 8, 6, 4, 10, 11, 23, 25, 12, 19, 5, 13), 241.0) :  1  %\n",
      "((20, 19, 1, 16, 24, 14, 18, 6, 5, 10, 8, 9, 11, 13, 7, 3, 4, 25, 23, 22, 21, 17, 15, 12, 2), 222.0) :  1  %\n",
      "((23, 21, 18, 11, 10, 9, 4, 1, 3, 8, 13, 17, 22, 17, 16, 9, 6, 25, 19, 24, 14, 20, 12, 15, 2), 222.0) :  1  %\n",
      "((12, 7, 24, 2, 11, 13, 4, 1, 18, 9, 20, 25, 22, 10, 14, 16, 6, 4, 19, 21, 8, 23, 15, 17, 5), 213.0) :  1  %\n",
      "((22, 3, 19, 4, 21, 16, 13, 2, 14, 7, 24, 23, 17, 15, 20, 6, 12, 18, 9, 10, 1, 11, 8, 25, 5), 213.0) :  1  %\n",
      "((9, 11, 25, 4, 16, 8, 18, 22, 15, 20, 5, 17, 1, 2, 3, 23, 10, 13, 19, 12, 24, 6, 7, 21, 14), 228.0) :  1  %\n",
      "((1, 21, 3, 10, 2, 25, 6, 19, 14, 5, 18, 9, 17, 8, 12, 4, 7, 11, 20, 16, 24, 23, 22, 13, 15), 247.0) :  1  %\n",
      "((23, 8, 17, 10, 25, 16, 6, 7, 2, 1, 15, 25, 24, 22, 6, 10, 21, 23, 20, 18, 12, 20, 8, 13, 15), 252.0) :  1  %\n",
      "((12, 18, 7, 1, 14, 22, 20, 3, 10, 15, 13, 2, 15, 23, 7, 25, 8, 19, 12, 11, 20, 16, 13, 18, 9), 247.0) :  1  %\n",
      "((11, 4, 14, 10, 13, 12, 17, 15, 21, 25, 16, 20, 3, 8, 1, 18, 23, 10, 19, 2, 7, 6, 24, 9, 22), 232.0) :  1  %\n",
      "((10, 21, 25, 11, 15, 24, 14, 13, 5, 9, 4, 2, 8, 3, 14, 15, 22, 19, 19, 18, 13, 2, 24, 25, 16), 227.0) :  1  %\n",
      "((16, 10, 25, 18, 21, 9, 2, 17, 7, 5, 22, 20, 20, 11, 19, 16, 15, 3, 25, 7, 22, 21, 6, 13, 17), 247.0) :  1  %\n",
      "((5, 12, 22, 25, 20, 16, 21, 18, 17, 8, 14, 19, 8, 22, 24, 18, 17, 9, 15, 4, 16, 21, 25, 1, 8), 226.0) :  1  %\n",
      "((4, 14, 7, 13, 22, 17, 16, 25, 21, 6, 24, 3, 2, 20, 18, 5, 8, 14, 10, 9, 19, 23, 15, 1, 11), 241.0) :  1  %\n",
      "((24, 25, 5, 12, 24, 4, 20, 22, 15, 11, 1, 2, 4, 7, 9, 19, 6, 11, 2, 10, 18, 14, 25, 24, 15), 222.0) :  1  %\n",
      "((24, 15, 3, 12, 2, 7, 9, 19, 19, 21, 23, 11, 16, 8, 14, 7, 18, 17, 10, 22, 11, 20, 12, 16, 1), 212.0) :  1  %\n",
      "((1, 12, 22, 11, 25, 24, 10, 2, 8, 18, 15, 23, 13, 4, 9, 5, 16, 14, 20, 3, 7, 6, 21, 17, 19), 256.0) :  1  %\n",
      "((18, 11, 23, 8, 25, 21, 6, 19, 12, 17, 2, 7, 1, 13, 5, 14, 15, 16, 20, 3, 4, 22, 10, 9, 19), 249.0) :  1  %\n",
      "((22, 6, 25, 24, 19, 17, 23, 13, 2, 21, 10, 10, 11, 20, 25, 17, 19, 21, 11, 22, 9, 12, 1, 6, 2), 210.0) :  1  %\n",
      "((6, 19, 17, 13, 20, 24, 12, 14, 1, 22, 15, 5, 7, 12, 2, 3, 16, 25, 23, 4, 21, 8, 11, 9, 18), 238.0) :  1  %\n",
      "((1, 18, 15, 13, 14, 17, 12, 22, 3, 19, 23, 10, 25, 22, 9, 20, 5, 6, 12, 14, 19, 23, 15, 16, 3), 223.0) :  1  %\n",
      "((20, 22, 14, 21, 15, 24, 12, 5, 10, 17, 16, 8, 11, 4, 18, 3, 23, 25, 19, 10, 2, 7, 13, 6, 9), 224.0) :  1  %\n",
      "((20, 9, 14, 21, 17, 12, 10, 8, 13, 19, 22, 11, 7, 1, 8, 6, 25, 18, 14, 3, 4, 16, 23, 24, 15), 220.0) :  1  %\n",
      "((10, 15, 2, 5, 11, 3, 19, 18, 20, 22, 14, 9, 6, 13, 8, 25, 7, 16, 17, 24, 12, 21, 23, 4, 1), 231.0) :  1  %\n",
      "((11, 8, 3, 24, 5, 22, 7, 10, 15, 25, 19, 21, 17, 9, 10, 18, 3, 20, 7, 16, 11, 25, 22, 13, 21), 234.0) :  1  %\n",
      "((21, 13, 19, 17, 7, 16, 5, 4, 9, 2, 11, 3, 23, 15, 22, 18, 24, 10, 6, 25, 1, 20, 12, 14, 8), 216.0) :  1  %\n",
      "((3, 11, 7, 25, 10, 17, 24, 8, 13, 15, 18, 9, 12, 4, 5, 22, 20, 14, 7, 16, 2, 6, 23, 21, 19), 230.0) :  1  %\n",
      "((9, 10, 3, 17, 21, 16, 15, 25, 2, 22, 13, 7, 11, 1, 12, 18, 19, 6, 24, 4, 8, 14, 20, 23, 5), 209.0) :  1  %\n"
     ]
    }
   ],
   "source": [
    "# Ejemplo de un mal fitness, ejecución rápida (parámetros k, ngen y size bajos)\n",
    "minDict = dict()\n",
    "for _ in range(100):\n",
    "    result_t = algoritmo_genetico_ej8(cuadradoMagico,9,20,10,0.8,0.05)\n",
    "    result = (tuple(result_t[0]), result_t[1])\n",
    "    if result in minDict:\n",
    "        minDict[result] += 1\n",
    "    else:\n",
    "        minDict[result] = 1\n",
    "\n",
    "dictSort = sorted(minDict.items(), key = operator.itemgetter(1), reverse = True)\n",
    "for result in dictSort:\n",
    "    print(result[0], ': ', round( result[1], 2), ' %' )"
   ]
  },
  {
   "cell_type": "code",
   "execution_count": 88,
   "metadata": {},
   "outputs": [
    {
     "name": "stdout",
     "output_type": "stream",
     "text": [
      "((18, 15, 11, 23, 17, 12, 3, 2, 1, 19, 8, 6, 9, 13, 14, 7, 25, 21, 24, 5, 20, 16, 22, 4, 10), 213.0) :  1  %\n",
      "((24, 14, 12, 6, 19, 8, 5, 7, 1, 16, 2, 20, 13, 23, 11, 22, 17, 10, 19, 16, 15, 9, 25, 21, 4), 199.0) :  1  %\n",
      "((16, 15, 11, 21, 19, 6, 24, 20, 2, 13, 5, 10, 14, 11, 25, 18, 8, 17, 9, 7, 23, 12, 4, 22, 1), 198.0) :  1  %\n",
      "((8, 24, 2, 5, 13, 7, 12, 4, 6, 11, 24, 25, 22, 17, 15, 24, 9, 21, 19, 23, 14, 11, 20, 18, 3), 200.0) :  1  %\n",
      "((8, 22, 21, 2, 18, 16, 24, 1, 19, 11, 4, 7, 5, 9, 20, 17, 3, 25, 18, 6, 20, 13, 15, 23, 10), 205.0) :  1  %\n",
      "((1, 5, 21, 17, 10, 19, 9, 2, 11, 3, 24, 23, 25, 16, 22, 17, 13, 14, 18, 19, 6, 20, 7, 4, 12), 207.0) :  1  %\n",
      "((12, 19, 2, 5, 17, 11, 22, 21, 12, 20, 24, 14, 13, 18, 1, 10, 7, 23, 14, 25, 17, 7, 9, 16, 4), 200.0) :  1  %\n",
      "((22, 14, 7, 25, 19, 9, 15, 23, 21, 11, 23, 6, 10, 2, 20, 12, 13, 9, 17, 16, 4, 18, 23, 5, 1), 198.0) :  1  %\n",
      "((25, 15, 24, 12, 6, 16, 10, 11, 20, 18, 22, 4, 9, 1, 19, 2, 23, 5, 14, 17, 7, 13, 18, 21, 7), 202.0) :  1  %\n",
      "((24, 11, 18, 23, 17, 4, 19, 22, 5, 6, 9, 20, 14, 15, 25, 12, 13, 3, 1, 8, 16, 2, 10, 21, 7), 206.0) :  1  %\n",
      "((5, 10, 9, 18, 11, 23, 17, 3, 16, 20, 12, 4, 15, 7, 8, 25, 21, 19, 22, 20, 1, 13, 24, 2, 6), 202.0) :  1  %\n",
      "((8, 16, 11, 20, 2, 12, 23, 21, 15, 13, 24, 7, 19, 1, 22, 14, 10, 3, 5, 17, 18, 9, 11, 25, 12), 210.0) :  1  %\n",
      "((1, 22, 21, 14, 13, 2, 23, 3, 9, 5, 25, 6, 19, 24, 17, 16, 4, 15, 11, 18, 20, 10, 7, 8, 12), 210.0) :  1  %\n",
      "((3, 9, 6, 10, 11, 23, 19, 2, 14, 25, 15, 12, 16, 17, 7, 4, 1, 20, 18, 13, 22, 24, 21, 5, 9), 207.0) :  1  %\n",
      "((25, 14, 7, 15, 18, 5, 21, 13, 12, 24, 2, 17, 10, 9, 23, 11, 3, 16, 8, 4, 22, 14, 19, 24, 1), 196.0) :  1  %\n",
      "((18, 17, 15, 16, 10, 16, 21, 4, 22, 25, 7, 9, 12, 9, 23, 3, 1, 19, 14, 16, 20, 24, 15, 5, 2), 201.0) :  1  %\n",
      "((7, 23, 20, 21, 22, 12, 9, 1, 4, 15, 10, 16, 24, 5, 13, 25, 3, 2, 19, 8, 11, 14, 18, 17, 6), 204.0) :  1  %\n",
      "((13, 11, 16, 18, 25, 5, 7, 14, 2, 10, 15, 23, 9, 19, 1, 11, 8, 6, 24, 17, 21, 22, 20, 3, 12), 207.0) :  1  %\n",
      "((9, 25, 18, 4, 23, 19, 11, 1, 15, 10, 17, 5, 20, 8, 25, 7, 2, 14, 22, 6, 13, 24, 12, 16, 3), 206.0) :  1  %\n",
      "((20, 24, 9, 10, 7, 3, 5, 19, 13, 23, 16, 18, 8, 17, 23, 1, 12, 15, 21, 2, 25, 6, 14, 4, 11), 206.0) :  1  %\n",
      "((10, 1, 7, 6, 3, 16, 17, 8, 25, 21, 14, 18, 22, 19, 23, 24, 12, 13, 10, 11, 2, 20, 15, 5, 9), 208.0) :  1  %\n",
      "((25, 8, 24, 6, 15, 1, 9, 20, 16, 17, 23, 12, 13, 21, 23, 14, 19, 20, 7, 4, 2, 18, 5, 17, 10), 206.0) :  1  %\n",
      "((13, 9, 21, 6, 5, 19, 23, 7, 22, 14, 8, 17, 3, 7, 12, 3, 11, 18, 15, 25, 24, 17, 20, 16, 10), 206.0) :  1  %\n",
      "((22, 9, 11, 17, 12, 18, 25, 6, 20, 24, 13, 16, 10, 19, 24, 7, 15, 25, 4, 2, 8, 16, 14, 5, 3), 199.0) :  1  %\n",
      "((12, 25, 4, 5, 19, 24, 14, 21, 9, 23, 6, 21, 22, 20, 7, 11, 3, 10, 15, 16, 13, 2, 8, 18, 1), 198.0) :  1  %\n",
      "((17, 19, 15, 7, 23, 3, 25, 4, 18, 20, 21, 12, 13, 24, 10, 22, 2, 23, 6, 16, 8, 9, 14, 11, 5), 202.0) :  1  %\n",
      "((24, 16, 8, 14, 23, 22, 7, 15, 13, 20, 4, 17, 11, 18, 21, 9, 10, 25, 19, 5, 6, 16, 8, 1, 3), 201.0) :  1  %\n",
      "((18, 5, 2, 16, 14, 11, 20, 9, 19, 13, 3, 22, 8, 15, 21, 23, 17, 25, 12, 13, 10, 1, 24, 6, 7), 205.0) :  1  %\n",
      "((4, 7, 9, 1, 5, 13, 21, 2, 10, 25, 19, 6, 23, 18, 20, 17, 15, 8, 14, 25, 12, 16, 24, 22, 3), 198.0) :  1  %\n",
      "((23, 3, 5, 17, 5, 5, 14, 16, 20, 11, 9, 13, 18, 12, 25, 21, 15, 19, 6, 24, 7, 22, 8, 10, 2), 199.0) :  1  %\n",
      "((17, 25, 7, 15, 19, 5, 14, 13, 11, 24, 20, 18, 23, 10, 4, 11, 3, 1, 8, 16, 12, 6, 22, 21, 2), 201.0) :  1  %\n",
      "((4, 9, 2, 10, 13, 22, 17, 15, 25, 11, 24, 20, 14, 3, 12, 11, 4, 16, 23, 25, 9, 18, 19, 8, 7), 202.0) :  1  %\n",
      "((12, 17, 21, 15, 8, 11, 21, 19, 13, 18, 20, 10, 3, 14, 24, 4, 16, 22, 23, 9, 25, 2, 7, 1, 6), 201.0) :  1  %\n",
      "((13, 2, 7, 17, 9, 24, 20, 1, 12, 21, 19, 18, 25, 16, 11, 6, 14, 10, 3, 21, 5, 15, 22, 23, 4), 199.0) :  1  %\n",
      "((20, 21, 17, 25, 14, 3, 22, 23, 16, 12, 11, 8, 15, 15, 18, 24, 13, 10, 6, 19, 7, 1, 4, 5, 2), 197.0) :  1  %\n",
      "((8, 14, 25, 9, 4, 13, 20, 10, 12, 23, 19, 16, 17, 24, 15, 3, 6, 5, 18, 21, 22, 11, 7, 1, 2), 205.0) :  1  %\n",
      "((15, 18, 13, 16, 22, 2, 10, 25, 4, 8, 14, 11, 12, 3, 7, 17, 6, 23, 19, 21, 20, 24, 5, 25, 9), 205.0) :  1  %\n",
      "((18, 5, 20, 10, 17, 8, 24, 6, 4, 2, 23, 11, 13, 19, 22, 1, 16, 20, 7, 23, 15, 12, 17, 25, 3), 198.0) :  1  %\n",
      "((22, 18, 24, 25, 16, 7, 1, 9, 3, 14, 10, 8, 17, 5, 12, 20, 23, 2, 21, 19, 6, 15, 13, 11, 4), 199.0) :  1  %\n",
      "((22, 13, 18, 11, 23, 3, 2, 20, 1, 9, 7, 17, 8, 16, 24, 19, 21, 5, 25, 4, 14, 12, 15, 10, 6), 209.0) :  1  %\n",
      "((7, 24, 4, 14, 17, 23, 8, 11, 9, 25, 12, 19, 22, 23, 1, 16, 2, 10, 21, 20, 15, 13, 18, 5, 3), 202.0) :  1  %\n",
      "((23, 2, 22, 16, 12, 9, 8, 18, 7, 14, 10, 20, 5, 11, 15, 10, 24, 19, 25, 21, 17, 13, 3, 6, 4), 199.0) :  1  %\n",
      "((22, 14, 6, 19, 7, 17, 13, 21, 9, 24, 15, 5, 18, 25, 16, 2, 23, 21, 12, 20, 9, 10, 1, 4, 3), 202.0) :  1  %\n",
      "((24, 15, 13, 17, 7, 2, 5, 17, 24, 20, 9, 14, 3, 1, 16, 13, 11, 14, 24, 15, 19, 20, 18, 1, 7), 205.0) :  1  %\n",
      "((19, 16, 15, 22, 25, 7, 10, 23, 2, 6, 24, 20, 14, 17, 7, 24, 21, 11, 13, 18, 4, 1, 3, 12, 9), 205.0) :  1  %\n",
      "((11, 1, 2, 16, 12, 20, 14, 8, 4, 25, 6, 17, 25, 24, 3, 18, 11, 21, 9, 19, 13, 22, 10, 15, 5), 203.0) :  1  %\n",
      "((3, 18, 21, 19, 13, 12, 11, 7, 5, 25, 15, 24, 22, 4, 10, 15, 2, 1, 20, 8, 23, 16, 14, 17, 9), 204.0) :  1  %\n",
      "((25, 11, 7, 24, 19, 8, 6, 9, 2, 23, 12, 21, 14, 4, 16, 1, 15, 13, 17, 5, 20, 11, 22, 18, 3), 205.0) :  1  %\n",
      "((2, 12, 3, 10, 16, 9, 15, 14, 1, 18, 8, 11, 20, 13, 17, 25, 6, 14, 23, 12, 24, 22, 21, 19, 4), 202.0) :  1  %\n",
      "((10, 8, 5, 20, 25, 6, 15, 12, 2, 11, 13, 18, 21, 7, 11, 24, 1, 23, 17, 16, 14, 22, 4, 19, 3), 203.0) :  1  %\n",
      "((19, 24, 20, 25, 16, 5, 15, 22, 11, 14, 18, 1, 8, 10, 23, 13, 21, 3, 17, 6, 9, 4, 12, 2, 7), 205.0) :  1  %\n",
      "((23, 22, 1, 21, 17, 6, 10, 20, 7, 9, 9, 25, 14, 15, 12, 4, 3, 18, 10, 19, 24, 5, 16, 13, 8), 203.0) :  1  %\n",
      "((14, 3, 13, 5, 22, 15, 8, 20, 4, 18, 19, 25, 23, 21, 6, 18, 16, 7, 11, 18, 1, 17, 2, 24, 9), 205.0) :  1  %\n",
      "((11, 2, 21, 18, 10, 17, 25, 8, 22, 23, 16, 12, 15, 13, 24, 7, 6, 19, 9, 23, 14, 20, 4, 3, 5), 202.0) :  1  %\n",
      "((25, 20, 16, 8, 10, 2, 13, 22, 3, 19, 9, 6, 17, 18, 11, 5, 12, 7, 15, 24, 23, 14, 4, 21, 1), 204.0) :  1  %\n",
      "((25, 14, 5, 13, 4, 12, 7, 24, 21, 15, 18, 19, 6, 3, 20, 1, 23, 22, 16, 17, 12, 2, 8, 11, 9), 209.0) :  1  %\n",
      "((5, 9, 1, 8, 23, 13, 25, 21, 6, 12, 20, 18, 14, 17, 16, 13, 3, 22, 11, 4, 19, 15, 9, 24, 10), 205.0) :  1  %\n",
      "((3, 20, 1, 9, 11, 12, 15, 21, 17, 4, 13, 2, 14, 5, 25, 19, 6, 23, 24, 16, 18, 22, 8, 12, 9), 205.0) :  1  %\n",
      "((21, 9, 15, 20, 13, 6, 22, 25, 14, 4, 2, 19, 3, 18, 23, 16, 12, 11, 10, 17, 24, 4, 25, 5, 8), 205.0) :  1  %\n",
      "((21, 2, 24, 22, 14, 17, 23, 3, 13, 6, 5, 19, 11, 7, 15, 4, 10, 22, 9, 25, 18, 12, 8, 16, 3), 205.0) :  1  %\n",
      "((22, 24, 12, 17, 25, 23, 9, 19, 20, 7, 2, 21, 3, 6, 5, 4, 1, 14, 18, 10, 17, 11, 19, 8, 13), 219.0) :  1  %\n",
      "((20, 23, 17, 12, 24, 6, 18, 3, 2, 15, 14, 8, 11, 21, 4, 7, 10, 13, 9, 16, 19, 8, 22, 25, 6), 203.0) :  1  %\n",
      "((19, 8, 16, 14, 20, 11, 8, 18, 2, 21, 4, 12, 13, 17, 23, 24, 22, 13, 25, 3, 8, 15, 5, 11, 1), 197.0) :  1  %\n",
      "((24, 12, 1, 13, 15, 6, 17, 2, 21, 9, 11, 19, 16, 20, 23, 25, 10, 24, 4, 14, 3, 8, 22, 7, 5), 201.0) :  1  %\n",
      "((21, 17, 13, 10, 8, 18, 9, 3, 24, 25, 1, 14, 22, 23, 11, 20, 11, 15, 6, 16, 4, 19, 12, 2, 7), 208.0) :  1  %\n",
      "((9, 22, 10, 13, 1, 21, 8, 4, 11, 20, 15, 7, 12, 19, 24, 3, 23, 14, 16, 2, 17, 6, 25, 10, 18), 216.0) :  1  %\n",
      "((22, 21, 16, 10, 23, 20, 7, 3, 11, 13, 17, 6, 12, 8, 24, 9, 15, 14, 22, 13, 5, 18, 25, 20, 2), 198.0) :  1  %\n",
      "((16, 3, 2, 5, 9, 18, 1, 24, 15, 17, 6, 25, 19, 20, 11, 22, 18, 12, 23, 21, 4, 25, 10, 8, 7), 203.0) :  1  %\n",
      "((22, 1, 9, 23, 20, 7, 24, 21, 12, 3, 8, 15, 2, 4, 7, 17, 18, 19, 11, 25, 13, 10, 14, 16, 6), 209.0) :  1  %\n",
      "((2, 4, 11, 14, 17, 25, 21, 3, 7, 8, 9, 1, 16, 22, 18, 19, 21, 13, 10, 5, 8, 20, 23, 12, 17), 221.0) :  1  %\n",
      "((23, 20, 9, 14, 24, 19, 13, 4, 18, 16, 7, 11, 3, 2, 1, 12, 15, 25, 10, 6, 5, 8, 22, 21, 17), 219.0) :  1  %\n",
      "((4, 8, 1, 5, 17, 25, 23, 13, 10, 6, 9, 12, 21, 14, 18, 22, 15, 11, 16, 24, 3, 7, 19, 20, 2), 203.0) :  1  %\n",
      "((1, 3, 23, 9, 20, 24, 19, 12, 17, 17, 6, 14, 5, 4, 7, 21, 11, 22, 25, 16, 13, 18, 8, 10, 15), 211.0) :  1  %\n",
      "((16, 17, 9, 19, 8, 24, 6, 10, 23, 12, 11, 22, 20, 5, 25, 21, 13, 9, 16, 13, 1, 14, 18, 4, 7), 202.0) :  1  %\n",
      "((13, 19, 18, 17, 16, 25, 11, 24, 5, 22, 8, 2, 15, 9, 20, 12, 23, 1, 22, 4, 6, 15, 7, 14, 3), 201.0) :  1  %\n",
      "((17, 15, 9, 23, 11, 14, 2, 10, 1, 19, 20, 14, 25, 7, 9, 5, 22, 18, 21, 24, 6, 16, 3, 13, 4), 209.0) :  1  %\n",
      "((16, 1, 5, 17, 21, 7, 13, 10, 15, 18, 19, 24, 20, 14, 3, 22, 8, 25, 12, 19, 2, 23, 6, 10, 4), 200.0) :  1  %\n",
      "((15, 4, 1, 6, 24, 18, 22, 17, 16, 3, 25, 7, 5, 21, 11, 2, 14, 23, 12, 17, 8, 20, 19, 9, 10), 210.0) :  1  %\n",
      "((23, 25, 9, 6, 24, 4, 8, 10, 22, 13, 19, 17, 7, 14, 13, 20, 11, 21, 24, 12, 2, 5, 18, 1, 3), 199.0) :  1  %\n",
      "((24, 13, 24, 8, 23, 25, 6, 12, 7, 21, 1, 3, 11, 14, 9, 15, 20, 2, 18, 10, 4, 24, 17, 19, 5), 201.0) :  1  %\n",
      "((20, 5, 14, 10, 23, 16, 19, 25, 6, 21, 13, 17, 3, 11, 4, 16, 24, 9, 22, 15, 8, 1, 14, 18, 2), 199.0) :  1  %\n",
      "((25, 23, 9, 15, 14, 7, 19, 11, 18, 6, 21, 2, 13, 12, 22, 2, 5, 24, 4, 20, 10, 16, 8, 17, 3), 204.0) :  1  %\n",
      "((25, 22, 13, 8, 5, 9, 12, 3, 21, 24, 1, 2, 16, 11, 18, 23, 17, 19, 7, 15, 6, 10, 14, 20, 4), 206.0) :  1  %\n",
      "((25, 23, 4, 13, 24, 12, 6, 22, 16, 8, 17, 19, 18, 14, 5, 9, 2, 20, 10, 21, 3, 15, 1, 15, 7), 205.0) :  1  %\n",
      "((10, 13, 20, 22, 1, 4, 21, 12, 8, 9, 11, 2, 10, 16, 19, 18, 23, 5, 7, 22, 24, 6, 25, 15, 17), 213.0) :  1  %\n",
      "((18, 7, 8, 12, 20, 13, 24, 25, 15, 17, 4, 18, 11, 22, 19, 23, 10, 5, 14, 12, 9, 6, 21, 2, 1), 199.0) :  1  %\n",
      "((2, 1, 5, 17, 11, 15, 25, 20, 8, 14, 21, 24, 19, 12, 9, 6, 4, 3, 10, 23, 23, 24, 18, 22, 8), 204.0) :  1  %\n",
      "((23, 9, 14, 7, 3, 13, 12, 2, 20, 25, 1, 10, 17, 15, 15, 24, 21, 14, 8, 19, 4, 16, 22, 18, 5), 200.0) :  1  %\n",
      "((6, 8, 11, 7, 19, 24, 25, 17, 12, 14, 18, 1, 10, 20, 13, 15, 22, 4, 21, 16, 2, 9, 25, 5, 3), 198.0) :  1  %\n",
      "((11, 5, 13, 21, 17, 10, 16, 25, 14, 19, 15, 22, 20, 12, 7, 23, 8, 13, 15, 24, 6, 18, 25, 3, 1), 198.0) :  1  %\n",
      "((21, 17, 24, 15, 19, 5, 11, 7, 16, 20, 12, 22, 10, 3, 15, 25, 14, 6, 23, 11, 8, 2, 24, 18, 1), 199.0) :  1  %\n",
      "((22, 3, 7, 11, 17, 19, 16, 13, 10, 13, 6, 9, 2, 5, 9, 8, 22, 20, 24, 25, 14, 18, 23, 15, 1), 196.0) :  1  %\n",
      "((4, 18, 9, 11, 24, 21, 7, 16, 3, 2, 15, 20, 23, 8, 22, 19, 5, 12, 25, 13, 10, 16, 14, 18, 6), 201.0) :  1  %\n",
      "((4, 24, 22, 25, 9, 18, 17, 8, 23, 21, 16, 11, 16, 25, 1, 15, 5, 20, 7, 13, 12, 8, 2, 3, 21), 216.0) :  1  %\n",
      "((7, 4, 25, 21, 8, 16, 23, 25, 3, 22, 19, 1, 13, 15, 20, 11, 24, 6, 12, 9, 18, 17, 4, 14, 10), 206.0) :  1  %\n",
      "((10, 22, 16, 9, 12, 6, 18, 2, 19, 13, 25, 7, 20, 17, 21, 14, 1, 4, 5, 8, 15, 17, 23, 24, 11), 209.0) :  1  %\n",
      "((7, 14, 21, 4, 9, 3, 5, 2, 8, 13, 23, 22, 25, 18, 17, 12, 1, 6, 16, 15, 19, 24, 21, 20, 11), 212.0) :  1  %\n",
      "((25, 7, 6, 23, 9, 3, 16, 16, 10, 20, 1, 24, 17, 12, 18, 22, 15, 11, 2, 13, 14, 8, 21, 19, 5), 200.0) :  1  %\n",
      "((16, 21, 18, 8, 12, 11, 15, 24, 23, 22, 20, 4, 17, 13, 5, 10, 6, 2, 14, 25, 7, 19, 4, 9, 1), 200.0) :  1  %\n",
      "((25, 18, 7, 10, 12, 1, 8, 16, 13, 20, 11, 2, 5, 16, 17, 9, 14, 22, 24, 19, 21, 23, 16, 10, 3), 198.0) :  1  %\n"
     ]
    }
   ],
   "source": [
    "# Ejemplo de un buen fitness, ejecución lenta (parámetros k, ngen y size altos)\n",
    "minDict = dict()\n",
    "for _ in range(100):\n",
    "    result_t = algoritmo_genetico_ej8(cuadradoMagico,60,60,60,0.8,0.05)\n",
    "    result = (tuple(result_t[0]), result_t[1])\n",
    "    if result in minDict:\n",
    "        minDict[result] += 1\n",
    "    else:\n",
    "        minDict[result] = 1\n",
    "\n",
    "dictSort = sorted(minDict.items(), key = operator.itemgetter(1), reverse = True)\n",
    "for result in dictSort:\n",
    "    print(result[0], ': ', round( result[1], 2), ' %' )"
   ]
  },
  {
   "cell_type": "markdown",
   "metadata": {},
   "source": [
    "#### Conclusiones sobre el algoritmo\n",
    "Hemos ejecutado este último programa, que realiza la ejecución de nuestro algoritmo 100 veces con el objetivo de sacar conclusiones en base a los resultados obtenidos. Se puede apreciar claramente que al aumentar el número de generaciones (nGen), el número de individuos en cada generación (size) y el número de participantes en los torneos (k) el algoritmo tarda más en ejecutarse, pero los resultados son más exactos ya que se generan muchas más poblaciones y de ahí nos vamos quedando con la más óptima.\n",
    "Al ejecutar los mismos ejemplos para distintos n, hemos podido observar también que cuanto mayor sea la n peor va a ser el fitness obtenido, esto es lógico pensarlo ya que cuanto mayor sea la n más poblaciones distintas van a haber, y encima con números más grandes, lo que provoca que el resultado diste más de la realidad cuando la solución no es buena."
   ]
  },
  {
   "cell_type": "markdown",
   "metadata": {},
   "source": [
    "### Ejercicio 9\n",
    "Se quiere organizar una **jornada de la informática** en la Facultad. \n",
    "El Vicedecano necesita organizar el horario y la asignación de profesores para n actividades temáticas, a_1, . . . , a_n.  Dispone de m profesores p_1, . . . , p_m con distintos niveles de cualificación. \n",
    "No todos los profesores tienen los conocimientos para encargarse de todas las actividades. \n",
    "El mismo profesor pi puede encargarse de distintas actividades (que se le remunerarán convenientemente) pero no podemos asignar al mismo profesor dos actividades que se impartan simultáneamente. \n",
    "Cada actividad puede durar un tiempo diferente dependiendo del profesor que la organice. Si un profesor p_i puede realizar la actividad a_j, entonces denotaremos por t_ij el tiempo que pi tardará en realizar la actividad a_j. \n",
    "Existen dependencias entre los contenidos de las actividades lo que obliga a incluir algunas restricciones temporales, es decir, algunas actividades hay que realizarlas cuando otras ya hayan terminado. Esto es, tenemos un conjunto de restricciones que indican que ai se debe realizar antes de a_j. Por ejemplo, El taller de iniciación a Scratch se debe realizar antes que el laboratorio de desarrollo de videojuegos con Scratch.   \n",
    "Se pide dar una solución al problema de decidir, para cada actividad, qué profesor la realizará y en qué momento se debe ofertar la actividad para que, al ﬁnal de la jornada, se puedan realizar todas las actividades con cuidado de cumplir los prerrequisitos (restricciones temporales) y el conjunto de actividades se realice en el menor tiempo posible."
   ]
  },
  {
   "cell_type": "markdown",
   "metadata": {},
   "source": [
    "# Planteamiento\n",
    "Para representar la información hemos usado:\n",
    "\n",
    "- Matriz de tiempos (M [nProfe][nAct]): donde representaremos el tiempo que tarda el profe i en hacer la actividad j.\n",
    "\n",
    "Para la parte de dependencias, teniamos pensado usar lo siguiente:\n",
    "- Matriz de prioridad (M [nAct][nAct]): matriz de booleanos, donde si está a 1 es que la actividad i tiene dependencia con la actividad j. En caso de dependencia, la actividad j no puede tener dependencia de esa actividad i, porque sino entrariamos en un bucle interminable. Esta matriz estará ordenada por prioridades, es decir, aparecerá en las primeras filas la ctividades con menos dependencias.\n",
    "\n",
    "Solo que no  logramos que funcionase y hemos optado por omitir esa parte para mayor claridad.\n",
    "\n",
    "En la función de decodificación, también usamos un vector que nos ayuda a llevar cierta información, que explicaremos más adelante."
   ]
  },
  {
   "cell_type": "code",
   "execution_count": 30,
   "metadata": {},
   "outputs": [],
   "source": [
    "class ProblemaEj9(ProblemaGenetico):\n",
    "    def __init__(self, genes,fun_dec,fun_muta,fun_cruza,fun_fitness,num_profesores,num_actividades,tiempos):\n",
    "        self.genes = genes\n",
    "        self.fun_dec = fun_dec\n",
    "        self.fun_cruza = fun_cruza\n",
    "        self.fun_muta = fun_muta\n",
    "        self.fun_fitness = fun_fitness\n",
    "        self.num_profesores = num_profesores\n",
    "        self.num_actividades = num_actividades\n",
    "        self.tiempos = tiempos\n",
    "        \"\"\"Constructor de la clase\"\"\"\n",
    "\n",
    "    def muta(self, cromosoma,prob):\n",
    "        \"\"\"Devuelve el cromosoma mutado\"\"\"   \n",
    "        mutante = self.fun_muta(cromosoma,prob)\n",
    "        return mutante\n",
    "    def cruza(self, cromosoma1, cromosoma2):         \n",
    "        \"\"\"Devuelve el cruce de un par de cromosomas\"\"\"\n",
    "        cruce = self.fun_cruza(cromosoma1,cromosoma2)\n",
    "        return cruce \n",
    "\n",
    "    def decodifica(self, genotipo):\n",
    "        \"\"\"Devuelve el fenotipo a partir del genotipo\"\"\"\n",
    "        fenotipo = self.fun_dec(genotipo,self.num_profesores,self.num_actividades,self.tiempos)\n",
    "        return fenotipo\n",
    "    def fitness(self, cromosoma):    \n",
    "        \"\"\"Función de valoración\"\"\"\n",
    "        valoracion = self.fun_fitness(cromosoma,self.num_profesores,self.num_actividades,self.tiempos)\n",
    "        return valoracion"
   ]
  },
  {
   "cell_type": "code",
   "execution_count": 31,
   "metadata": {},
   "outputs": [],
   "source": [
    "MAX = 10000\n",
    "num_profesores = 5\n",
    "num_actividades = 10\n",
    "\n",
    "#Prueba1\n",
    "#Cada vector es un profesor\n",
    "tiempos1 = [ \n",
    "            [60, 60, MAX, MAX, MAX, MAX, MAX, MAX, MAX, MAX],\n",
    "            [MAX, MAX, 60, 60, MAX, MAX, MAX, MAX, MAX, MAX],\n",
    "            [MAX, MAX, MAX, MAX, 60, 60, MAX, MAX, MAX, MAX],\n",
    "            [MAX, MAX, MAX, MAX, MAX, MAX, 60, 60, MAX, MAX],\n",
    "            [MAX, MAX, MAX, MAX, MAX, MAX, MAX, MAX, 60, 60]\n",
    "          ]\n",
    "\n",
    "problema1 = ProblemaEj9( \n",
    "    list(range(num_profesores)),\n",
    "    decodifica_ej9,\n",
    "    fun_mutar,\n",
    "    fun_cruzar,\n",
    "    fitness_ej9,\n",
    "    num_profesores,\n",
    "    num_actividades,\n",
    "    tiempos1\n",
    ")\n",
    "\n",
    "#Prueba2\n",
    "tiempos2 = [ \n",
    "            [60, 60, 60, MAX, MAX, MAX, MAX, MAX, MAX, MAX],\n",
    "            [60, 60, 60, 60, MAX, MAX, MAX, MAX, MAX, MAX],\n",
    "            [60, 60, 60, 60, 60, 60, MAX, MAX, MAX, MAX],\n",
    "            [60, 60, 60, 60, MAX, 60, 60, MAX, MAX, MAX],\n",
    "            [60, 60, 60, 60, 60, 60, 60, 60, 60, 60]\n",
    "          ]\n",
    "\n",
    "problema2 = ProblemaEj9( \n",
    "    list(range(num_profesores)),\n",
    "    decodifica_ej9,\n",
    "    fun_mutar,\n",
    "    fun_cruzar,\n",
    "    fitness_ej9,\n",
    "    num_profesores,\n",
    "    num_actividades,\n",
    "    tiempos2\n",
    ")\n",
    "\n",
    "#Prueba3\n",
    "tiempos3 = [ \n",
    "            [60, 60, 60, MAX, MAX, MAX, MAX, MAX, MAX, MAX],\n",
    "            [60, 60, 60, 60, MAX, MAX, MAX, MAX, MAX, MAX],\n",
    "            [60, 60, 60, 60, 60, 60, MAX, MAX, MAX, MAX],\n",
    "            [60, 60, 60, 60, MAX, 60, 60, 60, MAX, MAX],\n",
    "            [60, 60, 60, 60, 60, 60, 60, 60, 60, 60]\n",
    "          ]\n",
    "\n",
    "problema3 = ProblemaEj9( \n",
    "    list(range(num_profesores)),\n",
    "    decodifica_ej9,\n",
    "    fun_mutar,\n",
    "    fun_cruzar,\n",
    "    fitness_ej9,\n",
    "    num_profesores,\n",
    "    num_actividades,\n",
    "    tiempos3\n",
    ")"
   ]
  },
  {
   "cell_type": "code",
   "execution_count": 32,
   "metadata": {},
   "outputs": [],
   "source": [
    "def poblacion_inicial_ej9(problema_genetico, size):\n",
    "    k = []\n",
    "    for _ in range(size):\n",
    "        l = []\n",
    "        for _ in range(problema_genetico.num_actividades):\n",
    "            l.append(random.choice(problema_genetico.genes))\n",
    "        k.append(l)\n",
    "    return k"
   ]
  },
  {
   "cell_type": "code",
   "execution_count": 33,
   "metadata": {},
   "outputs": [
    {
     "data": {
      "text/plain": [
       "[[2, 1, 0, 3, 4, 4, 0, 4, 2, 2],\n",
       " [1, 0, 1, 1, 0, 1, 1, 1, 3, 3],\n",
       " [3, 4, 4, 1, 0, 4, 0, 3, 4, 0]]"
      ]
     },
     "execution_count": 33,
     "metadata": {},
     "output_type": "execute_result"
    }
   ],
   "source": [
    "poblacion_inicial_ej9(problema1, 3) # 3 es el número de poblaciones que queremos generar (cada elemento del vector es el profesor que hace esa actividad)"
   ]
  },
  {
   "cell_type": "markdown",
   "metadata": {},
   "source": [
    "La función decodifica_ej9 devuelve dos valores:\n",
    "1. Lista de tuplas: Cada una de las tuplas, es a su vez dos tuplas, la primera de ella compuesta por el profesor y la actividad que realiza; y la segunda compuesta por el tiempo en el que se inicia dicha actividad, y el tiempo en el que finaliza.\n",
    "2. Tiempo que vamos a necesitar para impartir todos los talleres."
   ]
  },
  {
   "cell_type": "code",
   "execution_count": 34,
   "metadata": {},
   "outputs": [],
   "source": [
    "def decodifica_ej9(cromosoma, num_profesores, num_actividades, tiempos):\n",
    "    tiempoTotal = 0\n",
    "    listaTareas = []\n",
    "    tImpartidoPorCadaProfesor = [0 for i in range(num_profesores)]\n",
    "    \n",
    "    for i in range(len(cromosoma)):\n",
    "        tiempoProfesorAntes = tImpartidoPorCadaProfesor[cromosoma[i]]\n",
    "        tImpartidoPorCadaProfesor[cromosoma[i]] += tiempos[cromosoma[i]][i]\n",
    "        tiempoProfesorDespues = tImpartidoPorCadaProfesor[cromosoma[i]] \n",
    "        listaTareas.append(((cromosoma[i], i),(tiempoProfesorAntes, tiempoProfesorDespues)))\n",
    "    return (tuple(listaTareas), max(tImpartidoPorCadaProfesor))"
   ]
  },
  {
   "cell_type": "code",
   "execution_count": 35,
   "metadata": {},
   "outputs": [
    {
     "data": {
      "text/plain": [
       "((((0, 0), (0, 60)),\n",
       "  ((0, 1), (60, 120)),\n",
       "  ((1, 2), (0, 60)),\n",
       "  ((1, 3), (60, 120)),\n",
       "  ((2, 4), (0, 60)),\n",
       "  ((2, 5), (60, 120)),\n",
       "  ((3, 6), (0, 60)),\n",
       "  ((3, 7), (60, 120)),\n",
       "  ((4, 8), (0, 60)),\n",
       "  ((4, 9), (60, 120))),\n",
       " 120)"
      ]
     },
     "execution_count": 35,
     "metadata": {},
     "output_type": "execute_result"
    }
   ],
   "source": [
    "decodifica_ej9([0,0,1,1,2,2,3,3,4,4],num_profesores, num_actividades, tiempos1)"
   ]
  },
  {
   "cell_type": "code",
   "execution_count": 36,
   "metadata": {},
   "outputs": [
    {
     "data": {
      "text/plain": [
       "((((0, 0), (0, 60)),\n",
       "  ((0, 1), (60, 120)),\n",
       "  ((1, 2), (0, 60)),\n",
       "  ((1, 3), (60, 120)),\n",
       "  ((2, 4), (0, 60)),\n",
       "  ((3, 5), (0, 60)),\n",
       "  ((3, 6), (60, 120)),\n",
       "  ((4, 7), (0, 60)),\n",
       "  ((4, 8), (60, 120)),\n",
       "  ((4, 9), (120, 180))),\n",
       " 180)"
      ]
     },
     "execution_count": 36,
     "metadata": {},
     "output_type": "execute_result"
    }
   ],
   "source": [
    "decodifica_ej9([0,0,1,1,2,3,3,4,4,4],num_profesores, num_actividades, tiempos2)"
   ]
  },
  {
   "cell_type": "code",
   "execution_count": 37,
   "metadata": {},
   "outputs": [
    {
     "data": {
      "text/plain": [
       "((((0, 0), (0, 60)),\n",
       "  ((0, 1), (60, 120)),\n",
       "  ((1, 2), (0, 60)),\n",
       "  ((1, 3), (60, 120)),\n",
       "  ((2, 4), (0, 60)),\n",
       "  ((2, 5), (60, 120)),\n",
       "  ((3, 6), (0, 60)),\n",
       "  ((3, 7), (60, 120)),\n",
       "  ((4, 8), (0, 60)),\n",
       "  ((4, 9), (60, 120))),\n",
       " 120)"
      ]
     },
     "execution_count": 37,
     "metadata": {},
     "output_type": "execute_result"
    }
   ],
   "source": [
    "decodifica_ej9([0,0,1,1,2,2,3,3,4,4],num_profesores, num_actividades, tiempos3)"
   ]
  },
  {
   "cell_type": "code",
   "execution_count": 38,
   "metadata": {},
   "outputs": [],
   "source": [
    "def fitness_ej9(cromosoma, num_profesores, num_actividades, tiempos):\n",
    "    tiempoTotal = 0\n",
    "    tImpartidoPorCadaProfesor = [0 for i in range(num_profesores)]\n",
    "    \n",
    "    for i in range(len(cromosoma)):\n",
    "        tiempoProfesorAntes = tImpartidoPorCadaProfesor[cromosoma[i]]\n",
    "        tImpartidoPorCadaProfesor[cromosoma[i]] += tiempos[cromosoma[i]][i]\n",
    "        tiempoProfesorDespues = tImpartidoPorCadaProfesor[cromosoma[i]] \n",
    "    return (max(tImpartidoPorCadaProfesor))"
   ]
  },
  {
   "cell_type": "code",
   "execution_count": 39,
   "metadata": {},
   "outputs": [],
   "source": [
    "# Sus argumentos son:\n",
    "# problema_genetico: una instancia de la clase ProblemaGenetico con la representación adecuada del problema de optimización \n",
    "# que se quiere resolver.\n",
    "# k: número de participantes en los torneos de selección.\n",
    "# opt: max ó min, dependiendo si el problema es de maximización o de minimización. \n",
    "# nGen: número de generaciones (que se usa como condición de terminación)\n",
    "# size: número de individuos en cada generación\n",
    "# prop_cruce: proporción del total de la población que serán padres. \n",
    "# prob_mutación: probabilidad de realizar una mutación de un gen.\n",
    "\n",
    "def algoritmo_genetico_ej9(problema_genetico,k,opt,ngen,size,prop_cruces,prob_mutar):\n",
    "    poblacion = poblacion_inicial_ej9(problema_genetico,size)\n",
    "    n_padres =round(size*prop_cruces)\n",
    "    n_padres = int (n_padres if n_padres%2==0 else n_padres-1)\n",
    "    n_directos = size-n_padres\n",
    "    for _ in range(ngen):\n",
    "        poblacion = nueva_generacion(problema_genetico,k,opt,poblacion,n_padres, n_directos,prob_mutar)\n",
    "\n",
    "    mejor_cr = opt(poblacion, key=problema_genetico.fitness)\n",
    "    mejor = problema_genetico.decodifica(mejor_cr)\n",
    "    return (mejor,problema_genetico.fitness(mejor_cr)) "
   ]
  },
  {
   "cell_type": "code",
   "execution_count": 48,
   "metadata": {},
   "outputs": [
    {
     "data": {
      "text/plain": [
       "(((((0, 0), (0, 60)),\n",
       "   ((3, 1), (0, 10000)),\n",
       "   ((2, 2), (0, 10000)),\n",
       "   ((0, 3), (60, 10060)),\n",
       "   ((3, 4), (10000, 20000)),\n",
       "   ((1, 5), (0, 10000)),\n",
       "   ((1, 6), (10000, 20000)),\n",
       "   ((4, 7), (0, 10000)),\n",
       "   ((2, 8), (10000, 20000)),\n",
       "   ((4, 9), (10000, 10060))),\n",
       "  20000),\n",
       " 20000)"
      ]
     },
     "execution_count": 48,
     "metadata": {},
     "output_type": "execute_result"
    }
   ],
   "source": [
    "algoritmo_genetico_ej9(problema1,100,min,100,100,0,0)"
   ]
  },
  {
   "cell_type": "code",
   "execution_count": 49,
   "metadata": {},
   "outputs": [
    {
     "name": "stdout",
     "output_type": "stream",
     "text": [
      "20000 :  48.3  %\n",
      "10120 :  26.1  %\n",
      "20060 :  19.7  %\n",
      "10060 :  5.7  %\n",
      "20120 :  0.2  %\n"
     ]
    }
   ],
   "source": [
    "minDict = dict()\n",
    "for _ in range(1000):\n",
    "    result = algoritmo_genetico_ej9(problema1, 3, min, 20, 15, 0.75, 0.25)\n",
    "    if result[1] in minDict:\n",
    "        minDict[result[1]] += 1\n",
    "    else:\n",
    "        minDict[result[1]] = 1\n",
    "\n",
    "minSorted = sorted(minDict.items(), key = operator.itemgetter(1), reverse = True)\n",
    "for result in minSorted:\n",
    "    print(result[0], ': ', round( result[1] / 10, 2), ' %' )"
   ]
  },
  {
   "cell_type": "markdown",
   "metadata": {},
   "source": [
    "Hemos ejecutado \"poblacion_inicial_ej9\" para que se puedan observar las distintas poblaciones que se generan, está formado por un vector que son las distintas actividades que hay, cada número dentro de ese vector es el profesor que puede impartirla. Así por ejemplo para el caso [1,0,0] significa que la asignatura o la imparte el profesor 1, y las asignaturas 1 y 2 son impartidas por el profesor 0.\n",
    "También hemos ejecutado \"decodifica_ej9\" con los 3 primeros ejemplos que nos daban en el campus, se puede apreciar que pasándole un cromosoma óptimo, nos devuelve las tuplas (profesor, actividad), (tiempo inciial, tiempo final) y el mejor de los fitness, por lo cual vemos que funciona correctamente.\n",
    "\n",
    "Sin embargo al ejecutar \"algoritmo_genetico_ej9\" un número elevado de veces, podemos observar que  muy pocas veces nos da una solución válida, pensamos que es porque no descartamos los malos cromosomas previamente, pero no tenemos muy claro ni dónde ni como habría que hacerlo. Otra cosa que también nos ha faltado es el pasarle la restricción de jerarquía de que una actividad es prioritaria sobre otra, en el plantamiento más o menos hemos escrito la idea que teníamos mediante una matriz, pero que tampoco hemos conseguido implementar de forma correcta."
   ]
  }
 ],
 "metadata": {
  "kernelspec": {
   "display_name": "Python 3",
   "language": "python",
   "name": "python3"
  },
  "language_info": {
   "codemirror_mode": {
    "name": "ipython",
    "version": 3
   },
   "file_extension": ".py",
   "mimetype": "text/x-python",
   "name": "python",
   "nbconvert_exporter": "python",
   "pygments_lexer": "ipython3",
   "version": "3.8.3"
  }
 },
 "nbformat": 4,
 "nbformat_minor": 2
}
