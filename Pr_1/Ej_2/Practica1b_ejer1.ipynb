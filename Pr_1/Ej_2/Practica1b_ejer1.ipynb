{
 "cells": [
  {
   "cell_type": "markdown",
   "metadata": {},
   "source": [
    "##### Grupo 2 - ADRIÁN TURIEL CHARRO, HONG XIANG CHEN, PABLO CIDONCHA CÓZAR\n",
    "# Práctica 1. Resolución de problemas con búsqueda. Parte B."
   ]
  },
  {
   "cell_type": "code",
   "execution_count": 1,
   "metadata": {},
   "outputs": [
    {
     "name": "stdout",
     "output_type": "stream",
     "text": [
      "C:\\Users\\aturi\\Ejercicios Python\\Practica1\\aima-python\n"
     ]
    }
   ],
   "source": [
    "cd ../Practica1/aima-python"
   ]
  },
  {
   "cell_type": "code",
   "execution_count": 34,
   "metadata": {},
   "outputs": [],
   "source": [
    "from search import *"
   ]
  },
  {
   "cell_type": "code",
   "execution_count": 35,
   "metadata": {},
   "outputs": [],
   "source": [
    "   class Problem(object):\n",
    "\n",
    "    \"\"\"The abstract class for a formal problem. You should subclass\n",
    "    this and implement the methods actions and result, and possibly\n",
    "    __init__, goal_test, and path_cost. Then you will create instances\n",
    "    of your subclass and solve them with the various search functions.\"\"\"\n",
    "\n",
    "    def __init__(self, initial, goal=None):\n",
    "        \"\"\"The constructor specifies the initial state, and possibly a goal\n",
    "        state, if there is a unique goal. Your subclass's constructor can add\n",
    "        other arguments.\"\"\"\n",
    "        self.initial = initial\n",
    "        self.goal = goal\n",
    "\n",
    "    def actions(self, state):\n",
    "        \"\"\"Return the actions that can be executed in the given\n",
    "        state. The result would typically be a list, but if there are\n",
    "        many actions, consider yielding them one at a time in an\n",
    "        iterator, rather than building them all at once.\"\"\"\n",
    "        raise NotImplementedError\n",
    "\n",
    "    def result(self, state, action):\n",
    "        \"\"\"Return the state that results from executing the given\n",
    "        action in the given state. The action must be one of\n",
    "        self.actions(state).\"\"\"\n",
    "        raise NotImplementedError\n",
    "\n",
    "    def goal_test(self, state):\n",
    "        \"\"\"Return True if the state is a goal. The default method compares the\n",
    "        state to self.goal or checks for state in self.goal if it is a\n",
    "        list, as specified in the constructor. Override this method if\n",
    "        checking against a single self.goal is not enough.\"\"\"\n",
    "        if isinstance(self.goal, list):\n",
    "            return is_in(state, self.goal)\n",
    "        else:\n",
    "            return state == self.goal\n",
    "\n",
    "    def path_cost(self, c, state1, action, state2):\n",
    "        \"\"\"Return the cost of a solution path that arrives at state2 from\n",
    "        state1 via action, assuming cost c to get up to state1. If the problem\n",
    "        is such that the path doesn't matter, this function will only look at\n",
    "        state2.  If the path does matter, it will consider c and maybe state1\n",
    "        and action. The default method costs 1 for every step in the path.\"\"\"\n",
    "        return c + 1\n",
    "\n",
    "    def value(self, state):\n",
    "        \"\"\"For optimization problems, each state has a value.  Hill-climbing\n",
    "        and related algorithms try to maximize this value.\"\"\"\n",
    "        raise NotImplementedError\n",
    "\n",
    "    def coste_de_aplicar_accion(self, estado, accion):\n",
    "        \"\"\"Hemos incluido está función que devuelve el coste de un único operador (aplicar accion a estado). Por defecto, este\n",
    "        coste es 1. Reimplementar si el problema define otro coste \"\"\" \n",
    "        return 1"
   ]
  },
  {
   "cell_type": "code",
   "execution_count": 36,
   "metadata": {},
   "outputs": [],
   "source": [
    "class Puente(Problem):\n",
    "\n",
    "    def init(self, initial=None, goal=(300, (), (10, 30, 60, 80, 120), 1) ):\n",
    "        # Tiempo / Gente orilla A / Gente orilla B / Orilla literna\n",
    "        self.initial = initial\n",
    "        self.goal = goal\n",
    "\n",
    "\n",
    "    def actions(self, state):\n",
    "        tiempo, orillaA, orillaB, linterna = state\n",
    "        accs=list()\n",
    "\n",
    "        longX = len(orillaA)\n",
    "        longY = len(orillaA)\n",
    "\n",
    "        if linterna == 0: \n",
    "            for x in range(longX):\n",
    "                for y in range(x+1, longY):\n",
    "                    if(tiempo + max(orillaA[x], orillaA[y]))<=300:\n",
    "                        accs.append(('Ir', (orillaA[x], orillaA[y])))\n",
    "        else:\n",
    "            for x in orillaB:\n",
    "                accs.append(('Volver', (x)))\n",
    "        return accs\n",
    "\n",
    "    def result(self, state, action):\n",
    "        tiempo, orillaA, orillaB, linterna = state\n",
    "        mover, valores = action\n",
    "        listA = list(orillaA)\n",
    "        listB = list(orillaB)\n",
    "\n",
    "        if mover=='Ir':\n",
    "            x, y = valores\n",
    "            listA.remove((x))\n",
    "            listA.remove((y))\n",
    "            listB.append((x))\n",
    "            listB.append((y))\n",
    "            linterna=1\n",
    "            tiempo += max(x,y)\n",
    "        elif mover=='Volver':\n",
    "            listA.append((valores))\n",
    "            listB.remove((valores))\n",
    "            linterna=0\n",
    "            tiempo += valores\n",
    "\n",
    "        return tiempo, tuple(listA), tuple(listB), linterna\n",
    "\n",
    "    def goal_test(self, state):\n",
    "        tiempo, a, b, orilla = state\n",
    "        return orilla==1 and len(b) == 5 and tiempo <= 300\n",
    "\n",
    "    def coste_de_aplicar_accion(self, estado, accion):\n",
    "        mover, valores = accion\n",
    "\n",
    "        if mover == 'Ir':\n",
    "            x,y = valores\n",
    "            return max(x, y)\n",
    "        else:\n",
    "            return valores\n"
   ]
  },
  {
   "cell_type": "code",
   "execution_count": 37,
   "metadata": {},
   "outputs": [],
   "source": [
    "def linear(node):\n",
    "        tiempo, orillaA, orillaB, linterna = node.state\n",
    "        restantesOrillaA = len(orillaA)\n",
    "        if linterna == 0:\n",
    "            return restantesOrillaA*2 - 1\n",
    "        else:\n",
    "            return restantesOrillaA*2"
   ]
  },
  {
   "cell_type": "code",
   "execution_count": 38,
   "metadata": {},
   "outputs": [
    {
     "data": {
      "text/plain": [
       "(0, (10, 30, 60, 80, 120), (), 0)"
      ]
     },
     "execution_count": 38,
     "metadata": {},
     "output_type": "execute_result"
    }
   ],
   "source": [
    "p = Puente((0, (10, 30, 60, 80, 120), (), 0))\n",
    "p.initial"
   ]
  },
  {
   "cell_type": "code",
   "execution_count": 39,
   "metadata": {},
   "outputs": [
    {
     "data": {
      "text/plain": [
       "[('Ir', (10, 60)),\n",
       " ('Volver', 10),\n",
       " ('Ir', (30, 10)),\n",
       " ('Volver', 10),\n",
       " ('Ir', (80, 120)),\n",
       " ('Volver', 30),\n",
       " ('Ir', (10, 30))]"
      ]
     },
     "execution_count": 39,
     "metadata": {},
     "output_type": "execute_result"
    }
   ],
   "source": [
    "depth_first_graph_search(p).solution()"
   ]
  },
  {
   "cell_type": "code",
   "execution_count": 40,
   "metadata": {},
   "outputs": [
    {
     "data": {
      "text/plain": [
       "120"
      ]
     },
     "execution_count": 40,
     "metadata": {},
     "output_type": "execute_result"
    }
   ],
   "source": [
    "p.coste_de_aplicar_accion(p.initial, ('Ir', (10, 120)))"
   ]
  },
  {
   "cell_type": "code",
   "execution_count": 41,
   "metadata": {},
   "outputs": [
    {
     "name": "stdout",
     "output_type": "stream",
     "text": [
      "8.49 ms ± 742 µs per loop (mean ± std. dev. of 7 runs, 100 loops each)\n"
     ]
    }
   ],
   "source": [
    "%%timeit\n",
    "breadth_first_tree_search(p).solution()"
   ]
  },
  {
   "cell_type": "code",
   "execution_count": 42,
   "metadata": {},
   "outputs": [
    {
     "name": "stdout",
     "output_type": "stream",
     "text": [
      "91.9 ms ± 16.2 ms per loop (mean ± std. dev. of 7 runs, 10 loops each)\n"
     ]
    }
   ],
   "source": [
    "%%timeit\n",
    "breadth_first_graph_search(p).solution()"
   ]
  },
  {
   "cell_type": "code",
   "execution_count": 43,
   "metadata": {},
   "outputs": [
    {
     "name": "stdout",
     "output_type": "stream",
     "text": [
      "5.37 ms ± 136 µs per loop (mean ± std. dev. of 7 runs, 100 loops each)\n"
     ]
    }
   ],
   "source": [
    "%%timeit\n",
    "depth_first_tree_search(p).solution()"
   ]
  },
  {
   "cell_type": "code",
   "execution_count": 44,
   "metadata": {
    "scrolled": true
   },
   "outputs": [
    {
     "name": "stdout",
     "output_type": "stream",
     "text": [
      "7.06 ms ± 188 µs per loop (mean ± std. dev. of 7 runs, 100 loops each)\n"
     ]
    }
   ],
   "source": [
    "%%timeit\n",
    "depth_first_graph_search(p).solution()"
   ]
  },
  {
   "cell_type": "code",
   "execution_count": 45,
   "metadata": {},
   "outputs": [
    {
     "name": "stdout",
     "output_type": "stream",
     "text": [
      "1.12 ms ± 63.7 µs per loop (mean ± std. dev. of 7 runs, 1000 loops each)\n"
     ]
    }
   ],
   "source": [
    "%%timeit\n",
    "best_first_graph_search(p, linear).solution()"
   ]
  },
  {
   "cell_type": "code",
   "execution_count": 46,
   "metadata": {},
   "outputs": [
    {
     "name": "stdout",
     "output_type": "stream",
     "text": [
      "192 ms ± 4.67 ms per loop (mean ± std. dev. of 7 runs, 10 loops each)\n"
     ]
    }
   ],
   "source": [
    "%%timeit\n",
    "astar_search(p, linear).solution()"
   ]
  },
  {
   "cell_type": "code",
   "execution_count": 47,
   "metadata": {},
   "outputs": [
    {
     "name": "stdout",
     "output_type": "stream",
     "text": [
      "195 ms ± 15.8 ms per loop (mean ± std. dev. of 7 runs, 10 loops each)\n"
     ]
    }
   ],
   "source": [
    "%%timeit\n",
    "uniform_cost_search(p).solution()"
   ]
  },
  {
   "cell_type": "markdown",
   "metadata": {},
   "source": [
    "## Memoria\n",
    "Hemos ejecutado los distintos algoritmos de búsqueda con el timeit para ver cuál es el más eficiente de todos ellos, y sacar nuestras propias conclusiones. En este caso al ser un ejemplo pequeño, podríamos usar cualquier algoritmo, ya que no hay grandes diferencias de tiempos entre ellos, sin embargo, dentro de todos ellos cabe destacar que hemos utilizado el algoritmo de primero el mejor para resolverlo ya que es con el que hemos obtenido resultado más rápidos, y si nos paramos a analizarlo tiene sentido porque expande las ramas del nodo más prometedor del nivel actual, y así sucesivamente hasta llegar a encontrar una solución óptima y eficiente.\n",
    "\n",
    "Cuando estudiamos los nodos de un nivel, gestionamos los nodos abiertos con una cola de prioridad, donde estarán ordenados por la evaluación de su heurística. La nuestra estudia el número de viajes que necesitamos hacer para que todos crucen el puente, en función de la orilla en la que estemos y de las personas que quedan en la orilla A. Básicamente contamos el número de viajes, y se trata de un algoritmo de búsqueda linear. La heurística que hemos creado no es admisible, ya que el coste real es menor que el resultado que obtenemos, por lo tanto, tampoco es consistente. Explicación de por qué es mala nuestra primera heurística: la información que tenemos inicialmente en el primer nodo es: 3 personas en la orilla A y 0 en B; a raíz de eso tendremos 3 nodos en la siguiente altura (las 3 combinaciones posibles al viajar 2 personas), pero en todos esos casos, habrá 1 persona en A y 2 en B; y aplicando nuestra heurística, que busca el menor número de viajes, será ineficaz, ya que siempre va a dar la misma evaluación, pues al final acaba recorriendo el árbol como un algoritmo de profundidad. Sabemos que no es una buena heurística, pero la comprendemos y este es nuestro análisis.\n",
    "\n",
    "\n",
    "## Complejidad\n",
    "La complejidad del algoritmo primero el mejor es O(r^m) dónde r es el factor de ramificación, y m la profundidad máxima del árbol de búsqueda. Factor de ramificación es: 10 (Número de combinaciones totales por pares de elementos) m: 9 (según nuestra heurística).\n",
    "\n",
    "O(10^9)"
   ]
  },
  {
   "cell_type": "code",
   "execution_count": 48,
   "metadata": {},
   "outputs": [
    {
     "name": "stdout",
     "output_type": "stream",
     "text": [
      "963 µs ± 32.4 µs per loop (mean ± std. dev. of 7 runs, 1000 loops each)\n"
     ]
    }
   ],
   "source": [
    "%%timeit\n",
    "best_first_graph_search(p, linear).solution()"
   ]
  }
 ],
 "metadata": {
  "kernelspec": {
   "display_name": "Python 3",
   "language": "python",
   "name": "python3"
  },
  "language_info": {
   "codemirror_mode": {
    "name": "ipython",
    "version": 3
   },
   "file_extension": ".py",
   "mimetype": "text/x-python",
   "name": "python",
   "nbconvert_exporter": "python",
   "pygments_lexer": "ipython3",
   "version": "3.8.3"
  }
 },
 "nbformat": 4,
 "nbformat_minor": 4
}
