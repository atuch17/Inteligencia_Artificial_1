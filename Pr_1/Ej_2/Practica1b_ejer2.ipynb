{
 "cells": [
  {
   "cell_type": "markdown",
   "metadata": {},
   "source": [
    "##### Grupo 2 - ADRIÁN TURIEL CHARRO, HONG XIANG CHEN, PABLO CIDONCHA CÓZAR\n",
    "# Práctica 1. Resolución de problemas con búsqueda. Parte B."
   ]
  },
  {
   "cell_type": "code",
   "execution_count": 2,
   "metadata": {},
   "outputs": [
    {
     "name": "stdout",
     "output_type": "stream",
     "text": [
      "C:\\Users\\aturi\\Ejercicios Python\\Practica1\\aima-python\n"
     ]
    }
   ],
   "source": [
    "cd ../Practica1/aima-python"
   ]
  },
  {
   "cell_type": "code",
   "execution_count": 3,
   "metadata": {},
   "outputs": [],
   "source": [
    "from search import *"
   ]
  },
  {
   "cell_type": "code",
   "execution_count": 4,
   "metadata": {},
   "outputs": [],
   "source": [
    "from itertools import permutations"
   ]
  },
  {
   "cell_type": "code",
   "execution_count": 5,
   "metadata": {},
   "outputs": [],
   "source": [
    "class Problem(object):\n",
    "\n",
    "    \"\"\"The abstract class for a formal problem. You should subclass\n",
    "    this and implement the methods actions and result, and possibly\n",
    "    __init__, goal_test, and path_cost. Then you will create instances\n",
    "    of your subclass and solve them with the various search functions.\"\"\"\n",
    "\n",
    "    def __init__(self, initial, goal=None):\n",
    "        \"\"\"The constructor specifies the initial state, and possibly a goal\n",
    "        state, if there is a unique goal. Your subclass's constructor can add\n",
    "        other arguments.\"\"\"\n",
    "        self.initial = initial\n",
    "        self.goal = goal\n",
    "\n",
    "    def actions(self, state):\n",
    "        \"\"\"Return the actions that can be executed in the given\n",
    "        state. The result would typically be a list, but if there are\n",
    "        many actions, consider yielding them one at a time in an\n",
    "        iterator, rather than building them all at once.\"\"\"\n",
    "        raise NotImplementedError\n",
    "\n",
    "    def result(self, state, action):\n",
    "        \"\"\"Return the state that results from executing the given\n",
    "        action in the given state. The action must be one of\n",
    "        self.actions(state).\"\"\"\n",
    "        raise NotImplementedError\n",
    "\n",
    "    def goal_test(self, state):\n",
    "        \"\"\"Return True if the state is a goal. The default method compares the\n",
    "        state to self.goal or checks for state in self.goal if it is a\n",
    "        list, as specified in the constructor. Override this method if\n",
    "        checking against a single self.goal is not enough.\"\"\"\n",
    "        if isinstance(self.goal, list):\n",
    "            return is_in(state, self.goal)\n",
    "        else:\n",
    "            return state == self.goal\n",
    "\n",
    "    def path_cost(self, c, state1, action, state2):\n",
    "        \"\"\"Return the cost of a solution path that arrives at state2 from\n",
    "        state1 via action, assuming cost c to get up to state1. If the problem\n",
    "        is such that the path doesn't matter, this function will only look at\n",
    "        state2.  If the path does matter, it will consider c and maybe state1\n",
    "        and action. The default method costs 1 for every step in the path.\"\"\"\n",
    "        return c + 1\n",
    "\n",
    "    def value(self, state):\n",
    "        \"\"\"For optimization problems, each state has a value.  Hill-climbing\n",
    "        and related algorithms try to maximize this value.\"\"\"\n",
    "        raise NotImplementedError\n",
    "\n",
    "    def coste_de_aplicar_accion(self, estado, accion):\n",
    "        \"\"\"Hemos incluido está función que devuelve el coste de un único operador (aplicar accion a estado). Por defecto, \n",
    "        este coste es 1. Reimplementar si el problema define otro coste \"\"\" \n",
    "        return 1"
   ]
  },
  {
   "cell_type": "code",
   "execution_count": 6,
   "metadata": {},
   "outputs": [],
   "source": [
    "class PuzleMates(Problem):\n",
    "        \n",
    "    def init(self, initial=None, goal=None):\n",
    "        # Nums Dados / Operaciones / Resultado\n",
    "        self.initial = initial\n",
    "        self.goal = goal\n",
    "\n",
    "    def actions(self, state):        \n",
    "        num = state[0]\n",
    "        relleno = [1,2,3,4,5,6,7,8,9]\n",
    "        \n",
    "        mis_permutaciones=list(sorted(permutations(relleno))) # print(len(mis_permutaciones)) imprime: 362880\n",
    "        \n",
    "        # Ahora mezclamos esto con num\n",
    "        accs=list()        \n",
    "        for w in range(len(mis_permutaciones)):                # para cada combinacion posible\n",
    "            i=0\n",
    "            combinaciones = []\n",
    "            for x in num:                                      # recorro los ceros\n",
    "                if x == 0:\n",
    "                    aux = mis_permutaciones[w][i]\n",
    "                    combinaciones.append(aux)                  # y los cambio\n",
    "                    i=i+1\n",
    "                else:\n",
    "                    combinaciones.append(x)      \n",
    "            accs.append(combinaciones)                         # guardamos las combinaciones generadas\n",
    "            \n",
    "        return accs\n",
    "\n",
    "    def result(self, state, action):    \n",
    "        num, op, resultado = state\n",
    "        \n",
    "        combinaciones = action\n",
    "        ret = action[0]                                      \n",
    "                        \n",
    "        for i in range(1, len(combinaciones)):\n",
    "            if op[i-1]=='+':\n",
    "                ret += combinaciones[i]\n",
    "            elif op[i-1]=='-':\n",
    "                ret -= combinaciones[i]\n",
    "            elif op[i-1]=='*':\n",
    "                ret *= combinaciones[i]\n",
    "            elif op[i-1]==':':\n",
    "                ret /= combinaciones[i]\n",
    "        \n",
    "        ret -= resultado\n",
    "        return num, op, ret \n",
    "\n",
    "    def goal_test(self, state):\n",
    "        #state[2] = ret\n",
    "        return state[2] == 0\n",
    "    \n",
    "    def coste_de_aplicar_accion(self, estado, accion):\n",
    "        return 1"
   ]
  },
  {
   "cell_type": "code",
   "execution_count": 7,
   "metadata": {},
   "outputs": [],
   "source": [
    "p = PuzleMates((\n",
    "    (0,13,0,0,0,12,0,0,11,0,0,0,10),\n",
    "    ('+','*',':','+','+','*','-','-','+','*',':','-','='),\n",
    "    66))"
   ]
  },
  {
   "cell_type": "code",
   "execution_count": 8,
   "metadata": {},
   "outputs": [
    {
     "data": {
      "text/plain": [
       "((0, 13, 0, 0, 0, 12, 0, 0, 11, 0, 0, 0, 10),\n",
       " ('+', '*', ':', '+', '+', '*', '-', '-', '+', '*', ':', '-', '='),\n",
       " 66)"
      ]
     },
     "execution_count": 8,
     "metadata": {},
     "output_type": "execute_result"
    }
   ],
   "source": [
    "p.initial"
   ]
  },
  {
   "cell_type": "code",
   "execution_count": 9,
   "metadata": {},
   "outputs": [
    {
     "data": {
      "text/plain": [
       "((0, 13, 0, 0, 0, 12, 0, 0, 11, 0, 0, 0, 10),\n",
       " ('+', '*', ':', '+', '+', '*', '-', '-', '+', '*', ':', '-', '='),\n",
       " 0.0)"
      ]
     },
     "execution_count": 9,
     "metadata": {},
     "output_type": "execute_result"
    }
   ],
   "source": [
    "p.result(p.initial, (5,13,8,6,7,12,1,3,11,9,4,2,10))"
   ]
  },
  {
   "cell_type": "code",
   "execution_count": 10,
   "metadata": {},
   "outputs": [
    {
     "data": {
      "text/plain": [
       "1"
      ]
     },
     "execution_count": 10,
     "metadata": {},
     "output_type": "execute_result"
    }
   ],
   "source": [
    "p.coste_de_aplicar_accion(p.initial, (5,13,8,6,7,12,1,3,11,9,4,2,10))"
   ]
  },
  {
   "cell_type": "code",
   "execution_count": 11,
   "metadata": {},
   "outputs": [
    {
     "data": {
      "text/plain": [
       "[[1, 13, 2, 4, 7, 12, 5, 8, 11, 3, 6, 9, 10]]"
      ]
     },
     "execution_count": 11,
     "metadata": {},
     "output_type": "execute_result"
    }
   ],
   "source": [
    "breadth_first_graph_search(p).solution()"
   ]
  },
  {
   "cell_type": "code",
   "execution_count": 14,
   "metadata": {},
   "outputs": [],
   "source": [
    "#%%timeit\n",
    "#breadth_first_tree_search(p).solution()"
   ]
  },
  {
   "cell_type": "code",
   "execution_count": 15,
   "metadata": {},
   "outputs": [
    {
     "name": "stdout",
     "output_type": "stream",
     "text": [
      "2.92 s ± 169 ms per loop (mean ± std. dev. of 7 runs, 1 loop each)\n"
     ]
    }
   ],
   "source": [
    "%%timeit\n",
    "breadth_first_graph_search(p).solution()"
   ]
  },
  {
   "cell_type": "code",
   "execution_count": null,
   "metadata": {},
   "outputs": [],
   "source": [
    "#%%timeit\n",
    "#depth_first_tree_search(p).solution()"
   ]
  },
  {
   "cell_type": "code",
   "execution_count": null,
   "metadata": {},
   "outputs": [],
   "source": [
    "#%%timeit\n",
    "#depth_first_graph_search(p).solution()"
   ]
  },
  {
   "cell_type": "code",
   "execution_count": 13,
   "metadata": {},
   "outputs": [
    {
     "ename": "NameError",
     "evalue": "name 'linear' is not defined",
     "output_type": "error",
     "traceback": [
      "\u001b[1;31m---------------------------------------------------------------------------\u001b[0m",
      "\u001b[1;31mNameError\u001b[0m                                 Traceback (most recent call last)",
      "\u001b[1;32m<ipython-input-13-0f86c099c3e8>\u001b[0m in \u001b[0;36m<module>\u001b[1;34m\u001b[0m\n\u001b[0;32m      1\u001b[0m \u001b[1;31m#%%timeit\u001b[0m\u001b[1;33m\u001b[0m\u001b[1;33m\u001b[0m\u001b[1;33m\u001b[0m\u001b[0m\n\u001b[1;32m----> 2\u001b[1;33m \u001b[0mbest_first_graph_search\u001b[0m\u001b[1;33m(\u001b[0m\u001b[0mp\u001b[0m\u001b[1;33m,\u001b[0m \u001b[0mlinear\u001b[0m\u001b[1;33m)\u001b[0m\u001b[1;33m.\u001b[0m\u001b[0msolution\u001b[0m\u001b[1;33m(\u001b[0m\u001b[1;33m)\u001b[0m\u001b[1;33m\u001b[0m\u001b[1;33m\u001b[0m\u001b[0m\n\u001b[0m",
      "\u001b[1;31mNameError\u001b[0m: name 'linear' is not defined"
     ]
    }
   ],
   "source": [
    "#%%timeit\n",
    "#best_first_graph_search(p, linear).solution()"
   ]
  },
  {
   "cell_type": "code",
   "execution_count": null,
   "metadata": {},
   "outputs": [],
   "source": [
    "#%%timeit\n",
    "#astar_search(p, linear).solution()"
   ]
  },
  {
   "cell_type": "code",
   "execution_count": 12,
   "metadata": {},
   "outputs": [],
   "source": [
    "#%%timeit\n",
    "#uniform_cost_search(p).solution()"
   ]
  },
  {
   "cell_type": "markdown",
   "metadata": {},
   "source": [
    "## Memoria\n",
    "Hemos ejecutado los distintos algoritmos de búsqueda con el timeit para ver cuál es el más eficiente de todos ellos, y sacar nuestras propias conclusiones.\n",
    "\n",
    "Para este problema, no se nos ha ocurrido ninguna heurística eficiente, ya que al tratarse de cadenas de operaciones, y \"no saber\" que cadena de caracteres viene a continuación, si la solución es grande y el número que vamos acumulando es pequeño, siempre vamos a poder multiplicar y sumar, o en caso contrario, si el número es muy grande, puede decrecer mediante divisiones o restas en cualquier momento. Por eso consideramos que proceso para generar la solución consistirá en ir ejecutando todas las combinaciones posibles hasta encontrar una solución, en caso de haberla (se trata de un algoritmo completo).\n",
    "\n",
    "Basándonos en lo que tenemos solo podemos usar los algoritmos que no prescinden de una heurística, así como: primero en anchura, coste uniforme y primero en profundidad. Aunque solo nos ha llegado a dar una solución para este caso el primero en anchura, para otro podría ser más optimo la búsqueda en profundidad, por ejemplo. Ambos acabarán mirando las mismas combinaciones, solo que en diferentes órdenes. Aunque este algoritmo (anchura) no hace control de repetidos, eso no es problema porque con nuestro código no se genera esas posibilidades. \n",
    "\n",
    "\n",
    "## Complejidad\n",
    "La complejidad del algoritmo de búsqueda en anchura sin repetición es O(r^p) dónde r es el factor de ramificación, y p la profundidad mínima del árbol de búsqueda. Factor de ramificación es: 362880 (Número de combinaciones totales de 1-9) m: 9 (porque es la profundidad mínima hasta encontrar la solución).\n",
    "\n",
    "O(362880^9) -> (es exponencial?)\n"
   ]
  },
  {
   "cell_type": "code",
   "execution_count": 12,
   "metadata": {},
   "outputs": [
    {
     "name": "stdout",
     "output_type": "stream",
     "text": [
      "3.47 s ± 211 ms per loop (mean ± std. dev. of 7 runs, 1 loop each)\n"
     ]
    }
   ],
   "source": [
    "%%timeit\n",
    "breadth_first_graph_search(p).solution()"
   ]
  },
  {
   "cell_type": "markdown",
   "metadata": {},
   "source": []
  }
 ],
 "metadata": {
  "kernelspec": {
   "display_name": "Python 3",
   "language": "python",
   "name": "python3"
  },
  "language_info": {
   "codemirror_mode": {
    "name": "ipython",
    "version": 3
   },
   "file_extension": ".py",
   "mimetype": "text/x-python",
   "name": "python",
   "nbconvert_exporter": "python",
   "pygments_lexer": "ipython3",
   "version": "3.8.3"
  }
 },
 "nbformat": 4,
 "nbformat_minor": 4
}
